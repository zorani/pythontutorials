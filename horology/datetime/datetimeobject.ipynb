{
 "cells": [
  {
   "cell_type": "code",
   "execution_count": null,
   "id": "asian-trance",
   "metadata": {},
   "outputs": [],
   "source": [
    "import datetime"
   ]
  },
  {
   "cell_type": "code",
   "execution_count": null,
   "id": "broadband-evans",
   "metadata": {},
   "outputs": [],
   "source": [
    "#date object, local time\n",
    "x=datetime.datetime.now()\n",
    "print(type(x))\n",
    "print(x)"
   ]
  },
  {
   "cell_type": "code",
   "execution_count": null,
   "id": "altered-mauritius",
   "metadata": {},
   "outputs": [],
   "source": [
    "#the date object has: year, month, day, hour, minute, second and microsecond\n",
    "print(x.year) \n",
    "print(x.month) \n",
    "print(x.day) \n",
    "print(x.hour) \n",
    "print(x.minute) \n",
    "print(x.second) \n",
    "print(x.microsecond)\n",
    "print(f\"{x.day}-{x.month}-{x.year},  {x.hour}:{x.minute}:{x.second}  \")"
   ]
  },
  {
   "cell_type": "code",
   "execution_count": null,
   "id": "bound-logic",
   "metadata": {},
   "outputs": [],
   "source": [
    "#You can also use format code, here are some of the many available.  strftime is similar but a different to the time.strftime()\n",
    "# One is coded to work on datetime objects, the other is coded to work on struct_time objects\n",
    "print(x.strftime(\"%Y\")) \n",
    "print(x.strftime(\"%m\")) \n",
    "print(x.strftime(\"%d\")) \n",
    "print(x.strftime(\"%H\")) \n",
    "print(x.strftime(\"%M\"))\n",
    "print(x.strftime(\"%S\"))\n",
    "print(x.strftime(\"%f\")) \n",
    "print(x.strftime(\"%d/%m/%y, %H:%M:%S\"))"
   ]
  },
  {
   "cell_type": "code",
   "execution_count": null,
   "id": "widespread-south",
   "metadata": {},
   "outputs": [],
   "source": [
    "#day of the year\n",
    "print(x.strftime(\"%j\")) "
   ]
  },
  {
   "cell_type": "code",
   "execution_count": null,
   "id": "junior-walter",
   "metadata": {},
   "outputs": [],
   "source": [
    "#Read in string time using datetime.strptime()   again, same funciton name as  date.strptime()\n",
    "# One is coded to work on datetime objects, the other is coded to work on struct_time objects\n",
    "date1=\"11-17-2020 09:10;03\"\n",
    "date2=\"20-11-2020 09*10*03\"\n",
    "string_date1=datetime.datetime.strptime(date1,\"%m-%d-%Y %H:%M;%S\")\n",
    "string_date2=datetime.datetime.strptime(date2,\"%d-%m-%Y %H*%M*%S\")\n",
    "print(string_date1)\n",
    "print(string_date2)"
   ]
  },
  {
   "cell_type": "code",
   "execution_count": null,
   "id": "dying-western",
   "metadata": {},
   "outputs": [],
   "source": [
    "#UTC time, if you want, you can also use datetime to get the UTC time.\n",
    "#****A time-zone aware datetime.****#  <<<<<<  RECOMENDED  (More on timezones later)\n",
    "now_utc1 = datetime.datetime.now(datetime.timezone.utc)\n",
    "print(type(now_utc))\n",
    "print(now_utc)"
   ]
  },
  {
   "cell_type": "code",
   "execution_count": null,
   "id": "painted-jacob",
   "metadata": {},
   "outputs": [],
   "source": [
    "#****A 'naive', or NON time-zone aware datetime.****#\n",
    "now_utc2=datetime.datetime.utcnow()\n",
    "print(now_utc2)\n",
    "\n"
   ]
  },
  {
   "cell_type": "code",
   "execution_count": null,
   "id": "catholic-spiritual",
   "metadata": {},
   "outputs": [],
   "source": [
    "#A timezone aware datetime object is a UTC time, with an offset \n",
    "#Which is why the UTC 'zone aware' 2021-02-12 09:50:58.331101+00:00    has +00:00"
   ]
  }
 ],
 "metadata": {
  "kernelspec": {
   "display_name": "Python 3",
   "language": "python",
   "name": "python3"
  },
  "language_info": {
   "codemirror_mode": {
    "name": "ipython",
    "version": 3
   },
   "file_extension": ".py",
   "mimetype": "text/x-python",
   "name": "python",
   "nbconvert_exporter": "python",
   "pygments_lexer": "ipython3",
   "version": "3.8.5"
  }
 },
 "nbformat": 4,
 "nbformat_minor": 5
}
