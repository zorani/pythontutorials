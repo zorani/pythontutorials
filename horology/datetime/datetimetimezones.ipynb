{
 "cells": [
  {
   "cell_type": "code",
   "execution_count": null,
   "id": "scenic-universal",
   "metadata": {},
   "outputs": [],
   "source": [
    "#We are going to import the datetime a little differently.\n",
    "from datetime import datetime, timezone\n",
    "#sometimes the class is contained in a package with the same name, and the package also contains other clases\n",
    "from dateutil import tz"
   ]
  },
  {
   "cell_type": "code",
   "execution_count": null,
   "id": "super-angel",
   "metadata": {},
   "outputs": [],
   "source": [
    "#Retrieve a timezone object\n",
    "AMS=tz.gettz('Europe/Amsterdam')\n",
    "LDN=tz.gettz('Europe/London')\n",
    "KMD=tz.gettz('Asia/Kathmandu')\n",
    "local_time=tz.tzlocal()\n",
    "utc_time1=tz.tzutc()\n",
    "utc_time2=tz.gettz('UTC')\n",
    "#https://en.wikipedia.org/wiki/List_of_tz_database_time_zones"
   ]
  },
  {
   "cell_type": "code",
   "execution_count": null,
   "id": "hired-capability",
   "metadata": {},
   "outputs": [],
   "source": [
    "time_local=datetime.now(local_time)\n",
    "time_utc1=datetime.now(utc_time1)\n",
    "time_utc2=datetime.now(utc_time2)\n",
    "time_in_amsterdam=datetime.now(AMS)\n",
    "time_in_london=datetime.now(LDN)\n",
    "time_in_kathmandu=datetime.now(KMD)"
   ]
  },
  {
   "cell_type": "code",
   "execution_count": null,
   "id": "iraqi-eagle",
   "metadata": {},
   "outputs": [],
   "source": [
    "print(\"Local     :\",time_local)\n",
    "print(\"UTC type1 :\",time_utc1)\n",
    "print(\"UTC type2 :\",time_utc2)\n",
    "print(\"Amsterdam :\",time_in_amsterdam)\n",
    "print(\"London    :\",time_in_london)\n",
    "print(\"Kathmandu :\",time_in_kathmandu)\n"
   ]
  },
  {
   "cell_type": "code",
   "execution_count": null,
   "id": "valid-survivor",
   "metadata": {},
   "outputs": [],
   "source": [
    "print(\"Local     :\",time_local.tzname())\n",
    "print(\"UTC type1 :\",time_utc1.tzname())\n",
    "print(\"UTC type2 :\",time_utc2.tzname())\n",
    "print(\"Amsterdam :\",time_in_amsterdam.tzname())\n",
    "print(\"London    :\",time_in_london.tzname())\n",
    "print(\"Kathmandu :\",time_in_kathmandu.tzname())"
   ]
  },
  {
   "cell_type": "code",
   "execution_count": null,
   "id": "olympic-georgia",
   "metadata": {},
   "outputs": [],
   "source": [
    "print(type(time_local))\n",
    "print(type(time_utc1))\n",
    "print(type(time_utc2))\n",
    "print(type(time_in_amsterdam))\n",
    "print(type(time_in_london))\n",
    "print(type(time_in_kathmandu))"
   ]
  },
  {
   "cell_type": "code",
   "execution_count": null,
   "id": "toxic-quebec",
   "metadata": {},
   "outputs": [],
   "source": [
    "#Convert between timezones using - astimezone()\n",
    "#You need a datetime object that is time aware\n",
    "local_to_amsterdam=time_local.astimezone(AMS)\n",
    "utc1_to_amsterdam=time_utc1.astimezone(AMS)\n",
    "utc2_to_amsterdam=time_utc2.astimezone(AMS)\n",
    "london_to_amsterdam=time_in_london.astimezone(AMS)\n",
    "kathmandu_to_amsterdam=time_in_kathmandu.astimezone(AMS)\n",
    "amsterdam_to_amsterdam=time_in_amsterdam.astimezone(AMS)\n"
   ]
  },
  {
   "cell_type": "code",
   "execution_count": null,
   "id": "brown-township",
   "metadata": {},
   "outputs": [],
   "source": [
    "print(local_to_amsterdam)\n",
    "print(utc1_to_amsterdam)\n",
    "print(utc2_to_amsterdam)\n",
    "print(london_to_amsterdam)\n",
    "print(kathmandu_to_amsterdam)\n",
    "print(amsterdam_to_amsterdam)"
   ]
  },
  {
   "cell_type": "code",
   "execution_count": null,
   "id": "moderate-yahoo",
   "metadata": {},
   "outputs": [],
   "source": [
    "#Convert between timezones using - astimezone()\n",
    "#You need a datetime object that is time aware\n",
    "local_to_kathmandu=time_local.astimezone(KMD)\n",
    "utc1_to_kathmandu=time_utc1.astimezone(KMD)\n",
    "utc2_to_kathmandu=time_utc2.astimezone(KMD)\n",
    "london_to_kathmandu=time_in_london.astimezone(KMD)\n",
    "kathmandu_to_kathmandu=time_in_kathmandu.astimezone(KMD)\n",
    "amsterdam_to_kathmandu=time_in_amsterdam.astimezone(KMD)"
   ]
  },
  {
   "cell_type": "code",
   "execution_count": null,
   "id": "narrative-championship",
   "metadata": {},
   "outputs": [],
   "source": [
    "print(local_to_kathmandu)\n",
    "print(utc1_to_kathmandu)\n",
    "print(utc2_to_kathmandu)\n",
    "print(london_to_kathmandu)\n",
    "print(kathmandu_to_kathmandu)\n",
    "print(amsterdam_to_kathmandu)"
   ]
  },
  {
   "cell_type": "code",
   "execution_count": null,
   "id": "personal-ceramic",
   "metadata": {},
   "outputs": [],
   "source": [
    "#And back to UTC\n",
    "#Convert between timezones using - astimezone()\n",
    "#You need a datetime object that is time aware\n",
    "local_to_utc=time_local.astimezone(tz.gettz('UTC'))\n",
    "utc1_to_utc=time_utc1.astimezone(tz.gettz('UTC'))\n",
    "utc2_to_utc=time_utc2.astimezone(tz.gettz('UTC'))\n",
    "london_to_utc=time_in_london.astimezone(tz.gettz('UTC'))\n",
    "kathmandu_to_utc=time_in_kathmandu.astimezone(tz.gettz('UTC'))\n",
    "amsterdam_to_utc=time_in_amsterdam.astimezone(tz.gettz('UTC'))"
   ]
  },
  {
   "cell_type": "code",
   "execution_count": null,
   "id": "guided-county",
   "metadata": {},
   "outputs": [],
   "source": [
    "print(local_to_utc)\n",
    "print(utc1_to_utc)\n",
    "print(utc2_to_utc)\n",
    "print(london_to_utc)\n",
    "print(kathmandu_to_utc)\n",
    "print(amsterdam_to_utc)"
   ]
  },
  {
   "cell_type": "code",
   "execution_count": null,
   "id": "genuine-numbers",
   "metadata": {},
   "outputs": [],
   "source": []
  }
 ],
 "metadata": {
  "kernelspec": {
   "display_name": "Python 3",
   "language": "python",
   "name": "python3"
  },
  "language_info": {
   "codemirror_mode": {
    "name": "ipython",
    "version": 3
   },
   "file_extension": ".py",
   "mimetype": "text/x-python",
   "name": "python",
   "nbconvert_exporter": "python",
   "pygments_lexer": "ipython3",
   "version": "3.8.5"
  }
 },
 "nbformat": 4,
 "nbformat_minor": 5
}
