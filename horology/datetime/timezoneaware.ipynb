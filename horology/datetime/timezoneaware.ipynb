{
 "cells": [
  {
   "cell_type": "code",
   "execution_count": null,
   "id": "understanding-speech",
   "metadata": {},
   "outputs": [],
   "source": [
    "#Time zone aware"
   ]
  },
  {
   "cell_type": "code",
   "execution_count": null,
   "id": "given-implement",
   "metadata": {},
   "outputs": [],
   "source": [
    "import datetime\n",
    "from dateutil import tz"
   ]
  },
  {
   "cell_type": "code",
   "execution_count": null,
   "id": "postal-equity",
   "metadata": {},
   "outputs": [],
   "source": [
    "#Lets get and unaware, naive datetime object.\n",
    "unaware = datetime.datetime(2021, 2, 15, 8, 15, 12, 0)\n",
    "print(unaware)"
   ]
  },
  {
   "cell_type": "code",
   "execution_count": null,
   "id": "recorded-logic",
   "metadata": {},
   "outputs": [],
   "source": [
    "aware_as_utc=unaware.replace(tzinfo=tz.gettz('UTC'))\n",
    "aware_as_kathmandu=unaware.replace(tzinfo=tz.gettz('Asia/Kathmandu'))\n",
    "aware_as_amsterdam=unaware.replace(tzinfo=tz.gettz('Europe/Amsterdam'))\n",
    "aware_as_london=unaware.replace(tzinfo=tz.gettz('Europe/London'))\n"
   ]
  },
  {
   "cell_type": "code",
   "execution_count": null,
   "id": "robust-advice",
   "metadata": {},
   "outputs": [],
   "source": [
    "print(aware_as_utc)\n",
    "print(aware_as_kathmandu)\n",
    "print(aware_as_amsterdam)\n",
    "print(aware_as_london)"
   ]
  },
  {
   "cell_type": "code",
   "execution_count": null,
   "id": "scheduled-courage",
   "metadata": {},
   "outputs": [],
   "source": []
  }
 ],
 "metadata": {
  "kernelspec": {
   "display_name": "Python 3",
   "language": "python",
   "name": "python3"
  },
  "language_info": {
   "codemirror_mode": {
    "name": "ipython",
    "version": 3
   },
   "file_extension": ".py",
   "mimetype": "text/x-python",
   "name": "python",
   "nbconvert_exporter": "python",
   "pygments_lexer": "ipython3",
   "version": "3.8.5"
  }
 },
 "nbformat": 4,
 "nbformat_minor": 5
}
