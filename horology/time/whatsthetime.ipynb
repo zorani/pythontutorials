{
 "cells": [
  {
   "cell_type": "code",
   "execution_count": null,
   "id": "hazardous-newman",
   "metadata": {},
   "outputs": [],
   "source": [
    "#What's the time doc? Tell me the time for the local timezone of the computer, also tell me the the UTC machine time.\n",
    "#sudo timedatectl set-timezone Europe/Amsterdam"
   ]
  },
  {
   "cell_type": "code",
   "execution_count": null,
   "id": "fewer-techno",
   "metadata": {},
   "outputs": [],
   "source": [
    "import time"
   ]
  },
  {
   "cell_type": "code",
   "execution_count": null,
   "id": "suburban-touch",
   "metadata": {},
   "outputs": [],
   "source": [
    "#LOCAL TIME - THE TIME RIGHT NOW - using time.localtime()\n",
    "#If you leave the argument of localtime empty you get the conversion of seconds from epoch, to the current local time of your machine.\n",
    "localtime=time.localtime()\n",
    "print(type(localtime))\n",
    "print(localtime)\n",
    "#WARNING NOTE>>> IF YOU HAVENT SET YOUR LOCAL TIMEZOME, THE FOLLOWING MAY LOOK THE SAME."
   ]
  },
  {
   "cell_type": "code",
   "execution_count": null,
   "id": "cross-status",
   "metadata": {},
   "outputs": [],
   "source": [
    "#LOCAL TIME AT A CERTAIN EPOC\n",
    "#OK, lets get epoch to begin with...\n",
    "current_epoch_time=time.time()\n",
    "print(current_epoch_time)"
   ]
  },
  {
   "cell_type": "code",
   "execution_count": null,
   "id": "israeli-fitting",
   "metadata": {},
   "outputs": [],
   "source": [
    "#let's travel 1 day in to the future >>>>>>>>>>, thats 24*60*60 seconds = 86400 sec\n",
    "future_epoch_time=current_epoch_time+86400\n",
    "future_localtime=time.localtime(future_epoch_time)\n",
    "print(type(future_localtime))\n",
    "print(future_localtime)"
   ]
  },
  {
   "cell_type": "code",
   "execution_count": null,
   "id": "polyphonic-genetics",
   "metadata": {},
   "outputs": [],
   "source": [
    "#UTC TIME - THE UTC TIME RIGHT NOW - using time.gmtime()\n",
    "#If you leave the argument of gmtime empty you get the conversion of seconds from epoch, to the current utc time.\n",
    "utctime=time.gmtime()\n",
    "print(type(utctime))\n",
    "print(utctime)"
   ]
  },
  {
   "cell_type": "code",
   "execution_count": null,
   "id": "northern-shanghai",
   "metadata": {},
   "outputs": [],
   "source": [
    "#Finding a UTC time at a certain EPOCH, let's go back to the future again >>>>>>>>>>> by one hour\n",
    "future_epoch_time=time.time()+86400\n",
    "future_utc_time=time.gmtime(future_epoch_time)\n",
    "print(type(future_utc_time))\n",
    "print(future_utc_time)"
   ]
  },
  {
   "cell_type": "code",
   "execution_count": null,
   "id": "wanted-plastic",
   "metadata": {},
   "outputs": [],
   "source": [
    "#Accessing struct_time data\n",
    "print(future_utc_time.tm_year)\n",
    "print(future_utc_time[0])"
   ]
  },
  {
   "cell_type": "code",
   "execution_count": null,
   "id": "auburn-slide",
   "metadata": {},
   "outputs": [],
   "source": [
    "#struct_time to seconds - using time.mktime()\n",
    "epoch_time=time.time()\n",
    "epoch_time_24h=epoch_time+86400\n",
    "print(epoch_time)\n",
    "print(epoch_time_24h)\n",
    "#-----------------------------------------\n",
    "time_struct_localtime=time.localtime(epoch_time)\n",
    "time_struct_gmtime=time.gmtime(epoch_time)\n",
    "time_struct_localtime_24h=time.localtime(epoch_time_24h)\n",
    "time_struct_gmtime_24h=time.gmtime(epoch_time_24h)\n",
    "print(time_struct_localtime)\n",
    "print(time_struct_gmtime)\n",
    "print(time_struct_localtime_24h)\n",
    "print(time_struct_gmtime_24h)\n",
    "mktime_struct_localtime=time.mktime(time_struct_localtime)\n",
    "mktime_struct_gmtime=time.mktime(time_struct_gmtime)\n",
    "mktime_struct_localtime_24h=time.mktime(time_struct_localtime_24h)\n",
    "mktime_struct_gmtime_24h=time.mktime(time_struct_gmtime_24h)\n",
    "print(\"local time in secords            :\",mktime_struct_localtime)\n",
    "print(\"gmtime/epoch time in seconds     :\",mktime_struct_gmtime)\n",
    "print(\"future 24h local time in seconds :\",mktime_struct_localtime_24h)\n",
    "print(\"future 24h epoch time in seconds :\",mktime_struct_gmtime_24h)"
   ]
  },
  {
   "cell_type": "code",
   "execution_count": null,
   "id": "formal-lightweight",
   "metadata": {},
   "outputs": [],
   "source": [
    "#Check local time zone\n",
    "time_as_string=time.ctime(epoch_time)\n",
    "print(time_as_string)"
   ]
  },
  {
   "cell_type": "code",
   "execution_count": null,
   "id": "extraordinary-breed",
   "metadata": {},
   "outputs": [],
   "source": []
  }
 ],
 "metadata": {
  "kernelspec": {
   "display_name": "Python 3",
   "language": "python",
   "name": "python3"
  },
  "language_info": {
   "codemirror_mode": {
    "name": "ipython",
    "version": 3
   },
   "file_extension": ".py",
   "mimetype": "text/x-python",
   "name": "python",
   "nbconvert_exporter": "python",
   "pygments_lexer": "ipython3",
   "version": "3.8.5"
  }
 },
 "nbformat": 4,
 "nbformat_minor": 5
}
