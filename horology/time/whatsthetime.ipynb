{
 "cells": [
  {
   "cell_type": "code",
   "execution_count": null,
   "id": "delayed-january",
   "metadata": {},
   "outputs": [],
   "source": [
    "#What's the time doc?\n",
    "#Tell the time for the local timezone of the computer, also tell the UTC time of the machine.\n",
    "#Please run this code in bash first, sudo timedatectl set-timezone Europe/Amsterdam"
   ]
  },
  {
   "cell_type": "code",
   "execution_count": null,
   "id": "monthly-youth",
   "metadata": {},
   "outputs": [],
   "source": [
    "import time"
   ]
  },
  {
   "cell_type": "code",
   "execution_count": null,
   "id": "proud-ranch",
   "metadata": {},
   "outputs": [],
   "source": [
    "#LOCAL TIME - THE TIME RIGHT NOW - using time.localtime()\n",
    "#If you leave the argument of localtime empty,\n",
    "#you get the conversion of seconds from epoch,\n",
    "#to the current local time of your machine.\n",
    "localtime=time.localtime()\n",
    "print(type(localtime))\n",
    "print(localtime)"
   ]
  },
  {
   "cell_type": "code",
   "execution_count": null,
   "id": "transparent-boring",
   "metadata": {},
   "outputs": [],
   "source": [
    "#LOCAL TIME AT A CERTAIN EPOCH\n",
    "#Ok, lets get epoch to begin with...\n",
    "current_epoch_time=time.time()\n",
    "print(current_epoch_time)"
   ]
  },
  {
   "cell_type": "code",
   "execution_count": null,
   "id": "north-aging",
   "metadata": {},
   "outputs": [],
   "source": [
    "#Let's travel 1 day in to the future >>>>>>>, that's 24h*60m*60s = 86400 sec\n",
    "future_epoch_time=current_epoch_time + 86400\n",
    "future_localtime=time.localtime(future_epoch_time)\n",
    "print(type(future_localtime))\n",
    "print(future_localtime)"
   ]
  },
  {
   "cell_type": "code",
   "execution_count": null,
   "id": "electoral-wagner",
   "metadata": {},
   "outputs": [],
   "source": [
    "#UTC TIME - THE UTC TIME RIGHT NOW (It's the same all over the planet)\n",
    "#Use time.gmtime()\n",
    "#If you leave the argument of time.gmtime() empty, you get the conversion\n",
    "#of seconds from epoch, to the current utc time.\n",
    "utctime=time.gmtime()\n",
    "print(type(utctime))\n",
    "print(utctime)"
   ]
  },
  {
   "cell_type": "code",
   "execution_count": null,
   "id": "smooth-albuquerque",
   "metadata": {},
   "outputs": [],
   "source": [
    "#Finding a UTC time at a certain time in the future, go back to\n",
    "#the future >>>>>>>>>> by one day\n",
    "future_epoch_time=time.time()+86400\n",
    "future_utc_time=time.gmtime(future_epoch_time)\n",
    "print(type(future_utc_time))\n",
    "print(future_utc_time)"
   ]
  },
  {
   "cell_type": "code",
   "execution_count": null,
   "id": "opening-compact",
   "metadata": {},
   "outputs": [],
   "source": [
    "#Converting from a struct_time data structure back to seconds.\n",
    "#time.mktime()\n",
    "epoch_time=time.time()\n",
    "epoch_time_24h=epoch_time+86400\n",
    "print(epoch_time)\n",
    "print(epoch_time_24h)\n",
    "#-----------------------------------\n",
    "time_struct_localtime=time.localtime(epoch_time)"
   ]
  },
  {
   "cell_type": "code",
   "execution_count": null,
   "id": "structured-wells",
   "metadata": {},
   "outputs": [],
   "source": [
    "#HumanTime > UTC > seconds > DataStructure"
   ]
  },
  {
   "cell_type": "code",
   "execution_count": null,
   "id": "nutritional-hunger",
   "metadata": {},
   "outputs": [],
   "source": [
    "#DataStructure > seconds"
   ]
  }
 ],
 "metadata": {
  "kernelspec": {
   "display_name": "Python 3",
   "language": "python",
   "name": "python3"
  },
  "language_info": {
   "codemirror_mode": {
    "name": "ipython",
    "version": 3
   },
   "file_extension": ".py",
   "mimetype": "text/x-python",
   "name": "python",
   "nbconvert_exporter": "python",
   "pygments_lexer": "ipython3",
   "version": "3.8.5"
  }
 },
 "nbformat": 4,
 "nbformat_minor": 5
}
