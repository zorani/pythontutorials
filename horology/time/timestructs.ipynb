{
 "cells": [
  {
   "cell_type": "code",
   "execution_count": null,
   "id": "discrete-group",
   "metadata": {},
   "outputs": [],
   "source": [
    "#Working with time_struct data structures"
   ]
  },
  {
   "cell_type": "code",
   "execution_count": null,
   "id": "private-regard",
   "metadata": {},
   "outputs": [],
   "source": [
    "import time\n",
    "#Generate a time_struct using UTC\n",
    "utc_time=time.gmtime()"
   ]
  },
  {
   "cell_type": "code",
   "execution_count": null,
   "id": "functioning-subdivision",
   "metadata": {},
   "outputs": [],
   "source": [
    "print(type(utc_time))\n",
    "print(utc_time)"
   ]
  },
  {
   "cell_type": "code",
   "execution_count": null,
   "id": "noted-transformation",
   "metadata": {},
   "outputs": [],
   "source": [
    "#Accessing an item by name or by index.\n",
    "print(utc_time[0])\n",
    "print(utc_time.tm_year)"
   ]
  },
  {
   "cell_type": "code",
   "execution_count": null,
   "id": "foster-delay",
   "metadata": {},
   "outputs": [],
   "source": [
    "# tm_year  0000,2020,...,9999        looking forward to the year 9999 bug.\n",
    "# tm_mon   1,2,...,12                Note, doesn't start at 0, i.e. January is month 1, not month 0\n",
    "# tm_day   1,2,...,31\n",
    "# tm_hour  0,1,...,23                Note, midnight always starts at the begining of hour 0\n",
    "# tm_min   0,1,...,59                \n",
    "# tm_sec   0,1,...,61     < What? Why 61 seconds?  It is to handle leap seconds.\n",
    "# tm_wday  0,1,...,6               Monday is 0\n",
    "# tm_yday  1,2,...,366             Note, 366 days in a leap year.\n",
    "# tm_isdst 0,1 or -1               0 means no daylight savings time"
   ]
  }
 ],
 "metadata": {
  "kernelspec": {
   "display_name": "Python 3",
   "language": "python",
   "name": "python3"
  },
  "language_info": {
   "codemirror_mode": {
    "name": "ipython",
    "version": 3
   },
   "file_extension": ".py",
   "mimetype": "text/x-python",
   "name": "python",
   "nbconvert_exporter": "python",
   "pygments_lexer": "ipython3",
   "version": "3.8.5"
  }
 },
 "nbformat": 4,
 "nbformat_minor": 5
}
