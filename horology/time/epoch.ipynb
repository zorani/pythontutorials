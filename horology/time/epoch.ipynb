{
 "cells": [
  {
   "cell_type": "code",
   "execution_count": null,
   "id": "purple-brazil",
   "metadata": {},
   "outputs": [],
   "source": [
    "#EPOCH\n",
    "#Computer time, and ALL machines measure time in seconds from EPOCH.\n",
    "#LinuxTime began at 0 seconds on January 1, 1970 UTC\n",
    "#WindowsTime Win32 began at 0 seconds January 1, 1601 (But we all dont like Microsoft)\n",
    "#UTC = Coordinated Universal Time (in french Temps Universel Coordonne TUC)\n",
    "#Time in Amsterdam is UTC+1\n",
    "#Daylight saving makes thing even more complicated.\n",
    "#EPOCH itself is not influence by timezones of DST. Daylight Savings Time"
   ]
  },
  {
   "cell_type": "code",
   "execution_count": null,
   "id": "minimal-bicycle",
   "metadata": {},
   "outputs": [],
   "source": [
    "import time"
   ]
  },
  {
   "cell_type": "code",
   "execution_count": null,
   "id": "respiratory-transition",
   "metadata": {},
   "outputs": [],
   "source": [
    "#What EPOCH your machine belives in.\n",
    "time.gmtime(0)"
   ]
  },
  {
   "cell_type": "code",
   "execution_count": null,
   "id": "approximate-comfort",
   "metadata": {},
   "outputs": [],
   "source": [
    "#Number of seconds since EPOCH\n",
    "time.time()"
   ]
  },
  {
   "cell_type": "code",
   "execution_count": null,
   "id": "assisted-interim",
   "metadata": {},
   "outputs": [],
   "source": [
    "#Number of nanoseconds since EPOCH\n",
    "time.time_ns()"
   ]
  },
  {
   "cell_type": "code",
   "execution_count": null,
   "id": "pursuant-diversity",
   "metadata": {},
   "outputs": [],
   "source": [
    "#If you're a coder, youll want human readable form.\n",
    "number_of_seconds_since_epoch=time.time()\n",
    "time_as_string=time.ctime(number_of_seconds_since_epoch)\n",
    "print(time_as_string)"
   ]
  },
  {
   "cell_type": "code",
   "execution_count": null,
   "id": "vocational-contributor",
   "metadata": {},
   "outputs": [],
   "source": [
    "#Always code for UTC for live programs."
   ]
  },
  {
   "cell_type": "code",
   "execution_count": null,
   "id": "general-elizabeth",
   "metadata": {},
   "outputs": [],
   "source": [
    "#You need to make sure the computer your code runs on is in the correct human timezone,\n",
    "#and the correct machine time zone.\n",
    "#use linux commands, date or timedatectl command in bash to check system time.\n",
    "#timedatectl list-timezones\n",
    "#sudo timedatectl set-timezone Europe/Amsterdam"
   ]
  },
  {
   "cell_type": "code",
   "execution_count": null,
   "id": "enormous-bobby",
   "metadata": {},
   "outputs": [],
   "source": [
    "#If you're a coder, youll want human readable form.\n",
    "number_of_seconds_since_epoch=time.time()\n",
    "time_as_string=time.ctime(number_of_seconds_since_epoch)\n",
    "print(time_as_string)"
   ]
  },
  {
   "cell_type": "code",
   "execution_count": null,
   "id": "authorized-vaccine",
   "metadata": {},
   "outputs": [],
   "source": [
    "#Even though your system is in a human time zone\n",
    "#Epoch is always returned as a count from the UTC time zone.\n"
   ]
  }
 ],
 "metadata": {
  "kernelspec": {
   "display_name": "Python 3",
   "language": "python",
   "name": "python3"
  },
  "language_info": {
   "codemirror_mode": {
    "name": "ipython",
    "version": 3
   },
   "file_extension": ".py",
   "mimetype": "text/x-python",
   "name": "python",
   "nbconvert_exporter": "python",
   "pygments_lexer": "ipython3",
   "version": "3.8.5"
  }
 },
 "nbformat": 4,
 "nbformat_minor": 5
}
