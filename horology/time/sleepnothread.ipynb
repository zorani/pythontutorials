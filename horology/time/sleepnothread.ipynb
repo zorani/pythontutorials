{
 "cells": [
  {
   "cell_type": "code",
   "execution_count": null,
   "id": "emerging-steel",
   "metadata": {},
   "outputs": [],
   "source": [
    "#Sleep, simple non-threading behaviour."
   ]
  },
  {
   "cell_type": "code",
   "execution_count": null,
   "id": "honey-accident",
   "metadata": {},
   "outputs": [],
   "source": [
    "import time"
   ]
  },
  {
   "cell_type": "code",
   "execution_count": null,
   "id": "rubber-potential",
   "metadata": {},
   "outputs": [],
   "source": [
    "number_of_seconds=5\n",
    "print(f\"I'm about to go to sleep for {number_of_seconds} seconds... \")\n",
    "time.sleep(number_of_seconds)\n",
    "print(\"I am awake\")"
   ]
  },
  {
   "cell_type": "code",
   "execution_count": null,
   "id": "overall-brunei",
   "metadata": {},
   "outputs": [],
   "source": [
    "while True:\n",
    "    localtime = time.localtime()\n",
    "    result = time.strftime(\"%I:%M:%S %p\", localtime)\n",
    "    print(result)\n",
    "    time.sleep(5)\n",
    "    "
   ]
  },
  {
   "cell_type": "code",
   "execution_count": null,
   "id": "brown-hunter",
   "metadata": {},
   "outputs": [],
   "source": []
  }
 ],
 "metadata": {
  "kernelspec": {
   "display_name": "Python 3",
   "language": "python",
   "name": "python3"
  },
  "language_info": {
   "codemirror_mode": {
    "name": "ipython",
    "version": 3
   },
   "file_extension": ".py",
   "mimetype": "text/x-python",
   "name": "python",
   "nbconvert_exporter": "python",
   "pygments_lexer": "ipython3",
   "version": "3.8.5"
  }
 },
 "nbformat": 4,
 "nbformat_minor": 5
}
