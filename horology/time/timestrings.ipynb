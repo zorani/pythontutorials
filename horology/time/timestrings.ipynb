{
 "cells": [
  {
   "cell_type": "code",
   "execution_count": null,
   "id": "legal-forge",
   "metadata": {},
   "outputs": [],
   "source": [
    "#Time Strings"
   ]
  },
  {
   "cell_type": "code",
   "execution_count": null,
   "id": "unexpected-snowboard",
   "metadata": {},
   "outputs": [],
   "source": [
    "import time"
   ]
  },
  {
   "cell_type": "code",
   "execution_count": null,
   "id": "tested-belief",
   "metadata": {},
   "outputs": [],
   "source": [
    "#We know ctime already... gives you a string straight away.\n",
    "time_string0=time.ctime()\n",
    "print(type(time_string0))\n",
    "print(time_string0)"
   ]
  },
  {
   "cell_type": "code",
   "execution_count": null,
   "id": "representative-chess",
   "metadata": {},
   "outputs": [],
   "source": [
    "#We're going to need a struct_time, so let's generate a local time struct_time\n",
    "local_struct_time=time.localtime()\n",
    "print(type(local_struct_time))\n",
    "print(local_struct_time)"
   ]
  },
  {
   "cell_type": "code",
   "execution_count": null,
   "id": "attempted-treasurer",
   "metadata": {},
   "outputs": [],
   "source": [
    "#time.asctime()\n",
    "time_string1=time.asctime(local_struct_time)\n",
    "print(time_string1)"
   ]
  },
  {
   "cell_type": "code",
   "execution_count": null,
   "id": "fancy-arrival",
   "metadata": {},
   "outputs": [],
   "source": [
    "#asctime also accepts a tuple that represents a struct_time\n",
    "struct_time_tuple=(2021,2,11,14,9,54,3,42,0)\n",
    "time_string2=time.asctime(local_struct_time)\n",
    "print(time_string2)"
   ]
  },
  {
   "cell_type": "code",
   "execution_count": null,
   "id": "forty-newman",
   "metadata": {},
   "outputs": [],
   "source": [
    "#time.strftime()  FORMAT YOUR OWN STRINGS WOOOOO!\n",
    "#Format codes - noone ever remembers ALL of these.\n",
    "# %Y  year, 0001,...,2020,...9999\n",
    "# %y year, 00,01,02,99\n",
    "# %m  month, 01,02,..,11,12\n",
    "# %d  day   01,02,...,31\n",
    "# %H hour  00,01,..,22,23\n",
    "# %M minutes 00,01,58,59\n",
    "# %S second 00,01,58,61\n",
    "# MORE INFO >>>>>  https://docs.python.org/3/library/time.html#time.strftime"
   ]
  },
  {
   "cell_type": "code",
   "execution_count": null,
   "id": "consistent-lodging",
   "metadata": {},
   "outputs": [],
   "source": [
    "# We take a struct_time, (a named tuple)\n",
    "time_string3=time.strftime(\"%d/%m/%y, %H:%M:%S\",local_struct_time)\n",
    "print(time_string3)"
   ]
  },
  {
   "cell_type": "code",
   "execution_count": null,
   "id": "ordinary-treaty",
   "metadata": {},
   "outputs": [],
   "source": [
    "#Okay, what if your target system admin audience is American.\n",
    "time_string4=time.strftime(\"%m/%d/%y, %H:%M:%S\",local_struct_time)\n",
    "print(time_string4)"
   ]
  },
  {
   "cell_type": "code",
   "execution_count": null,
   "id": "satisfied-prospect",
   "metadata": {},
   "outputs": [],
   "source": [
    "#Go wild... output format up to you\n",
    "time_string5=time.strftime(\"%Y %y %Y %y %Y %y %Y %y \",local_struct_time)\n",
    "print(time_string5)"
   ]
  },
  {
   "cell_type": "code",
   "execution_count": null,
   "id": "abroad-robin",
   "metadata": {},
   "outputs": [],
   "source": [
    "#ofset +HHMM\n",
    "time_string4=time.strftime(\"%m/%d/%y, %H:%M:%S +0000\",local_struct_time)\n",
    "print(time_string4)"
   ]
  },
  {
   "cell_type": "code",
   "execution_count": null,
   "id": "collect-calcium",
   "metadata": {},
   "outputs": [],
   "source": [
    "#ofset +HHMM\n",
    "time_string4=time.strftime(\"%m/%d/%y, %H:%M:%S +0200\",local_struct_time)\n",
    "print(time_string4)"
   ]
  },
  {
   "cell_type": "code",
   "execution_count": null,
   "id": "incomplete-burton",
   "metadata": {},
   "outputs": [],
   "source": [
    "#Not actually supported. https://docs.python.org/3/library/time.html"
   ]
  },
  {
   "cell_type": "code",
   "execution_count": null,
   "id": "extra-sitting",
   "metadata": {},
   "outputs": [],
   "source": [
    "# READ IN STRINGS using time.strptime()\n",
    "# OK, let pretend we got these dates in a bad excel sheet.\n",
    "date1=\"11-17-2020 09:10;03\"\n",
    "date2=\"20-11-2020 09*10*03\"\n",
    "# WHAT A MESS?!  You need to ask the person handing your csv file over for a data definition document, what are these dates.\n",
    "# We will do our best."
   ]
  },
  {
   "cell_type": "code",
   "execution_count": null,
   "id": "altered-complement",
   "metadata": {},
   "outputs": [],
   "source": [
    "string_date1=time.strptime(date1,\"%m-%d-%Y %H:%M;%S\")\n",
    "string_date2=time.strptime(date2,\"%d-%m-%Y %H*%M*%S\")\n",
    "print(string_date1)\n",
    "print(string_date2)"
   ]
  },
  {
   "cell_type": "code",
   "execution_count": null,
   "id": "obvious-enterprise",
   "metadata": {},
   "outputs": [],
   "source": [
    "#BUT WAIT WHAT THIS tm_isdst=-1\n",
    "#You need to manualy edit this after, it such a pain.\n",
    "string_date1.tm_isdst=0\n",
    "#READ ONLY"
   ]
  },
  {
   "cell_type": "code",
   "execution_count": null,
   "id": "intelligent-overall",
   "metadata": {},
   "outputs": [],
   "source": [
    "list_date1=list(string_date1)\n",
    "print(list_date1)"
   ]
  },
  {
   "cell_type": "code",
   "execution_count": null,
   "id": "varied-dayton",
   "metadata": {},
   "outputs": [],
   "source": [
    "list_date1[8]=0\n",
    "print(list_date1)"
   ]
  },
  {
   "cell_type": "code",
   "execution_count": null,
   "id": "thermal-ballot",
   "metadata": {},
   "outputs": [],
   "source": [
    "new_time_struct=time.struct_time(list_date1)"
   ]
  },
  {
   "cell_type": "code",
   "execution_count": null,
   "id": "round-breathing",
   "metadata": {},
   "outputs": [],
   "source": [
    "print(new_time_struct)"
   ]
  }
 ],
 "metadata": {
  "kernelspec": {
   "display_name": "Python 3",
   "language": "python",
   "name": "python3"
  },
  "language_info": {
   "codemirror_mode": {
    "name": "ipython",
    "version": 3
   },
   "file_extension": ".py",
   "mimetype": "text/x-python",
   "name": "python",
   "nbconvert_exporter": "python",
   "pygments_lexer": "ipython3",
   "version": "3.8.5"
  }
 },
 "nbformat": 4,
 "nbformat_minor": 5
}
