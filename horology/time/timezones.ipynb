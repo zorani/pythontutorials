{
 "cells": [
  {
   "cell_type": "code",
   "execution_count": null,
   "id": "necessary-contents",
   "metadata": {},
   "outputs": [],
   "source": [
    "#Time Zones\n",
    "#The module time is intended to be used to machine time only. UTC, and at best allows you to work with local machine time.\n",
    "#There is no timezone handeling with time.time()\n",
    "#Time zones are a bit every day business, excell sheets, registrations, etc...\n",
    "#Please see modute datetime() on how to handle everyday time and datetime applications\n",
    "#\n",
    "#\n",
    "#   NO MORE INFO"
   ]
  }
 ],
 "metadata": {
  "kernelspec": {
   "display_name": "Python 3",
   "language": "python",
   "name": "python3"
  },
  "language_info": {
   "codemirror_mode": {
    "name": "ipython",
    "version": 3
   },
   "file_extension": ".py",
   "mimetype": "text/x-python",
   "name": "python",
   "nbconvert_exporter": "python",
   "pygments_lexer": "ipython3",
   "version": "3.8.5"
  }
 },
 "nbformat": 4,
 "nbformat_minor": 5
}
