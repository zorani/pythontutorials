{
 "cells": [
  {
   "cell_type": "code",
   "execution_count": null,
   "metadata": {},
   "outputs": [],
   "source": [
    "# Working with WHILE loops\n",
    "\n",
    "i=10\n",
    "while (i > 0):\n",
    "    i=i-1\n",
    "    print(\"Current i value is: \"+str(i))"
   ]
  },
  {
   "cell_type": "code",
   "execution_count": null,
   "metadata": {},
   "outputs": [],
   "source": [
    "i=0\n",
    "while (i <= 9):\n",
    "    i += 1\n",
    "    print(\"Current i value is: \"+str(i))"
   ]
  },
  {
   "cell_type": "code",
   "execution_count": null,
   "metadata": {},
   "outputs": [],
   "source": [
    "i=0\n",
    "while (i <= 9):\n",
    "    i -=- 1\n",
    "    print(\"Current i value is: \"+str(i))"
   ]
  },
  {
   "cell_type": "code",
   "execution_count": null,
   "metadata": {},
   "outputs": [],
   "source": [
    "i=10\n",
    "while (i > 0):\n",
    "    i-=1\n",
    "    print(\"Current i value is: \"+str(i))"
   ]
  },
  {
   "cell_type": "code",
   "execution_count": null,
   "metadata": {},
   "outputs": [],
   "source": [
    "i=1\n",
    "while (i > 0):\n",
    "    i+=1\n",
    "    print(\"Current i value is: \"+str(i))\n",
    "    if(i>15):\n",
    "        print(\"DANGER! Out of control loop....\")\n",
    "        break\n",
    "    "
   ]
  },
  {
   "cell_type": "code",
   "execution_count": null,
   "metadata": {},
   "outputs": [],
   "source": [
    "i=1\n",
    "while (i > 0):\n",
    "    i+=1\n",
    "    print(\"Current i value is: \"+str(i))\n",
    "    if(i%2==0):\n",
    "        print(\"number is even\")\n",
    "        continue\n",
    "    if(i>15):\n",
    "        print(\"DANGER! Out of control loop....\")\n",
    "        break"
   ]
  },
  {
   "cell_type": "code",
   "execution_count": null,
   "metadata": {},
   "outputs": [],
   "source": []
  },
  {
   "cell_type": "code",
   "execution_count": null,
   "metadata": {},
   "outputs": [],
   "source": []
  }
 ],
 "metadata": {
  "kernelspec": {
   "display_name": "Python 3",
   "language": "python",
   "name": "python3"
  },
  "language_info": {
   "codemirror_mode": {
    "name": "ipython",
    "version": 3
   },
   "file_extension": ".py",
   "mimetype": "text/x-python",
   "name": "python",
   "nbconvert_exporter": "python",
   "pygments_lexer": "ipython3",
   "version": "3.8.2"
  }
 },
 "nbformat": 4,
 "nbformat_minor": 4
}
