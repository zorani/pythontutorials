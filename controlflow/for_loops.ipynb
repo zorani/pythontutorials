{
 "cells": [
  {
   "cell_type": "code",
   "execution_count": null,
   "metadata": {},
   "outputs": [],
   "source": [
    "# Working with FOR loops\n",
    "list_of_fruit=[\"banana\",\"apple\",\"orange\"]\n",
    "\n",
    "for fruit in list_of_fruit:\n",
    "    print(type(fruit))\n",
    "    print(\"This fruit is a: \"+str(fruit))\n",
    "    "
   ]
  },
  {
   "cell_type": "code",
   "execution_count": null,
   "metadata": {},
   "outputs": [],
   "source": [
    "list_of_numbers=[0,1,2,3,4,5]\n",
    "\n",
    "for number in list_of_numbers:\n",
    "    print(number)"
   ]
  },
  {
   "cell_type": "code",
   "execution_count": null,
   "metadata": {},
   "outputs": [],
   "source": [
    "list_of_numbers=range(0,10)\n",
    "list_of_number=list(list_of_numbers)\n",
    "print(type(list_of_numbers))\n",
    "\n",
    "for number in list_of_numbers:\n",
    "    if((number%2)==0):\n",
    "        print(\"The number \"+str(number)+\" is even \")\n",
    "    else:\n",
    "        print(\"The number \"+str(number)+\" is odd \")"
   ]
  },
  {
   "cell_type": "code",
   "execution_count": null,
   "metadata": {},
   "outputs": [],
   "source": [
    "list_of_numbers=range(0,10)\n",
    "list_of_number=list(list_of_numbers)\n",
    "print(type(list_of_numbers))\n",
    "\n",
    "for number in list_of_numbers:\n",
    "    if(number == 5):\n",
    "        break\n",
    "    if((number%2)==0):\n",
    "        print(\"The number \"+str(number)+\" is even \")\n",
    "    else:\n",
    "        print(\"The number \"+str(number)+\" is odd \")"
   ]
  },
  {
   "cell_type": "code",
   "execution_count": null,
   "metadata": {},
   "outputs": [],
   "source": [
    "for mickeymouse in list_of_numbers:\n",
    "    pass"
   ]
  },
  {
   "cell_type": "code",
   "execution_count": null,
   "metadata": {},
   "outputs": [],
   "source": [
    "list_of_numbers=[3,6,8]\n",
    "list_of_foods=[\"Burgers\",\"Chips\",\"Salad\"]\n",
    "\n",
    "print(\"Order for table 10....\")\n",
    "for number in list_of_numbers:\n",
    "    for food in list_of_foods:\n",
    "        print(str(number)+\" \"+str(food))\n",
    "\n",
    "        "
   ]
  },
  {
   "cell_type": "code",
   "execution_count": null,
   "metadata": {},
   "outputs": [],
   "source": [
    "list_of_numbers=[3,6,8]\n",
    "list_of_foods=[\"Burgers\",\"Chips\",\"Salad\"]\n",
    "\n",
    "print(\"Order for table 10....\")\n",
    "for number in list_of_numbers:\n",
    "    for food in list_of_foods:\n",
    "        print(str(number)+\" \"+str(food))\n",
    "else:\n",
    "    print(\"Order for table 10 complete\")"
   ]
  },
  {
   "cell_type": "code",
   "execution_count": null,
   "metadata": {},
   "outputs": [],
   "source": [
    "for mychar in \"food\":\n",
    "    print(type(mychar))\n",
    "    print(mychar)"
   ]
  },
  {
   "cell_type": "code",
   "execution_count": null,
   "metadata": {},
   "outputs": [],
   "source": [
    "shoppinglist={}\n",
    "shoppinglist['apples']=10\n",
    "shoppinglist['pears']=20\n",
    "\n",
    "for key, value in shoppinglist.items():\n",
    "    print(key)\n",
    "    print(value)\n",
    "    \n",
    "\n",
    "    \n",
    "\n"
   ]
  },
  {
   "cell_type": "code",
   "execution_count": null,
   "metadata": {},
   "outputs": [],
   "source": [
    "for key in shoppinglist:\n",
    "    print(key)"
   ]
  },
  {
   "cell_type": "code",
   "execution_count": null,
   "metadata": {},
   "outputs": [],
   "source": [
    "for key in shoppinglist:\n",
    "    print(key)\n",
    "    print(shoppinglist[key])"
   ]
  },
  {
   "cell_type": "code",
   "execution_count": null,
   "metadata": {},
   "outputs": [],
   "source": []
  }
 ],
 "metadata": {
  "kernelspec": {
   "display_name": "Python 3",
   "language": "python",
   "name": "python3"
  },
  "language_info": {
   "codemirror_mode": {
    "name": "ipython",
    "version": 3
   },
   "file_extension": ".py",
   "mimetype": "text/x-python",
   "name": "python",
   "nbconvert_exporter": "python",
   "pygments_lexer": "ipython3",
   "version": "3.8.2"
  }
 },
 "nbformat": 4,
 "nbformat_minor": 4
}
