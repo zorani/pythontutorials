{
 "cells": [
  {
   "cell_type": "code",
   "execution_count": null,
   "metadata": {},
   "outputs": [],
   "source": [
    "# Working with IF statements\n",
    "\n",
    "if True:\n",
    "    print(\"Do something...\")"
   ]
  },
  {
   "cell_type": "code",
   "execution_count": null,
   "metadata": {},
   "outputs": [],
   "source": [
    "if True:\n",
    "    print(\"Do something...\")\n",
    "else:\n",
    "    print(\"Don't do something, or do something else...\")"
   ]
  },
  {
   "cell_type": "code",
   "execution_count": null,
   "metadata": {},
   "outputs": [],
   "source": [
    "name=\"banana\"\n",
    "if (name == \"banana\"):\n",
    "    print(\"Start droplet\")"
   ]
  },
  {
   "cell_type": "code",
   "execution_count": null,
   "metadata": {},
   "outputs": [],
   "source": [
    "name=\"apple\"\n",
    "if (name == \"banana\"):\n",
    "    print(\"Start droplet\")\n",
    "else:\n",
    "    print(\"ask for name again...\")"
   ]
  },
  {
   "cell_type": "code",
   "execution_count": null,
   "metadata": {},
   "outputs": [],
   "source": [
    "name=\"cherry\"\n",
    "if (name == \"banana\"):\n",
    "    print(\"Starting droplet: \"+str(name))\n",
    "elif (name == \"apple\"):\n",
    "    print(\"Starting droplet: \"+str(name))\n",
    "elif (name == \"orange\"):\n",
    "    print(\"Starting droplet: \"+str(name))\n",
    "else:\n",
    "    print(\"No valid droplet name found.\")\n",
    "\n",
    "    "
   ]
  },
  {
   "cell_type": "code",
   "execution_count": null,
   "metadata": {},
   "outputs": [],
   "source": []
  },
  {
   "cell_type": "code",
   "execution_count": null,
   "metadata": {},
   "outputs": [],
   "source": []
  }
 ],
 "metadata": {
  "kernelspec": {
   "display_name": "Python 3",
   "language": "python",
   "name": "python3"
  },
  "language_info": {
   "codemirror_mode": {
    "name": "ipython",
    "version": 3
   },
   "file_extension": ".py",
   "mimetype": "text/x-python",
   "name": "python",
   "nbconvert_exporter": "python",
   "pygments_lexer": "ipython3",
   "version": "3.8.2"
  }
 },
 "nbformat": 4,
 "nbformat_minor": 4
}
