{
 "cells": [
  {
   "cell_type": "code",
   "execution_count": null,
   "metadata": {},
   "outputs": [],
   "source": [
    "#Dataframe to open spreadsheet file "
   ]
  },
  {
   "cell_type": "code",
   "execution_count": null,
   "metadata": {},
   "outputs": [],
   "source": [
    "import pandas as pd\n",
    "import os"
   ]
  },
  {
   "cell_type": "code",
   "execution_count": null,
   "metadata": {},
   "outputs": [],
   "source": [
    "df=pd.DataFrame()\n",
    "df['fruits']=['apple','banana','blood, orange']\n",
    "df['amount_int']=[5,10,6]\n",
    "df['amount_str']=[5,10,6]"
   ]
  },
  {
   "cell_type": "code",
   "execution_count": null,
   "metadata": {},
   "outputs": [],
   "source": [
    "# WRITING TO AN ODS FILE\n",
    "datadir=\"~/mydata/\"\n",
    "outputods=\"dataframetocsv_index_quoting.ods\"\n",
    "outputpathods=datadir+outputods\n",
    "print(outputpathods)\n",
    "outputpathods=os.path.expanduser(outputpathods)\n",
    "outputpathods=os.path.abspath(outputpathods)\n",
    "print(outputpathods)"
   ]
  },
  {
   "cell_type": "code",
   "execution_count": null,
   "metadata": {},
   "outputs": [],
   "source": [
    "#Writing to different sheets\n",
    "with pd.ExcelWriter(outputpathods) as bananawriter:\n",
    "    df.to_excel(bananawriter,index=False,sheet_name=\"MyFirstSheet\")\n",
    "    df.to_excel(bananawriter,index=False,sheet_name=\"MySecondSheet\")"
   ]
  },
  {
   "cell_type": "code",
   "execution_count": null,
   "metadata": {},
   "outputs": [],
   "source": []
  }
 ],
 "metadata": {
  "kernelspec": {
   "display_name": "Python 3",
   "language": "python",
   "name": "python3"
  },
  "language_info": {
   "codemirror_mode": {
    "name": "ipython",
    "version": 3
   },
   "file_extension": ".py",
   "mimetype": "text/x-python",
   "name": "python",
   "nbconvert_exporter": "python",
   "pygments_lexer": "ipython3",
   "version": "3.8.5"
  }
 },
 "nbformat": 4,
 "nbformat_minor": 4
}
