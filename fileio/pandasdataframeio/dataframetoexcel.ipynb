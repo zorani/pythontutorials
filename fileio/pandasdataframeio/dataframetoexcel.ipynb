{
 "cells": [
  {
   "cell_type": "code",
   "execution_count": null,
   "metadata": {},
   "outputs": [],
   "source": [
    "#Dataframe save to excel docs"
   ]
  },
  {
   "cell_type": "code",
   "execution_count": null,
   "metadata": {},
   "outputs": [],
   "source": [
    "import pandas as pd\n",
    "import os"
   ]
  },
  {
   "cell_type": "code",
   "execution_count": null,
   "metadata": {},
   "outputs": [],
   "source": [
    "df=pd.DataFrame()\n",
    "df['fruits']=['apple','banana','blood, orange']\n",
    "df['amount_int']=[5,10,6]\n",
    "df['amount_str']=[5,10,6]"
   ]
  },
  {
   "cell_type": "code",
   "execution_count": null,
   "metadata": {},
   "outputs": [],
   "source": [
    "# WRITING TO AN XLSX FILE\n",
    "datadir=\"~/mydata/\"\n",
    "outputxlsx=\"dataframetocsv_index_quoting.xlsx\"\n",
    "outputpathxlsx=datadir+outputxlsx\n",
    "print(outputpathxlsx)\n",
    "outputpathxlsx=os.path.expanduser(outputpathxlsx)\n",
    "outputpathxlsx=os.path.abspath(outputpathxlsx)\n",
    "print(outputpathxlsx)"
   ]
  },
  {
   "cell_type": "code",
   "execution_count": null,
   "metadata": {},
   "outputs": [],
   "source": [
    "with pd.ExcelWriter(outputpathxlsx) as bananawriter:\n",
    "    df.to_excel(bananawriter,index=False)"
   ]
  },
  {
   "cell_type": "code",
   "execution_count": null,
   "metadata": {},
   "outputs": [],
   "source": [
    "# WRITING TO AN XLS FILE\n",
    "datadir=\"~/mydata/\"\n",
    "outputxls=\"dataframetocsv_index_quoting.xls\"\n",
    "outputpathxls=datadir+outputxls\n",
    "print(outputpathxls)\n",
    "outputpathxls=os.path.expanduser(outputpathxls)\n",
    "outputpathxls=os.path.abspath(outputpathxls)\n",
    "print(outputpathxls)"
   ]
  },
  {
   "cell_type": "code",
   "execution_count": null,
   "metadata": {},
   "outputs": [],
   "source": [
    "with pd.ExcelWriter(outputpathxls) as bananawriter:\n",
    "    df.to_excel(bananawriter,index=False)"
   ]
  },
  {
   "cell_type": "code",
   "execution_count": null,
   "metadata": {},
   "outputs": [],
   "source": [
    "#Writing to different sheets\n",
    "with pd.ExcelWriter(outputpathxls) as bananawriter:\n",
    "    df.to_excel(bananawriter,index=False,sheet_name=\"MyFirstSheet\")\n",
    "    df.to_excel(bananawriter,index=False,sheet_name=\"MySecondSheet\")"
   ]
  },
  {
   "cell_type": "code",
   "execution_count": null,
   "metadata": {},
   "outputs": [],
   "source": [
    "#Adding sheets to an existing file\n",
    "with pd.ExcelWriter(outputpathxlsx,mode='a') as bananawriter:\n",
    "    df.to_excel(bananawriter,index=False,sheet_name=\"MyFirstSheet\")\n",
    "    df.to_excel(bananawriter,index=False,sheet_name=\"MySecondSheet\")"
   ]
  },
  {
   "cell_type": "code",
   "execution_count": null,
   "metadata": {},
   "outputs": [],
   "source": [
    "df['newdata']=[1,2,3]"
   ]
  },
  {
   "cell_type": "code",
   "execution_count": null,
   "metadata": {},
   "outputs": [],
   "source": [
    "#Adding sheets to an existing file\n",
    "with pd.ExcelWriter(outputpathxlsx) as bananawriter:\n",
    "    df.to_excel(bananawriter,index=False,sheet_name=\"MyFirstSheet\")"
   ]
  },
  {
   "cell_type": "code",
   "execution_count": null,
   "metadata": {},
   "outputs": [],
   "source": []
  }
 ],
 "metadata": {
  "kernelspec": {
   "display_name": "Python 3",
   "language": "python",
   "name": "python3"
  },
  "language_info": {
   "codemirror_mode": {
    "name": "ipython",
    "version": 3
   },
   "file_extension": ".py",
   "mimetype": "text/x-python",
   "name": "python",
   "nbconvert_exporter": "python",
   "pygments_lexer": "ipython3",
   "version": "3.8.5"
  }
 },
 "nbformat": 4,
 "nbformat_minor": 4
}
