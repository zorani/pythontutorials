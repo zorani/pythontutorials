{
 "cells": [
  {
   "cell_type": "code",
   "execution_count": null,
   "metadata": {},
   "outputs": [],
   "source": [
    "#Reading from Excel Files"
   ]
  },
  {
   "cell_type": "code",
   "execution_count": null,
   "metadata": {},
   "outputs": [],
   "source": [
    "import pandas as pd\n",
    "import os"
   ]
  },
  {
   "cell_type": "code",
   "execution_count": null,
   "metadata": {},
   "outputs": [],
   "source": [
    "# READING AN XLSX FILE\n",
    "datadir=\"~/mydata/\"\n",
    "inputxlsx=\"dataframetocsv_index_quoting.xlsx\"\n",
    "inputpathxlsx=datadir+inputxlsx\n",
    "print(inputpathxlsx)\n",
    "inputpathxlsx=os.path.expanduser(inputpathxlsx)\n",
    "inputpathxlsx=os.path.abspath(inputpathxlsx)\n",
    "print(inputpathxlsx)"
   ]
  },
  {
   "cell_type": "code",
   "execution_count": null,
   "metadata": {},
   "outputs": [],
   "source": [
    "df_xlsx=pd.read_excel(inputpathxlsx, sheet_name='Sheet1')"
   ]
  },
  {
   "cell_type": "code",
   "execution_count": null,
   "metadata": {},
   "outputs": [],
   "source": [
    "print(df_xlsx)"
   ]
  },
  {
   "cell_type": "code",
   "execution_count": null,
   "metadata": {},
   "outputs": [],
   "source": [
    "df_xlsx.dtypes"
   ]
  },
  {
   "cell_type": "code",
   "execution_count": null,
   "metadata": {},
   "outputs": [],
   "source": [
    "#Define datatype while reading, using JSON\n",
    "df_xlsx=pd.read_excel(inputpathxlsx,sheet_name='Sheet1',dtype={'fruits':str,'amount_int': int,'amount_str': str })"
   ]
  },
  {
   "cell_type": "code",
   "execution_count": null,
   "metadata": {},
   "outputs": [],
   "source": [
    "df_xlsx.dtypes"
   ]
  },
  {
   "cell_type": "code",
   "execution_count": null,
   "metadata": {},
   "outputs": [],
   "source": [
    "# READING AN XLS FILE\n",
    "datadir=\"~/mydata/\"\n",
    "inputxls=\"dataframetocsv_index_quoting.xls\"\n",
    "inputpathxls=datadir+inputxls\n",
    "print(inputpathxls)\n",
    "inputpathxls=os.path.expanduser(inputpathxls)\n",
    "inputpathxls=os.path.abspath(inputpathxls)\n",
    "print(inputpathxls)"
   ]
  },
  {
   "cell_type": "code",
   "execution_count": null,
   "metadata": {},
   "outputs": [],
   "source": [
    "df_xls=pd.read_excel(inputpathxls, sheet_name='MyFirstSheet')"
   ]
  },
  {
   "cell_type": "code",
   "execution_count": null,
   "metadata": {},
   "outputs": [],
   "source": [
    "df_xls.dtypes"
   ]
  },
  {
   "cell_type": "code",
   "execution_count": null,
   "metadata": {},
   "outputs": [],
   "source": [
    "#Define datatype while reading, using JSON\n",
    "df_xls=pd.read_excel(inputpathxls,sheet_name='MyFirstSheet',dtype={'fruits':str,'amount_int': int,'amount_str': str })"
   ]
  },
  {
   "cell_type": "code",
   "execution_count": null,
   "metadata": {},
   "outputs": [],
   "source": [
    "df_xls.dtypes"
   ]
  },
  {
   "cell_type": "code",
   "execution_count": null,
   "metadata": {},
   "outputs": [],
   "source": [
    "pd.read_excel(inputpathxls,sheet_name='MyFirstSheet',dtype={'fruits':str,'amount_int': int,'amount_str': str })"
   ]
  },
  {
   "cell_type": "code",
   "execution_count": null,
   "metadata": {},
   "outputs": [],
   "source": []
  }
 ],
 "metadata": {
  "kernelspec": {
   "display_name": "Python 3",
   "language": "python",
   "name": "python3"
  },
  "language_info": {
   "codemirror_mode": {
    "name": "ipython",
    "version": 3
   },
   "file_extension": ".py",
   "mimetype": "text/x-python",
   "name": "python",
   "nbconvert_exporter": "python",
   "pygments_lexer": "ipython3",
   "version": "3.8.5"
  }
 },
 "nbformat": 4,
 "nbformat_minor": 4
}
