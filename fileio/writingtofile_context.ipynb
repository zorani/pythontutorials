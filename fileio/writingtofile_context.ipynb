{
 "cells": [
  {
   "cell_type": "code",
   "execution_count": null,
   "metadata": {},
   "outputs": [],
   "source": [
    "#Creating and writting to a file using contexts.\n",
    "import os\n",
    "\n",
    "mydatadir=\"/home/zokitools/mydata/\"\n",
    "myfilename=\"mytextfile.txt\"\n",
    "\n",
    "myfilepath=mydatadir+myfilename\n",
    "print(myfilepath)"
   ]
  },
  {
   "cell_type": "code",
   "execution_count": null,
   "metadata": {},
   "outputs": [],
   "source": [
    "#Check if file exisits\n",
    "fileexists=os.path.exists(myfilepath)\n",
    "if(fileexists):\n",
    "    print(str(fileexists)+\": File exists!\")\n",
    "else:\n",
    "    print(str(fileexists)+\": File doesn't exist!\")"
   ]
  },
  {
   "cell_type": "code",
   "execution_count": null,
   "metadata": {},
   "outputs": [],
   "source": [
    "with open(myfilepath,'w') as dataoutputfile:\n",
    "    list_of_numbers=[1,2,3,4,5]\n",
    "\n",
    "    for number in list_of_numbers:\n",
    "        #Do'h forgot the new line char - added \"\\n\"\n",
    "        line_to_write=\"This is line \"+str(number)+\"\\n\"\n",
    "        dataoutputfile.write(line_to_write)\n",
    "    "
   ]
  },
  {
   "cell_type": "code",
   "execution_count": null,
   "metadata": {},
   "outputs": [],
   "source": []
  }
 ],
 "metadata": {
  "kernelspec": {
   "display_name": "Python 3",
   "language": "python",
   "name": "python3"
  },
  "language_info": {
   "codemirror_mode": {
    "name": "ipython",
    "version": 3
   },
   "file_extension": ".py",
   "mimetype": "text/x-python",
   "name": "python",
   "nbconvert_exporter": "python",
   "pygments_lexer": "ipython3",
   "version": "3.8.2"
  }
 },
 "nbformat": 4,
 "nbformat_minor": 4
}
