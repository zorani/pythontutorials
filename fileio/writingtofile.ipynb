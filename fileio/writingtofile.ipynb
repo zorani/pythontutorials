{
 "cells": [
  {
   "cell_type": "code",
   "execution_count": null,
   "metadata": {},
   "outputs": [],
   "source": [
    "#Creating and writting to a file.\n",
    "\n",
    "import os\n",
    "\n",
    "mydatadir=\"/home/zokitools/mydata/\"\n",
    "myfilename=\"mytextfile.txt\"\n",
    "\n",
    "myfilepath=mydatadir+myfilename\n",
    "print(myfilepath)"
   ]
  },
  {
   "cell_type": "code",
   "execution_count": null,
   "metadata": {},
   "outputs": [],
   "source": [
    "#To create an empty file, you can just open and close a name file.\n",
    "#Use x to only create file if it doesnt exist, w to overright.\n",
    "\n",
    "if(not os.path.exists(myfilepath)):\n",
    "    print(\"File doesn't exist, creating \"+str(myfilepath))\n",
    "    myfile = open(myfilepath,'x')\n",
    "    myfile.close()\n",
    "else:\n",
    "    print(\"file already exists\")"
   ]
  },
  {
   "cell_type": "code",
   "execution_count": null,
   "metadata": {},
   "outputs": [],
   "source": [
    "myfile = open(myfilepath,'a')\n",
    "list_of_numbers=[1,2,3,4,5]\n",
    "\n",
    "for number in list_of_numbers:\n",
    "    #Do'h forgot the new line char - added \"\\n\"\n",
    "    line_to_write=\"This is line \"+str(number)+\"\\n\"\n",
    "    myfile.write(line_to_write)\n",
    "    \n",
    "myfile.close()"
   ]
  },
  {
   "cell_type": "code",
   "execution_count": null,
   "metadata": {},
   "outputs": [],
   "source": [
    "#Using switch 'w' will write all over your existing data. Could be dangerous.\n",
    "myfile = open(myfilepath,'w')\n",
    "myfile.write(\"All your data belongs to us.\\n\")\n",
    "myfile.close()"
   ]
  },
  {
   "cell_type": "code",
   "execution_count": null,
   "metadata": {},
   "outputs": [],
   "source": []
  }
 ],
 "metadata": {
  "kernelspec": {
   "display_name": "Python 3",
   "language": "python",
   "name": "python3"
  },
  "language_info": {
   "codemirror_mode": {
    "name": "ipython",
    "version": 3
   },
   "file_extension": ".py",
   "mimetype": "text/x-python",
   "name": "python",
   "nbconvert_exporter": "python",
   "pygments_lexer": "ipython3",
   "version": "3.8.2"
  }
 },
 "nbformat": 4,
 "nbformat_minor": 4
}
