{
 "cells": [
  {
   "cell_type": "code",
   "execution_count": null,
   "metadata": {},
   "outputs": [],
   "source": [
    "#Working with file logic\n",
    "import os\n",
    "adirectory=\"/home/zokitools/myscripts/\"\n",
    "afile=\"/home/zokitools/mycert.pem\""
   ]
  },
  {
   "cell_type": "code",
   "execution_count": null,
   "metadata": {},
   "outputs": [],
   "source": [
    "#Check if file exists\n",
    "if(os.path.exists(adirectory)):\n",
    "    print(\"It exists\")\n",
    "else:\n",
    "    print(\"It doesn't exist\")\n",
    "    "
   ]
  },
  {
   "cell_type": "code",
   "execution_count": null,
   "metadata": {},
   "outputs": [],
   "source": [
    "#Check if file exists\n",
    "if(os.path.exists(afile)):\n",
    "    print(\"It exists\")\n",
    "else:\n",
    "    print(\"It doesn't exist\")"
   ]
  },
  {
   "cell_type": "code",
   "execution_count": null,
   "metadata": {},
   "outputs": [],
   "source": [
    "#Check if it is a directory\n",
    "if(os.path.isdir(adirectory)):\n",
    "    print(\"It is a directory\")\n",
    "else:\n",
    "    print(\"It is NOT a directory\")"
   ]
  },
  {
   "cell_type": "code",
   "execution_count": null,
   "metadata": {},
   "outputs": [],
   "source": [
    "#Check if it is a file\n",
    "if(os.path.isfile(adirectory)):\n",
    "    print(\"It is a file\")\n",
    "else:\n",
    "    print(\"It is NOT a file\")"
   ]
  },
  {
   "cell_type": "code",
   "execution_count": null,
   "metadata": {},
   "outputs": [],
   "source": [
    "#Check if it is a file\n",
    "if(os.path.isfile(afile)):\n",
    "    print(\"It is a file\")\n",
    "else:\n",
    "    print(\"It is NOT a file\")"
   ]
  },
  {
   "cell_type": "code",
   "execution_count": null,
   "metadata": {},
   "outputs": [],
   "source": []
  }
 ],
 "metadata": {
  "kernelspec": {
   "display_name": "Python 3",
   "language": "python",
   "name": "python3"
  },
  "language_info": {
   "codemirror_mode": {
    "name": "ipython",
    "version": 3
   },
   "file_extension": ".py",
   "mimetype": "text/x-python",
   "name": "python",
   "nbconvert_exporter": "python",
   "pygments_lexer": "ipython3",
   "version": "3.8.2"
  }
 },
 "nbformat": 4,
 "nbformat_minor": 4
}
