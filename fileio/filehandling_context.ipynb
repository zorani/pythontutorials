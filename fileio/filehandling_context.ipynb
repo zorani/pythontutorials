{
 "cells": [
  {
   "cell_type": "code",
   "execution_count": null,
   "metadata": {},
   "outputs": [],
   "source": [
    "#FileHandling with contexts\n",
    "# r - read\n",
    "# a - append\n",
    "# w - write\n",
    "# x - same as w, but if file exists already if error out\n",
    "\n",
    "mydatadir=\"/home/zokitools/mydata/\"\n",
    "myfilename=\"mytextfile.txt\"\n",
    "\n",
    "myfilepath=mydatadir+myfilename\n",
    "print(myfilepath)"
   ]
  },
  {
   "cell_type": "code",
   "execution_count": null,
   "metadata": {},
   "outputs": [],
   "source": [
    "with open(myfilepath,'rt') as bugsbunny:\n",
    "    for line in bugsbunny:\n",
    "        print(line,end=\"\")"
   ]
  },
  {
   "cell_type": "code",
   "execution_count": null,
   "metadata": {},
   "outputs": [],
   "source": []
  }
 ],
 "metadata": {
  "kernelspec": {
   "display_name": "Python 3",
   "language": "python",
   "name": "python3"
  },
  "language_info": {
   "codemirror_mode": {
    "name": "ipython",
    "version": 3
   },
   "file_extension": ".py",
   "mimetype": "text/x-python",
   "name": "python",
   "nbconvert_exporter": "python",
   "pygments_lexer": "ipython3",
   "version": "3.8.2"
  }
 },
 "nbformat": 4,
 "nbformat_minor": 4
}
