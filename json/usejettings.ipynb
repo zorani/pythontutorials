{
 "cells": [
  {
   "cell_type": "code",
   "execution_count": null,
   "id": "tested-tulsa",
   "metadata": {},
   "outputs": [],
   "source": [
    "#Reading and writting to a file.. using Jettings.\n",
    "#We have already covered reading and writting text to a file, since JSON is text, we won't be doing this again.\n",
    "#BUT. If you are using JSON as a settings file.. to change a setting, you need to do the following.\n",
    "# 1) Load Json text from.\n",
    "# 2) Convert Json to dict.\n",
    "# 3) Change setting.\n",
    "# 4) Convert dict to Json.\n",
    "# 5) Save json text to file.\n",
    "#\n",
    "# Which is a lot of work... so, I created Jettings.\n",
    "# Details can be found here: https://pypi.org/project/jettings/\n",
    "# For your own benefit, write code to do the above...\n",
    "# But when writting some quick code that need to store passwords, use jettings like we have."
   ]
  },
  {
   "cell_type": "code",
   "execution_count": null,
   "id": "artistic-filter",
   "metadata": {},
   "outputs": [],
   "source": [
    "from jettings import Jettings\n",
    "import os"
   ]
  },
  {
   "cell_type": "code",
   "execution_count": null,
   "id": "unable-aluminum",
   "metadata": {},
   "outputs": [],
   "source": [
    "#Lets choose a location of our json file\n",
    "filelocation=\"~/mydata/myfirstjson.json\"\n",
    "#Expand the home dir\n",
    "filelocation=os.path.expanduser(filelocation)\n",
    "filelocation=os.path.abspath(filelocation)\n",
    "#Let's see where our file is going to be\n",
    "print(filelocation)"
   ]
  },
  {
   "cell_type": "code",
   "execution_count": null,
   "id": "recorded-tanzania",
   "metadata": {},
   "outputs": [],
   "source": [
    "#Lets create the json file\n",
    "my_json_file=Jettings(filelocation)"
   ]
  },
  {
   "cell_type": "code",
   "execution_count": null,
   "id": "bridal-worst",
   "metadata": {},
   "outputs": [],
   "source": [
    "#Lets add a json entry.\n",
    "my_json_file.sets(['key1'],\"SomeValue\")\n",
    "my_json_file.sets(['key2'],\"SomeValue2\")\n",
    "my_json_file.sets(['key4','subkey5'],\"SomeValue3\")\n",
    "my_json_file.sets(['key4','subkey5'],[True,False,None])\n"
   ]
  },
  {
   "cell_type": "code",
   "execution_count": null,
   "id": "painted-minimum",
   "metadata": {},
   "outputs": [],
   "source": [
    "#Now go take a look at your file using vim or nano at\n",
    "print(filelocation)"
   ]
  },
  {
   "cell_type": "code",
   "execution_count": null,
   "id": "dressed-gothic",
   "metadata": {},
   "outputs": [],
   "source": [
    "#You should see your Python data stored as json data in a json text file!!!\n",
    "#Easy."
   ]
  },
  {
   "cell_type": "code",
   "execution_count": null,
   "id": "subjective-sharing",
   "metadata": {},
   "outputs": [],
   "source": [
    "#Retriving data is easy using gets, and supplying the key path.\n",
    "my_list=my_json_file.gets(['key4','subkey5'])\n",
    "print(type(my_list))\n",
    "print(my_list)"
   ]
  },
  {
   "cell_type": "code",
   "execution_count": null,
   "id": "elder-submission",
   "metadata": {},
   "outputs": [],
   "source": []
  }
 ],
 "metadata": {
  "kernelspec": {
   "display_name": "Python 3",
   "language": "python",
   "name": "python3"
  },
  "language_info": {
   "codemirror_mode": {
    "name": "ipython",
    "version": 3
   },
   "file_extension": ".py",
   "mimetype": "text/x-python",
   "name": "python",
   "nbconvert_exporter": "python",
   "pygments_lexer": "ipython3",
   "version": "3.8.5"
  }
 },
 "nbformat": 4,
 "nbformat_minor": 5
}
