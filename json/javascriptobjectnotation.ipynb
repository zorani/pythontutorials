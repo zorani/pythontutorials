{
 "cells": [
  {
   "cell_type": "code",
   "execution_count": null,
   "id": "durable-acoustic",
   "metadata": {},
   "outputs": [],
   "source": [
    "#JSON , Java Script Object Notation"
   ]
  },
  {
   "cell_type": "code",
   "execution_count": null,
   "id": "alleged-inspection",
   "metadata": {},
   "outputs": [],
   "source": [
    "#You know what a CSV file is?  comma separated variable... stored as a text file\n",
    "#CSV file is just structure text, data seperated by a comma."
   ]
  },
  {
   "cell_type": "code",
   "execution_count": null,
   "id": "sporting-cardiff",
   "metadata": {},
   "outputs": [],
   "source": [
    "#JSON is also just structured text.\n",
    "#Just a little more powerful."
   ]
  },
  {
   "cell_type": "code",
   "execution_count": null,
   "id": "complimentary-individual",
   "metadata": {},
   "outputs": [],
   "source": [
    "import json"
   ]
  },
  {
   "cell_type": "code",
   "execution_count": null,
   "id": "cooperative-draft",
   "metadata": {},
   "outputs": [],
   "source": [
    "#An empty JSON object.\n",
    "empty_json_object='{}'\n",
    "print(empty_json_object)\n",
    "print(type(empty_json_object))"
   ]
  },
  {
   "cell_type": "code",
   "execution_count": null,
   "id": "moved-attack",
   "metadata": {},
   "outputs": [],
   "source": [
    "#JSON stores it's date in key-value pairs. Key value pairs are seperated by a comma. Key name on the left, key value on the right.\n",
    "example_key_value='{\"first_name\" : \"Anna\", \"second_name\" : \"Anchovie\"}'\n",
    "print(example_key_value)\n",
    "print(type(example_key_value))"
   ]
  },
  {
   "cell_type": "code",
   "execution_count": null,
   "id": "refined-linux",
   "metadata": {},
   "outputs": [],
   "source": [
    "#Usualy developers like to store JSON in a readable form.\n",
    "example_key_value2='''\n",
    "{\n",
    " \"first_name\" : \"Anna\", \n",
    " \"second_name\" : \"Anchovie\"\n",
    "}\n",
    "'''\n",
    "print(example_key_value2)"
   ]
  },
  {
   "cell_type": "code",
   "execution_count": null,
   "id": "competitive-irish",
   "metadata": {},
   "outputs": [],
   "source": [
    "#It looks like a dictionary... more on this later. But we are still typing out a text."
   ]
  },
  {
   "cell_type": "code",
   "execution_count": null,
   "id": "manufactured-accountability",
   "metadata": {},
   "outputs": [],
   "source": [
    "#JSON ARRAYS\n",
    "array_of_numbers='{\"my_numbers\":[1,2,3,4]}'\n",
    "print(type(array_of_numbers))\n",
    "print(array_of_numbers)"
   ]
  },
  {
   "cell_type": "code",
   "execution_count": null,
   "id": "interested-large",
   "metadata": {},
   "outputs": [],
   "source": [
    "array_of_strings='{\"my_strings\":[\"apple\",\"banana\",\"cherry\",\"durian\"]}'\n",
    "print(type(array_of_strings))\n",
    "print(array_of_strings)"
   ]
  },
  {
   "cell_type": "code",
   "execution_count": null,
   "id": "preceding-backing",
   "metadata": {},
   "outputs": [],
   "source": [
    "array_of_bool='{\"my_bools\":[true,false,false,true]}'\n",
    "print(type(array_of_bool))\n",
    "print(array_of_bool)"
   ]
  },
  {
   "cell_type": "code",
   "execution_count": null,
   "id": "sublime-facility",
   "metadata": {},
   "outputs": [],
   "source": [
    "array_of_nulls='\"my_nulls\":[null,null,null]'\n",
    "print(type(array_of_nulls))\n",
    "print(array_of_nulls)"
   ]
  },
  {
   "cell_type": "code",
   "execution_count": null,
   "id": "adapted-wheat",
   "metadata": {},
   "outputs": [],
   "source": [
    "#NESTING JSON\n",
    "#You can also nest json.. which is what makes a lot of json files look complicated, but they are not.\n",
    "nested_json_example='''\n",
    "{\n",
    " \"example1\":{\"my_numbers\":[1,2,3,4] },\n",
    " \"example2\":{\"my_strings\":[\"apple\",\"banana\",\"cherry\",\"durian\"]},\n",
    " \"example3\":{\"my_bools\":[true,false,false,true]},\n",
    " \"example4\":{\"my_nulls\":[null,null,null]},\n",
    " \"list_of_objects\":[{\"data1\":\"blah...\"},{\"data2\":\"blah2...\"},{\"data3\":\"blah3...\"}]\n",
    "}\n",
    "\n",
    "'''\n",
    "print(type(nested_json_example))\n",
    "print(nested_json_example)"
   ]
  },
  {
   "cell_type": "code",
   "execution_count": null,
   "id": "cleared-thomson",
   "metadata": {},
   "outputs": [],
   "source": [
    "#What use is this text if you can't access data with python?"
   ]
  },
  {
   "cell_type": "code",
   "execution_count": null,
   "id": "equivalent-pillow",
   "metadata": {},
   "outputs": [],
   "source": [
    "#Loading json data... json.loads()\n",
    "#Don't get confused with loading from a file, json.loads() takes a json string and converts it to python datastructures.\n",
    "#Json strings can be stored in files, read and written to just like we have in other lessons."
   ]
  },
  {
   "cell_type": "code",
   "execution_count": null,
   "id": "anonymous-arrest",
   "metadata": {},
   "outputs": [],
   "source": [
    "type(nested_json_example)\n",
    "loaded_json_example=json.loads(nested_json_example)\n",
    "print(type(loaded_json_example))\n",
    "print(loaded_json_example)"
   ]
  },
  {
   "cell_type": "code",
   "execution_count": null,
   "id": "geological-cambodia",
   "metadata": {},
   "outputs": [],
   "source": [
    "#Wooop! We have a python dictionary.\n",
    "#We converted JSON text to a python dictionary... now we can have fun."
   ]
  },
  {
   "cell_type": "code",
   "execution_count": null,
   "id": "developmental-nurse",
   "metadata": {},
   "outputs": [],
   "source": [
    "example1=loaded_json_example['example1']\n",
    "print(type(example1))\n",
    "print(example1)"
   ]
  },
  {
   "cell_type": "code",
   "execution_count": null,
   "id": "effective-tiger",
   "metadata": {},
   "outputs": [],
   "source": [
    "example1_my_numbers=example1['my_numbers']\n",
    "print(type(example1_my_numbers))\n",
    "print(example1_my_numbers)"
   ]
  },
  {
   "cell_type": "code",
   "execution_count": null,
   "id": "played-label",
   "metadata": {},
   "outputs": [],
   "source": [
    "example2=loaded_json_example['example2']\n",
    "print(type(example2))\n",
    "print(example2)"
   ]
  },
  {
   "cell_type": "code",
   "execution_count": null,
   "id": "connected-safety",
   "metadata": {},
   "outputs": [],
   "source": [
    "example2_my_strings=example2['my_strings']\n",
    "print(type(example2_my_strings))\n",
    "print(example2_my_strings)"
   ]
  },
  {
   "cell_type": "code",
   "execution_count": null,
   "id": "local-texas",
   "metadata": {},
   "outputs": [],
   "source": [
    "example3=loaded_json_example['example3']\n",
    "print(type(example3))\n",
    "print(example3)"
   ]
  },
  {
   "cell_type": "code",
   "execution_count": null,
   "id": "empty-place",
   "metadata": {},
   "outputs": [],
   "source": [
    "example3_my_bools=example3['my_bools']\n",
    "print(type(example3_my_bools))\n",
    "print(example3_my_bools)"
   ]
  },
  {
   "cell_type": "code",
   "execution_count": null,
   "id": "alike-pattern",
   "metadata": {},
   "outputs": [],
   "source": [
    "#Notice that JSON bools are all lower case, false, true but python bools are upper, True False. This is converted for you as part of json.loads()"
   ]
  },
  {
   "cell_type": "code",
   "execution_count": null,
   "id": "entitled-logic",
   "metadata": {},
   "outputs": [],
   "source": [
    "example4=loaded_json_example['example4']\n",
    "print(type(example4))\n",
    "print(example4)"
   ]
  },
  {
   "cell_type": "code",
   "execution_count": null,
   "id": "addressed-sight",
   "metadata": {},
   "outputs": [],
   "source": [
    "example4_my_nulls=example4['my_nulls']\n",
    "print(type(example4_my_nulls))\n",
    "print(example4_my_nulls)"
   ]
  },
  {
   "cell_type": "code",
   "execution_count": null,
   "id": "athletic-juice",
   "metadata": {},
   "outputs": [],
   "source": [
    "#Notice, in json you have null, but in python it is converted to None."
   ]
  },
  {
   "cell_type": "code",
   "execution_count": null,
   "id": "rising-trade",
   "metadata": {},
   "outputs": [],
   "source": [
    "list_of_objects=loaded_json_example['list_of_objects']\n",
    "print(type(list_of_objects))\n",
    "print(list_of_objects)"
   ]
  },
  {
   "cell_type": "code",
   "execution_count": null,
   "id": "fancy-discrimination",
   "metadata": {},
   "outputs": [],
   "source": [
    "for item in list_of_objects:\n",
    "    print(type(item))"
   ]
  },
  {
   "cell_type": "code",
   "execution_count": null,
   "id": "warming-psychology",
   "metadata": {},
   "outputs": [],
   "source": [
    "print(type(list_of_objects[0]))\n",
    "print(type(list_of_objects[1]))\n",
    "print(type(list_of_objects[2]))"
   ]
  },
  {
   "cell_type": "code",
   "execution_count": null,
   "id": "impaired-crest",
   "metadata": {},
   "outputs": [],
   "source": [
    "print(list_of_objects[0]['data1'])\n",
    "print(list_of_objects[1]['data2'])\n",
    "print(list_of_objects[2]['data3'])\n"
   ]
  },
  {
   "cell_type": "code",
   "execution_count": null,
   "id": "controlling-rouge",
   "metadata": {},
   "outputs": [],
   "source": [
    "#What about converting from a python dict to a json data string? json.dumps()\n",
    "#json.dumps() dumps a python dict to a json string."
   ]
  },
  {
   "cell_type": "code",
   "execution_count": null,
   "id": "earlier-horror",
   "metadata": {},
   "outputs": [],
   "source": [
    "#Lets create a python dict"
   ]
  },
  {
   "cell_type": "code",
   "execution_count": null,
   "id": "congressional-iraqi",
   "metadata": {},
   "outputs": [],
   "source": [
    "my_dict={}\n",
    "my_dict['item1']=\"hello\"\n",
    "my_dict['item2']=(1,2,3,4)\n",
    "my_dict['item3']=[\"one\",2,\"three\"]\n",
    "print(type(my_dict))\n",
    "print(my_dict)\n"
   ]
  },
  {
   "cell_type": "code",
   "execution_count": null,
   "id": "differential-coach",
   "metadata": {},
   "outputs": [],
   "source": [
    "my_dict_as_json_string=json.dumps(my_dict)\n",
    "print(type(my_dict_as_json_string))\n",
    "print(my_dict_as_json_string)"
   ]
  },
  {
   "cell_type": "code",
   "execution_count": null,
   "id": "czech-separation",
   "metadata": {},
   "outputs": [],
   "source": [
    "#Okay, lets create another puython dict...\n",
    "#Don't get confused, this is the other way to define a dict in python... it looks similar to the json string, but this is all python code.\n",
    "my_dict2 = {\n",
    "  \"name\": \"John\",\n",
    "  \"age\": 30,\n",
    "  \"married\": True,\n",
    "  \"divorced\": False,\n",
    "  \"children\": (\"Ann\",\"Billy\"),\n",
    "  \"pets\": None,\n",
    "  \"cars\": [\n",
    "    {\"model\": \"BMW 230\", \"mpg\": 27.5},\n",
    "    {\"model\": \"Ford Edge\", \"mpg\": 24.1}\n",
    "  ]\n",
    "}\n",
    "print(type(my_dict2))\n",
    "print(my_dict2)"
   ]
  },
  {
   "cell_type": "code",
   "execution_count": null,
   "id": "clear-queensland",
   "metadata": {},
   "outputs": [],
   "source": [
    "#Now convert to json string\n",
    "my_dict_2_as_json_string=json.dumps(my_dict2)\n",
    "print(type(my_dict_2_as_json_string))\n",
    "print(my_dict_2_as_json_string)"
   ]
  },
  {
   "cell_type": "code",
   "execution_count": null,
   "id": "sharp-society",
   "metadata": {},
   "outputs": [],
   "source": [
    "#You can store your json string in text files, in a database field, or an excell cell... or email... it is just a text file like a csv file."
   ]
  },
  {
   "cell_type": "code",
   "execution_count": null,
   "id": "annual-music",
   "metadata": {},
   "outputs": [],
   "source": [
    "#Formating....  json can get pretty large and unreadable... you can use indent to make it more readable.\n",
    "my_dict_2_as_json_string_with_indent=json.dumps(my_dict2,indent=4)\n",
    "print(type(my_dict_2_as_json_string_with_indent))\n",
    "print(my_dict_2_as_json_string_with_indent)"
   ]
  },
  {
   "cell_type": "code",
   "execution_count": null,
   "id": "departmental-spine",
   "metadata": {},
   "outputs": [],
   "source": [
    "#Look at that!! You can also sort by keys alphabetialy.\n",
    "my_dict_2_as_json_string_with_indent_sorted=json.dumps(my_dict2,indent=4,sort_keys=True)\n",
    "print(type(my_dict_2_as_json_string_with_indent_sorted))\n",
    "print(my_dict_2_as_json_string_with_indent_sorted)"
   ]
  },
  {
   "cell_type": "code",
   "execution_count": null,
   "id": "insured-doctrine",
   "metadata": {},
   "outputs": [],
   "source": [
    "#Storing sorted JSON in a file like this makes it much more readable.\n",
    "#You have seen json before, in the database password file, and the zokitools config file."
   ]
  },
  {
   "cell_type": "code",
   "execution_count": null,
   "id": "optional-expert",
   "metadata": {},
   "outputs": [],
   "source": [
    "#Here are the Python/Json equivalent datatypes... you should be aware of\n",
    "\n",
    "#Python     JSON\n",
    "#-----------------\n",
    "#dict       Object\n",
    "#list       Array\n",
    "#tuple      Array\n",
    "#str        String\n",
    "#int        Number\n",
    "#float      Number\n",
    "#True       true\n",
    "#False      false\n",
    "#None       null"
   ]
  }
 ],
 "metadata": {
  "kernelspec": {
   "display_name": "Python 3",
   "language": "python",
   "name": "python3"
  },
  "language_info": {
   "codemirror_mode": {
    "name": "ipython",
    "version": 3
   },
   "file_extension": ".py",
   "mimetype": "text/x-python",
   "name": "python",
   "nbconvert_exporter": "python",
   "pygments_lexer": "ipython3",
   "version": "3.8.5"
  }
 },
 "nbformat": 4,
 "nbformat_minor": 5
}
