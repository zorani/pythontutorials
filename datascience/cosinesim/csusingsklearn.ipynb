{
 "cells": [
  {
   "cell_type": "code",
   "execution_count": null,
   "id": "complimentary-mauritius",
   "metadata": {},
   "outputs": [],
   "source": [
    "from sklearn.metrics.pairwise import cosine_similarity\n",
    "import pandas as pd\n",
    "import numpy as np"
   ]
  },
  {
   "cell_type": "code",
   "execution_count": null,
   "id": "domestic-offset",
   "metadata": {},
   "outputs": [],
   "source": [
    "ana=[1,0,0]\n",
    "bob=[0,1,0]\n",
    "carl=[1,1,0]"
   ]
  },
  {
   "cell_type": "code",
   "execution_count": null,
   "id": "placed-nerve",
   "metadata": {},
   "outputs": [],
   "source": [
    "dave=[0,1,0]\n",
    "eden=[1,0,1]\n",
    "frank=[1,0,0]"
   ]
  },
  {
   "cell_type": "code",
   "execution_count": null,
   "id": "labeled-organizer",
   "metadata": {},
   "outputs": [],
   "source": [
    "buyers_blue_series=pd.Series([0,0,0])\n",
    "buyers_green_series=pd.Series([0,1,1])\n",
    "buyers_red_series=pd.Series([1,0,1])"
   ]
  },
  {
   "cell_type": "code",
   "execution_count": null,
   "id": "departmental-insulin",
   "metadata": {},
   "outputs": [],
   "source": [
    "buyers_dataframe_definition={'red':buyers_red_series,'green':buyers_green_series,'blue':buyers_blue_series}\n",
    "#Pass definition in to pandas\n",
    "buyers_df=pd.DataFrame(buyers_dataframe_definition)\n",
    "print(buyers_df)"
   ]
  },
  {
   "cell_type": "code",
   "execution_count": null,
   "id": "republican-latter",
   "metadata": {},
   "outputs": [],
   "source": [
    "sellers_blue_series=pd.Series([0,1,0])\n",
    "sellers_green_series=pd.Series([1,0,0])\n",
    "sellers_red_series=pd.Series([0,1,1])"
   ]
  },
  {
   "cell_type": "code",
   "execution_count": null,
   "id": "dying-space",
   "metadata": {},
   "outputs": [],
   "source": [
    "sellers_dataframe_definition={'red':sellers_red_series,'green':sellers_green_series,'blue':sellers_blue_series}\n",
    "#Pass definition in to pandas\n",
    "sellers_df=pd.DataFrame(sellers_dataframe_definition)\n",
    "print(sellers_df)"
   ]
  },
  {
   "cell_type": "code",
   "execution_count": null,
   "id": "preliminary-registration",
   "metadata": {},
   "outputs": [],
   "source": [
    "cosine_similarity(sellers_df,buyers_df)"
   ]
  },
  {
   "cell_type": "code",
   "execution_count": null,
   "id": "desirable-literature",
   "metadata": {},
   "outputs": [],
   "source": [
    "import numpy as np"
   ]
  },
  {
   "cell_type": "code",
   "execution_count": null,
   "id": "hourly-exhibit",
   "metadata": {},
   "outputs": [],
   "source": [
    "def my_cosine_similarity(a,b):\n",
    "    dot_product=np.dot(a,b)\n",
    "    mag_a=np.linalg.norm(a)\n",
    "    mag_b=np.linalg.norm(b)\n",
    "    result=(dot_product)/(mag_a * mag_b)\n",
    "    return result"
   ]
  },
  {
   "cell_type": "code",
   "execution_count": null,
   "id": "drawn-billy",
   "metadata": {},
   "outputs": [],
   "source": [
    "my_cosine_similarity(eden,carl)"
   ]
  },
  {
   "cell_type": "code",
   "execution_count": null,
   "id": "confirmed-victor",
   "metadata": {},
   "outputs": [],
   "source": [
    "my_cosine_similarity(eden,ana)"
   ]
  },
  {
   "cell_type": "code",
   "execution_count": null,
   "id": "metric-demonstration",
   "metadata": {},
   "outputs": [],
   "source": [
    "my_cosine_similarity(frank,ana)"
   ]
  },
  {
   "cell_type": "code",
   "execution_count": null,
   "id": "functioning-cable",
   "metadata": {},
   "outputs": [],
   "source": [
    "np.ones((3,3))"
   ]
  },
  {
   "cell_type": "code",
   "execution_count": null,
   "id": "celtic-backup",
   "metadata": {},
   "outputs": [],
   "source": [
    "cosinesim= cosine_similarity(sellers_df,buyers_df)"
   ]
  },
  {
   "cell_type": "code",
   "execution_count": null,
   "id": "single-there",
   "metadata": {},
   "outputs": [],
   "source": [
    "ones3=np.ones((3,3))"
   ]
  },
  {
   "cell_type": "code",
   "execution_count": null,
   "id": "future-sheriff",
   "metadata": {},
   "outputs": [],
   "source": [
    "cosinesim"
   ]
  },
  {
   "cell_type": "code",
   "execution_count": null,
   "id": "alert-luxembourg",
   "metadata": {},
   "outputs": [],
   "source": [
    "ones3-cosinesim"
   ]
  },
  {
   "cell_type": "code",
   "execution_count": null,
   "id": "quantitative-layer",
   "metadata": {},
   "outputs": [],
   "source": []
  }
 ],
 "metadata": {
  "kernelspec": {
   "display_name": "Python 3",
   "language": "python",
   "name": "python3"
  },
  "language_info": {
   "codemirror_mode": {
    "name": "ipython",
    "version": 3
   },
   "file_extension": ".py",
   "mimetype": "text/x-python",
   "name": "python",
   "nbconvert_exporter": "python",
   "pygments_lexer": "ipython3",
   "version": "3.8.5"
  }
 },
 "nbformat": 4,
 "nbformat_minor": 5
}
