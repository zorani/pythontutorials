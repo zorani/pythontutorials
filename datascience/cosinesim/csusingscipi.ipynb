{
 "cells": [
  {
   "cell_type": "code",
   "execution_count": null,
   "id": "south-harvard",
   "metadata": {},
   "outputs": [],
   "source": [
    "#Using sci-pi"
   ]
  },
  {
   "cell_type": "code",
   "execution_count": null,
   "id": "requested-scoop",
   "metadata": {},
   "outputs": [],
   "source": [
    "from scipy.spatial import distance"
   ]
  },
  {
   "cell_type": "code",
   "execution_count": null,
   "id": "crucial-walnut",
   "metadata": {},
   "outputs": [],
   "source": [
    "ana=[1,0,0]\n",
    "bob=[0,1,0]\n",
    "carl=[1,1,0]"
   ]
  },
  {
   "cell_type": "code",
   "execution_count": null,
   "id": "suited-shooting",
   "metadata": {},
   "outputs": [],
   "source": [
    "dave=[0,1,0]\n",
    "eden=[1,0,1]\n",
    "frank=[1,0,0]"
   ]
  },
  {
   "cell_type": "code",
   "execution_count": null,
   "id": "widespread-voltage",
   "metadata": {},
   "outputs": [],
   "source": [
    "distance.cosine(ana,carl)"
   ]
  },
  {
   "cell_type": "code",
   "execution_count": null,
   "id": "coordinated-denver",
   "metadata": {},
   "outputs": [],
   "source": [
    "def cosine_distance(a,b):\n",
    "    return distance.cosine(a,b)"
   ]
  },
  {
   "cell_type": "code",
   "execution_count": null,
   "id": "cordless-perfume",
   "metadata": {},
   "outputs": [],
   "source": [
    "def cosine_similarity(a,b):\n",
    "    return 1 - distance.cosine(a,b)"
   ]
  },
  {
   "cell_type": "code",
   "execution_count": null,
   "id": "dated-atlanta",
   "metadata": {},
   "outputs": [],
   "source": [
    "jn=[1,0,0]\n",
    "ah=[1,1,1]\n",
    "cosine_similarity(jn,ah)"
   ]
  },
  {
   "cell_type": "code",
   "execution_count": null,
   "id": "royal-gossip",
   "metadata": {},
   "outputs": [],
   "source": [
    "cosine_distance(jn,ah)"
   ]
  },
  {
   "cell_type": "code",
   "execution_count": null,
   "id": "magnetic-talent",
   "metadata": {},
   "outputs": [],
   "source": []
  }
 ],
 "metadata": {
  "kernelspec": {
   "display_name": "Python 3",
   "language": "python",
   "name": "python3"
  },
  "language_info": {
   "codemirror_mode": {
    "name": "ipython",
    "version": 3
   },
   "file_extension": ".py",
   "mimetype": "text/x-python",
   "name": "python",
   "nbconvert_exporter": "python",
   "pygments_lexer": "ipython3",
   "version": "3.8.5"
  }
 },
 "nbformat": 4,
 "nbformat_minor": 5
}
