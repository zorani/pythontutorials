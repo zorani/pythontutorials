{
 "cells": [
  {
   "cell_type": "code",
   "execution_count": null,
   "id": "arranged-assembly",
   "metadata": {},
   "outputs": [],
   "source": [
    "import os\n",
    "import pandas as pd\n",
    "from sklearn.metrics.pairwise import cosine_similarity\n",
    "import numpy as np"
   ]
  },
  {
   "cell_type": "code",
   "execution_count": null,
   "id": "constant-musical",
   "metadata": {},
   "outputs": [],
   "source": [
    "#buyers\n",
    "#name,colour\n",
    "#ana,red\n",
    "#bob,green\n",
    "#carl,red|green"
   ]
  },
  {
   "cell_type": "code",
   "execution_count": null,
   "id": "surprising-wilderness",
   "metadata": {},
   "outputs": [],
   "source": [
    "#sellers\n",
    "#name,colour\n",
    "#dave,green\n",
    "#eden,red|blue\n",
    "#frank,red"
   ]
  },
  {
   "cell_type": "code",
   "execution_count": null,
   "id": "recovered-bangladesh",
   "metadata": {},
   "outputs": [],
   "source": [
    "datadirectory='~/mydata/'\n",
    "datadirectory=os.path.expanduser(datadirectory)\n",
    "print(datadirectory)"
   ]
  },
  {
   "cell_type": "code",
   "execution_count": null,
   "id": "approved-reality",
   "metadata": {},
   "outputs": [],
   "source": [
    "sellers_file=datadirectory+'sellers3.csv'\n",
    "buyers_file=datadirectory+'buyers3.csv'"
   ]
  },
  {
   "cell_type": "code",
   "execution_count": null,
   "id": "asian-grass",
   "metadata": {},
   "outputs": [],
   "source": [
    "print(sellers_file)"
   ]
  },
  {
   "cell_type": "code",
   "execution_count": null,
   "id": "olive-coffee",
   "metadata": {},
   "outputs": [],
   "source": [
    "print(buyers_file)"
   ]
  },
  {
   "cell_type": "code",
   "execution_count": null,
   "id": "economic-portugal",
   "metadata": {},
   "outputs": [],
   "source": [
    "#Create test files"
   ]
  },
  {
   "cell_type": "code",
   "execution_count": null,
   "id": "lightweight-monkey",
   "metadata": {},
   "outputs": [],
   "source": [
    "\n",
    "def create_test_csv_file(test_file,headers,list_of_customers):\n",
    "    if os.path.exists(test_file):\n",
    "        return None\n",
    "\n",
    "    with open(test_file,'w') as dataoutputfile:\n",
    "        #Write the csv header\n",
    "        dataoutputfile.write( str(headers) +\"\\n\")\n",
    "    \n",
    "        for seller in list_of_customers:\n",
    "            line_to_write=str(seller)+\"\\n\"\n",
    "            dataoutputfile.write(line_to_write)"
   ]
  },
  {
   "cell_type": "code",
   "execution_count": null,
   "id": "chicken-malpractice",
   "metadata": {},
   "outputs": [],
   "source": [
    "headers=\"name,colour,shape,size\"\n",
    "\n",
    "list_of_sellers=  [\n",
    "    \n",
    "        \"dave,green|red|blue,circle%square%triangle,small:medium:large\",\n",
    "        \"eden,red|blue,square%triangle,medium\",\n",
    "        \"frank,red|purple,circle,small:medium\"\n",
    "    ]\n",
    "\n",
    "list_of_buyers=  [\n",
    "    \n",
    "        \"ana,green|red,triangle%square,\",\n",
    "        \"bob,green,circle%square,medium:large\",\n",
    "        \"carl,red|green,,small:large\",\n",
    "        \"joe,purple,triangle,medium:large\"\n",
    "    ]\n",
    "\n",
    "create_test_csv_file(sellers_file,headers,list_of_sellers)\n",
    "create_test_csv_file(buyers_file,headers,list_of_buyers)\n",
    "\n",
    "#What is the ID field\n",
    "id_field=\"name\"\n",
    "\n",
    "#What fields will you match on, a dicitonar\n",
    "#Field / Delimiter\n",
    "matchfields={}\n",
    "matchfields['colour']='|'\n",
    "matchfields['shape']='%'\n",
    "matchfields['size']=':'"
   ]
  },
  {
   "cell_type": "code",
   "execution_count": null,
   "id": "assumed-indian",
   "metadata": {},
   "outputs": [],
   "source": [
    "sellers_df=pd.read_csv(sellers_file,delimiter=',',header=0,quotechar='\"')\n",
    "buyers_df=pd.read_csv(buyers_file,delimiter=',',header=0,quotechar='\"')"
   ]
  },
  {
   "cell_type": "code",
   "execution_count": null,
   "id": "aerial-container",
   "metadata": {},
   "outputs": [],
   "source": [
    "#Horizontal combination of DataFrames \n",
    "#df3=pd.concat([df1,df2],axis=1)\n",
    "sellers_all_dummy=None\n",
    "buyers_all_dummy=None\n",
    "all_values_all=[]\n",
    "for key in matchfields:\n",
    "    field=str(key)\n",
    "    delim=matchfields[key]\n",
    "    sellers_dummy_tmp=sellers_df[field].str.get_dummies(sep=delim)\n",
    "    buyers_dummy_tmp=buyers_df[field].str.get_dummies(sep=delim)\n",
    "    all_values,buy_missing,sell_missing =get_dummy_diffs(buyers_dummy_tmp,sellers_dummy_tmp)\n",
    "    all_values_all=all_values_all+all_values\n",
    "    pad_dummy(buyers_dummy_tmp,buy_missing)\n",
    "    pad_dummy(sellers_dummy_tmp,sell_missing)\n",
    "    sellers_all_dummy=pd.concat([sellers_all_dummy,sellers_dummy_tmp],axis=1)\n",
    "    buyers_all_dummy=pd.concat([buyers_all_dummy,buyers_dummy_tmp],axis=1)\n",
    "#buyers_all_dummy=buyers_all_dummy.replace(np.nan,0)\n",
    "#sellers_all_dummy=sellers_all_dummy.fillna(0)\n",
    "buyers_all_dummy=buyers_all_dummy.reindex(columns=all_values_all)\n",
    "sellers_all_dummy=sellers_all_dummy.reindex(columns=all_values_all)\n",
    "print(buyers_all_dummy)\n",
    "print(sellers_all_dummy)\n",
    "    "
   ]
  },
  {
   "cell_type": "code",
   "execution_count": null,
   "id": "lonely-bubble",
   "metadata": {},
   "outputs": [],
   "source": [
    "def get_dummy_diffs(data_frame_1,data_frame_2):\n",
    "    \n",
    "    data_frame_1_values=list(data_frame_1.columns)\n",
    "    data_frame_2_values=list(data_frame_2.columns)\n",
    "    \n",
    "     \n",
    "    all_values=list(set(data_frame_1_values+data_frame_2_values))\n",
    "    \n",
    "    data_frame_1_missing_values_set=set(all_values)-set(data_frame_1_values)\n",
    "    data_frame_2_missing_values_set=set(all_values)-set(data_frame_2_values)\n",
    "    \n",
    "    data_frame_1_missing_values=list(data_frame_1_missing_values_set)\n",
    "    data_frame_2_missing_values=list(data_frame_2_missing_values_set)\n",
    "    \n",
    "    if (data_frame_1_missing_values_set)==set():\n",
    "        data_frame_1_missing_values=None\n",
    "        \n",
    "    if (data_frame_2_missing_values_set)==set():\n",
    "        data_frame_2_missing_values=None\n",
    "    \n",
    "    return all_values,data_frame_1_missing_values,data_frame_2_missing_values"
   ]
  },
  {
   "cell_type": "code",
   "execution_count": null,
   "id": "standing-detail",
   "metadata": {},
   "outputs": [],
   "source": [
    "def pad_dummy(dummy_df,missing_columns_list):\n",
    "    if missing_columns_list==None:\n",
    "        return None\n",
    "    dflength=dummy_df.shape[0]\n",
    "    \n",
    "    for column in missing_columns_list:\n",
    "        dummy_df[column]=pd.Series([0]*dflength)"
   ]
  },
  {
   "cell_type": "code",
   "execution_count": null,
   "id": "literary-offense",
   "metadata": {},
   "outputs": [],
   "source": [
    "#axis not in same order"
   ]
  },
  {
   "cell_type": "code",
   "execution_count": null,
   "id": "heated-vancouver",
   "metadata": {},
   "outputs": [],
   "source": [
    "products=all_values_all"
   ]
  },
  {
   "cell_type": "code",
   "execution_count": null,
   "id": "approximate-failing",
   "metadata": {},
   "outputs": [],
   "source": [
    "cossim=cosine_similarity(sellers_all_dummy,buyers_all_dummy)"
   ]
  },
  {
   "cell_type": "code",
   "execution_count": null,
   "id": "interim-somerset",
   "metadata": {},
   "outputs": [],
   "source": [
    "print(cossim)"
   ]
  },
  {
   "cell_type": "code",
   "execution_count": null,
   "id": "broad-dress",
   "metadata": {},
   "outputs": [],
   "source": [
    "sellers_names=list(sellers_df[id_field])\n",
    "buyers_names=list(buyers_df[id_field])"
   ]
  },
  {
   "cell_type": "code",
   "execution_count": null,
   "id": "dominican-novel",
   "metadata": {},
   "outputs": [],
   "source": [
    "print(sellers_names)"
   ]
  },
  {
   "cell_type": "code",
   "execution_count": null,
   "id": "impaired-deadline",
   "metadata": {},
   "outputs": [],
   "source": [
    "print(buyers_names)"
   ]
  },
  {
   "cell_type": "code",
   "execution_count": null,
   "id": "civilian-former",
   "metadata": {},
   "outputs": [],
   "source": [
    "seller_index=0\n",
    "buyer_index=0\n",
    "for seller in sellers_names:\n",
    "    \n",
    "    seller_m_index=seller_index%len(sellers_names)\n",
    "     # We are looping through the sellers matrix in this outer for loop here\n",
    "     # 0,1,0\n",
    "     # 1,0,1\n",
    "     # 1,0,0\n",
    "    \n",
    "    for buyer in buyers_names:\n",
    "        \n",
    "        #GET THE MATRIX CORDINATES USING THE MOD OPERATOR %  \n",
    "        #AS EACH TIME YOU COUNT TO THE LENGHTH OF THE MATRIX YOU NEED TO START AT 0 AGAIN\n",
    "        \n",
    "        \n",
    "\n",
    "        buyer_m_index=buyer_index%len(buyers_names)\n",
    "        # We are looping through the buyers matrix in this inner for loop\n",
    "        # 1,0,0\n",
    "        # 0,1,0\n",
    "        # 1,1,0\n",
    "        \n",
    "        similarity=cossim[seller_m_index,buyer_m_index]\n",
    "        \n",
    "        print(f\"cos_sim( {seller} , {buyer} ) = {similarity}\")\n",
    "        buyer_index=buyer_index+1\n",
    "    seller_index=seller_index+1\n",
    "        "
   ]
  },
  {
   "cell_type": "code",
   "execution_count": null,
   "id": "comfortable-validation",
   "metadata": {},
   "outputs": [],
   "source": [
    "seller_index=0\n",
    "buyer_index=0\n",
    "for seller in sellers_names:\n",
    "    \n",
    "    print(f\"\\nCSV Match report for seller: {seller}\\n-=-=-=-=-=-=-=-=-=-=-=-=-=-=-=-=-=\\n\")\n",
    "    print(\"buyer, cosine_similarity,cosine_distance,number_of_products_matched,percent_prods_matched,matched_products\")\n",
    "    for  buyer in buyers_names:\n",
    "        \n",
    "        #GET THE MATRIX CORDINATES USING THE MOD OPERATOR %  \n",
    "        #AS EACH TIME YOU COUNT TO THE LENGHTH OF THE MATRIX YOU NEED TO START AT 0 AGAIN\n",
    "        seller_m_index=seller_index%len(sellers_names)\n",
    "        buyer_m_index=buyer_index%len(buyers_names)\n",
    "        \n",
    "        #***RETREIVE COSINTE SIMILARITY FROM YOUR PREVIOUS CALCULATION\n",
    "        cosine_similarity_result=cossim[seller_m_index,buyer_m_index]\n",
    "        \n",
    "        #***CALCULATE COSINE DISTANCE\n",
    "        cosine_distance_result=1-cosine_similarity_result\n",
    "        #GET THE SELLER AND BUYER VECTORS FROM THE DUMMY MATRICIES\n",
    "        sellers_vector=list(sellers_all_dummy.iloc[seller_m_index])\n",
    "        buyers_vector=list(buyers_all_dummy.iloc[buyer_m_index])\n",
    "        \n",
    "        #***CALCULATE THE NUMBER OF PRODUCTS MATCHING USING DOT PRODUCT\n",
    "        number_of_products_matched=np.dot(sellers_vector,buyers_vector)\n",
    "        \n",
    "        #***CALCULATE THE PERCENTAGE OF PRODUCTS THE SELLER MATCHED TO THE BUYER\n",
    "        percent_prods_matched=(number_of_products_matched/sum(sellers_vector) ) \n",
    "        \n",
    "        \n",
    "        #***GET A PIPE | DELIMITED LIST OF MATCHED PRODUCTS BETWEEN SELLER AND BUYER\n",
    "        \n",
    "        #using list comprehension... as you can not AND two lists, you need to AND the individual list items.\n",
    "        matched_product_mask=[x and y for x,y in zip(sellers_vector,buyers_vector)]    \n",
    "        #REMIND ME AT SOME POINT TO TELL YOU WHAT ZIP DOES!\n",
    "        \n",
    "        matched_product_bools_list=list(map(bool,matched_product_mask))\n",
    "        matched_product_array=np.array(products)[matched_product_bools_list]\n",
    "        matched_product_list=list(matched_product_array)\n",
    "        matched_products=\"|\".join(matched_product_list)\n",
    "        \n",
    "        #OUTPUT MATCH RESULTS\n",
    "        \n",
    "        print(f\"{buyer}, {'{0:.2f}'.format(cosine_similarity_result)},{'{0:.2f}'.format(cosine_distance_result)},{number_of_products_matched},{'{0:.2f}'.format(percent_prods_matched)},{matched_products}\")\n",
    "\n",
    "      \n",
    "        \n",
    "        buyer_index=buyer_index+1\n",
    "    seller_index=seller_index+1"
   ]
  },
  {
   "cell_type": "code",
   "execution_count": null,
   "id": "cordless-april",
   "metadata": {},
   "outputs": [],
   "source": [
    "seller_index=0\n",
    "buyer_index=0\n",
    "for buyer in buyers_names:\n",
    "    \n",
    "    print(f\"\\nCSV Match report for buyer: {buyer}\\n-=-=-=-=-=-=-=-=-=-=-=-=-=-=-=-=-=\\n\")\n",
    "    print(\"seller, cosine_similarity,cosine_distance,number_of_products_matched,percent_prods_matched,matched_products\")\n",
    "    for  seller in sellers_names:\n",
    "        \n",
    "        #GET THE MATRIX CORDINATES USING THE MOD OPERATOR %  \n",
    "        #AS EACH TIME YOU COUNT TO THE LENGHTH OF THE MATRIX YOU NEED TO START AT 0 AGAIN\n",
    "        seller_m_index=seller_index%len(sellers_names)\n",
    "        buyer_m_index=buyer_index%len(buyers_names)\n",
    "        \n",
    "        #***RETREIVE COSINTE SIMILARITY FROM YOUR PREVIOUS CALCULATION\n",
    "        cosine_similarity_result=cossim[seller_m_index,buyer_m_index]\n",
    "        \n",
    "        #***CALCULATE COSINE DISTANCE\n",
    "        cosine_distance_result=1-cosine_similarity_result\n",
    "        \n",
    "        #GET THE SELLER AND BUYER VECTORS FROM THE DUMMY MATRICIES\n",
    "        sellers_vector=list(sellers_all_dummy.iloc[seller_m_index])\n",
    "        buyers_vector=list(buyers_all_dummy.iloc[buyer_m_index])\n",
    "        \n",
    "        #***CALCULATE THE NUMBER OF PRODUCTS MATCHING USING DOT PRODUCT\n",
    "        number_of_products_matched=np.dot(sellers_vector,buyers_vector)\n",
    "        \n",
    "        #***CALCULATE THE PERCENTAGE OF PRODUCTS THE SELLER MATCHED TO THE BUYER\n",
    "        percent_prods_matched=(number_of_products_matched/sum(buyers_vector) ) \n",
    "        \n",
    "        \n",
    "        #***GET A PIPE | DELIMITED LIST OF MATCHED PRODUCTS BETWEEN SELLER AND BUYER\n",
    "        \n",
    "        #using list comprehension... as you can not AND two lists, you need to AND the individual list items.\n",
    "        matched_product_mask=[x and y for x,y in zip(sellers_vector,buyers_vector)]   \n",
    "        \n",
    "        \n",
    "        #REMIND ME AT SOME POINT TO TELL YOU WHAT ZIP DOES!\n",
    "        \n",
    "        matched_product_bools_list=list(map(bool,matched_product_mask))\n",
    "        matched_product_array=np.array(products)[matched_product_bools_list]\n",
    "        matched_product_list=list(matched_product_array)\n",
    "        matched_products=\"|\".join(matched_product_list)\n",
    "        \n",
    "        #OUTPUT MATCH RESULTS\n",
    "\n",
    "        print(f\"{buyer}, {'{0:.2f}'.format(cosine_similarity_result)},{'{0:.2f}'.format(cosine_distance_result)},{number_of_products_matched},{'{0:.2f}'.format(percent_prods_matched)},{matched_products}\")\n",
    "\n",
    "       \n",
    "        \n",
    "        seller_index=seller_index+1\n",
    "    buyer_index=buyer_index+1"
   ]
  },
  {
   "cell_type": "code",
   "execution_count": null,
   "id": "guided-preserve",
   "metadata": {},
   "outputs": [],
   "source": []
  }
 ],
 "metadata": {
  "kernelspec": {
   "display_name": "Python 3",
   "language": "python",
   "name": "python3"
  },
  "language_info": {
   "codemirror_mode": {
    "name": "ipython",
    "version": 3
   },
   "file_extension": ".py",
   "mimetype": "text/x-python",
   "name": "python",
   "nbconvert_exporter": "python",
   "pygments_lexer": "ipython3",
   "version": "3.8.5"
  }
 },
 "nbformat": 4,
 "nbformat_minor": 5
}
