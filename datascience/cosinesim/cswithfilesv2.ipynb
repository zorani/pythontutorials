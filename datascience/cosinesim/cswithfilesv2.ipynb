{
 "cells": [
  {
   "cell_type": "code",
   "execution_count": null,
   "id": "incident-bouquet",
   "metadata": {},
   "outputs": [],
   "source": [
    "import os\n",
    "import pandas as pd\n",
    "from sklearn.metrics.pairwise import cosine_similarity\n",
    "import numpy as np"
   ]
  },
  {
   "cell_type": "code",
   "execution_count": null,
   "id": "ordered-amount",
   "metadata": {},
   "outputs": [],
   "source": [
    "#buyers\n",
    "#name,colour\n",
    "#ana,red\n",
    "#bob,green\n",
    "#carl,red|green"
   ]
  },
  {
   "cell_type": "code",
   "execution_count": null,
   "id": "personalized-looking",
   "metadata": {},
   "outputs": [],
   "source": [
    "#sellers\n",
    "#name,colour\n",
    "#dave,green\n",
    "#eden,red|blue\n",
    "#frank,red"
   ]
  },
  {
   "cell_type": "code",
   "execution_count": null,
   "id": "earned-costs",
   "metadata": {},
   "outputs": [],
   "source": [
    "datadirectory='~/mydata/'\n",
    "datadirectory=os.path.expanduser(datadirectory)\n",
    "print(datadirectory)"
   ]
  },
  {
   "cell_type": "code",
   "execution_count": null,
   "id": "requested-fault",
   "metadata": {},
   "outputs": [],
   "source": [
    "sellers_file=datadirectory+'sellers2.csv'\n",
    "buyers_file=datadirectory+'buyers2.csv'"
   ]
  },
  {
   "cell_type": "code",
   "execution_count": null,
   "id": "alone-million",
   "metadata": {},
   "outputs": [],
   "source": [
    "print(sellers_file)"
   ]
  },
  {
   "cell_type": "code",
   "execution_count": null,
   "id": "elder-wireless",
   "metadata": {},
   "outputs": [],
   "source": [
    "print(buyers_file)"
   ]
  },
  {
   "cell_type": "code",
   "execution_count": null,
   "id": "certain-cancellation",
   "metadata": {},
   "outputs": [],
   "source": [
    "#Create test files"
   ]
  },
  {
   "cell_type": "code",
   "execution_count": null,
   "id": "incorporated-clearing",
   "metadata": {},
   "outputs": [],
   "source": [
    "\n",
    "def create_test_csv_file(test_file,headers,list_of_customers):\n",
    "    if os.path.exists(test_file):\n",
    "        return None\n",
    "\n",
    "    with open(test_file,'w') as dataoutputfile:\n",
    "        #Write the csv header\n",
    "        dataoutputfile.write( str(headers) +\"\\n\")\n",
    "    \n",
    "        for seller in list_of_customers:\n",
    "            line_to_write=str(seller)+\"\\n\"\n",
    "            dataoutputfile.write(line_to_write)"
   ]
  },
  {
   "cell_type": "code",
   "execution_count": null,
   "id": "pleasant-possibility",
   "metadata": {},
   "outputs": [],
   "source": [
    "headers=\"name,colour\"\n",
    "\n",
    "list_of_sellers=  [\n",
    "    \n",
    "        \"dave,green|red|blue\",\n",
    "        \"eden,red|blue\",\n",
    "        \"frank,red|purple\"\n",
    "    ]\n",
    "\n",
    "list_of_buyers=  [\n",
    "    \n",
    "        \"ana,green|red\",\n",
    "        \"bob,green\",\n",
    "        \"carl,red|green\"\n",
    "    ]\n",
    "\n",
    "create_test_csv_file(sellers_file,headers,list_of_sellers)\n",
    "create_test_csv_file(buyers_file,headers,list_of_buyers)\n",
    "\n"
   ]
  },
  {
   "cell_type": "code",
   "execution_count": null,
   "id": "third-landscape",
   "metadata": {},
   "outputs": [],
   "source": [
    "sellers_df=pd.read_csv(sellers_file,delimiter=',',header=0,quotechar='\"')"
   ]
  },
  {
   "cell_type": "code",
   "execution_count": null,
   "id": "dramatic-syndicate",
   "metadata": {},
   "outputs": [],
   "source": [
    "buyers_df=pd.read_csv(buyers_file,delimiter=',',header=0,quotechar='\"')"
   ]
  },
  {
   "cell_type": "code",
   "execution_count": null,
   "id": "naked-phoenix",
   "metadata": {},
   "outputs": [],
   "source": [
    "print(sellers_df)"
   ]
  },
  {
   "cell_type": "code",
   "execution_count": null,
   "id": "legitimate-thunder",
   "metadata": {},
   "outputs": [],
   "source": [
    "print(buyers_df)"
   ]
  },
  {
   "cell_type": "code",
   "execution_count": null,
   "id": "bound-classroom",
   "metadata": {},
   "outputs": [],
   "source": [
    "#colour is categorical data\n",
    "#we need to use \"one hot encoding\""
   ]
  },
  {
   "cell_type": "code",
   "execution_count": null,
   "id": "acquired-newcastle",
   "metadata": {},
   "outputs": [],
   "source": [
    "sellers_dummy=sellers_df['colour'].str.get_dummies(sep='|')"
   ]
  },
  {
   "cell_type": "code",
   "execution_count": null,
   "id": "diverse-order",
   "metadata": {},
   "outputs": [],
   "source": [
    "buyers_dummy=buyers_df['colour'].str.get_dummies(sep='|')"
   ]
  },
  {
   "cell_type": "code",
   "execution_count": null,
   "id": "worse-editing",
   "metadata": {},
   "outputs": [],
   "source": [
    "print(sellers_dummy)\n",
    "print(type(sellers_dummy))"
   ]
  },
  {
   "cell_type": "code",
   "execution_count": null,
   "id": "commercial-testing",
   "metadata": {},
   "outputs": [],
   "source": [
    "print(buyers_dummy)\n",
    "print(type(buyers_dummy))"
   ]
  },
  {
   "cell_type": "code",
   "execution_count": null,
   "id": "loving-shark",
   "metadata": {},
   "outputs": [],
   "source": [
    "#!!!!!!WARNING!!!!!!\n",
    "#THIS SHOULD BE DONE PROGRAMATICALLY\n",
    "#CHECK THE HEADERS FOR EACH DATAFRAME, FIND THE MISSING ONES, ADD A SERIES OF 0s\n",
    "#buyers_dummy['blue']=pd.Series([0,0,0])"
   ]
  },
  {
   "cell_type": "code",
   "execution_count": null,
   "id": "original-supervision",
   "metadata": {},
   "outputs": [],
   "source": [
    "def get_dummy_diffs(data_frame_1,data_frame_2):\n",
    "    \n",
    "    data_frame_1_values=list(data_frame_1.columns)\n",
    "    data_frame_2_values=list(data_frame_2.columns)\n",
    "    \n",
    "     \n",
    "    all_values=list(set(data_frame_1_values+data_frame_2_values))\n",
    "    \n",
    "    data_frame_1_missing_values_set=set(all_values)-set(data_frame_1_values)\n",
    "    data_frame_2_missing_values_set=set(all_values)-set(data_frame_2_values)\n",
    "    \n",
    "    data_frame_1_missing_values=list(data_frame_1_missing_values_set)\n",
    "    data_frame_2_missing_values=list(data_frame_2_missing_values_set)\n",
    "    \n",
    "    if (data_frame_1_missing_values_set)==set():\n",
    "        data_frame_1_missing_values=None\n",
    "        \n",
    "    if (data_frame_2_missing_values_set)==set():\n",
    "        data_frame_2_missing_values=None\n",
    "    \n",
    "    return all_values,data_frame_1_missing_values,data_frame_2_missing_values"
   ]
  },
  {
   "cell_type": "code",
   "execution_count": null,
   "id": "taken-assurance",
   "metadata": {},
   "outputs": [],
   "source": [
    "def pad_dummy(dummy_df,missing_columns_list):\n",
    "    if missing_columns_list==None:\n",
    "        return None\n",
    "    dflength=dummy_df.shape[0]\n",
    "    \n",
    "    for column in missing_columns_list:\n",
    "        dummy_df[column]=pd.Series([0]*dflength)"
   ]
  },
  {
   "cell_type": "code",
   "execution_count": null,
   "id": "prospective-christianity",
   "metadata": {},
   "outputs": [],
   "source": [
    "all_values,buy_missing,sell_missing =get_dummy_diffs(buyers_dummy,sellers_dummy)"
   ]
  },
  {
   "cell_type": "code",
   "execution_count": null,
   "id": "bound-traveler",
   "metadata": {},
   "outputs": [],
   "source": [
    "pad_dummy(buyers_dummy,buy_missing)\n",
    "pad_dummy(sellers_dummy,sell_missing)"
   ]
  },
  {
   "cell_type": "code",
   "execution_count": null,
   "id": "interior-being",
   "metadata": {},
   "outputs": [],
   "source": [
    "print(buyers_dummy)"
   ]
  },
  {
   "cell_type": "code",
   "execution_count": null,
   "id": "quiet-share",
   "metadata": {},
   "outputs": [],
   "source": [
    "print(sellers_dummy)"
   ]
  },
  {
   "cell_type": "code",
   "execution_count": null,
   "id": "otherwise-discretion",
   "metadata": {},
   "outputs": [],
   "source": [
    "#axis not in same order"
   ]
  },
  {
   "cell_type": "code",
   "execution_count": null,
   "id": "solar-customer",
   "metadata": {},
   "outputs": [],
   "source": [
    "products=all_values"
   ]
  },
  {
   "cell_type": "code",
   "execution_count": null,
   "id": "indirect-rolling",
   "metadata": {},
   "outputs": [],
   "source": [
    "buyers_dummy=buyers_dummy.reindex(columns=products)"
   ]
  },
  {
   "cell_type": "code",
   "execution_count": null,
   "id": "indonesian-madonna",
   "metadata": {},
   "outputs": [],
   "source": [
    "sellers_dummy=sellers_dummy.reindex(columns=products)"
   ]
  },
  {
   "cell_type": "code",
   "execution_count": null,
   "id": "built-record",
   "metadata": {},
   "outputs": [],
   "source": [
    "print(buyers_dummy)"
   ]
  },
  {
   "cell_type": "code",
   "execution_count": null,
   "id": "united-collectible",
   "metadata": {},
   "outputs": [],
   "source": [
    "print(sellers_dummy)"
   ]
  },
  {
   "cell_type": "code",
   "execution_count": null,
   "id": "economic-shark",
   "metadata": {},
   "outputs": [],
   "source": [
    "cossim=cosine_similarity(sellers_dummy,buyers_dummy)"
   ]
  },
  {
   "cell_type": "code",
   "execution_count": null,
   "id": "cultural-marijuana",
   "metadata": {},
   "outputs": [],
   "source": [
    "print(cossim)"
   ]
  },
  {
   "cell_type": "code",
   "execution_count": null,
   "id": "abandoned-murray",
   "metadata": {},
   "outputs": [],
   "source": [
    "sellers_names=list(sellers_df['name'])\n",
    "buyers_names=list(buyers_df['name'])"
   ]
  },
  {
   "cell_type": "code",
   "execution_count": null,
   "id": "allied-spirituality",
   "metadata": {},
   "outputs": [],
   "source": [
    "print(sellers_names)"
   ]
  },
  {
   "cell_type": "code",
   "execution_count": null,
   "id": "instrumental-wildlife",
   "metadata": {},
   "outputs": [],
   "source": [
    "print(buyers_names)"
   ]
  },
  {
   "cell_type": "code",
   "execution_count": null,
   "id": "premium-humor",
   "metadata": {},
   "outputs": [],
   "source": [
    "seller_index=0\n",
    "buyer_index=0\n",
    "for seller in sellers_names:\n",
    "    \n",
    "    seller_m_index=seller_index%len(sellers_names)\n",
    "     # We are looping through the sellers matrix in this outer for loop here\n",
    "     # 0,1,0\n",
    "     # 1,0,1\n",
    "     # 1,0,0\n",
    "    \n",
    "    for buyer in buyers_names:\n",
    "        \n",
    "        #GET THE MATRIX CORDINATES USING THE MOD OPERATOR %  \n",
    "        #AS EACH TIME YOU COUNT TO THE LENGHTH OF THE MATRIX YOU NEED TO START AT 0 AGAIN\n",
    "        \n",
    "        \n",
    "\n",
    "        buyer_m_index=buyer_index%len(buyers_names)\n",
    "        # We are looping through the buyers matrix in this inner for loop\n",
    "        # 1,0,0\n",
    "        # 0,1,0\n",
    "        # 1,1,0\n",
    "        \n",
    "        similarity=cossim[seller_m_index,buyer_m_index]\n",
    "        \n",
    "        print(f\"cos_sim( {seller} , {buyer} ) = {similarity}\")\n",
    "        buyer_index=buyer_index+1\n",
    "    seller_index=seller_index+1\n",
    "        "
   ]
  },
  {
   "cell_type": "code",
   "execution_count": null,
   "id": "bearing-dealing",
   "metadata": {},
   "outputs": [],
   "source": [
    "seller_index=0\n",
    "buyer_index=0\n",
    "for seller in sellers_names:\n",
    "    \n",
    "    print(f\"\\nCSV Match report for seller: {seller}\\n-=-=-=-=-=-=-=-=-=-=-=-=-=-=-=-=-=\\n\")\n",
    "    print(\"buyer, cosine_similarity,cosine_distance,number_of_products_matched,percent_prods_matched,matched_products\")\n",
    "    for  buyer in buyers_names:\n",
    "        \n",
    "        #GET THE MATRIX CORDINATES USING THE MOD OPERATOR %  \n",
    "        #AS EACH TIME YOU COUNT TO THE LENGHTH OF THE MATRIX YOU NEED TO START AT 0 AGAIN\n",
    "        seller_m_index=seller_index%len(sellers_names)\n",
    "        buyer_m_index=buyer_index%len(buyers_names)\n",
    "        \n",
    "        #***RETREIVE COSINTE SIMILARITY FROM YOUR PREVIOUS CALCULATION\n",
    "        cosine_similarity_result=cossim[seller_m_index,buyer_m_index]\n",
    "        \n",
    "        #***CALCULATE COSINE DISTANCE\n",
    "        cosine_distance_result=1-cosine_similarity_result\n",
    "        #GET THE SELLER AND BUYER VECTORS FROM THE DUMMY MATRICIES\n",
    "        sellers_vector=list(sellers_dummy.iloc[seller_m_index])\n",
    "        buyers_vector=list(buyers_dummy.iloc[buyer_m_index])\n",
    "        \n",
    "        #***CALCULATE THE NUMBER OF PRODUCTS MATCHING USING DOT PRODUCT\n",
    "        number_of_products_matched=np.dot(sellers_vector,buyers_vector)\n",
    "        \n",
    "        #***CALCULATE THE PERCENTAGE OF PRODUCTS THE SELLER MATCHED TO THE BUYER\n",
    "        percent_prods_matched=(number_of_products_matched/sum(sellers_vector) ) * 100\n",
    "        \n",
    "        \n",
    "        #***GET A PIPE | DELIMITED LIST OF MATCHED PRODUCTS BETWEEN SELLER AND BUYER\n",
    "        \n",
    "        #using list comprehension... as you can not AND two lists, you need to AND the individual list items.\n",
    "        matched_product_mask=[x and y for x,y in zip(sellers_vector,buyers_vector)]    \n",
    "        \n",
    "        #REMIND ME AT SOME POINT TO TELL YOU WHAT ZIP DOES!\n",
    "        \n",
    "        matched_product_bools_list=list(map(bool,matched_product_mask))\n",
    "        matched_product_array=np.array(products)[matched_product_bools_list]\n",
    "        matched_product_list=list(matched_product_array)\n",
    "        matched_products=\"|\".join(matched_product_list)\n",
    "        \n",
    "        #OUTPUT MATCH RESULTS\n",
    "\n",
    "        print(f\"{buyer}, {cosine_similarity_result},{cosine_distance_result},{number_of_products_matched},{percent_prods_matched},{matched_products}\")\n",
    "        \n",
    "        \n",
    "        buyer_index=buyer_index+1\n",
    "    seller_index=seller_index+1"
   ]
  },
  {
   "cell_type": "code",
   "execution_count": null,
   "id": "vanilla-female",
   "metadata": {},
   "outputs": [],
   "source": [
    "seller_index=0\n",
    "buyer_index=0\n",
    "for buyer in buyers_names:\n",
    "    \n",
    "    print(f\"\\nCSV Match report for buyer: {buyer}\\n-=-=-=-=-=-=-=-=-=-=-=-=-=-=-=-=-=\\n\")\n",
    "    print(\"seller, cosine_similarity,cosine_distance,number_of_products_matched,percent_prods_matched,matched_products\")\n",
    "    for  seller in sellers_names:\n",
    "        \n",
    "        #GET THE MATRIX CORDINATES USING THE MOD OPERATOR %  \n",
    "        #AS EACH TIME YOU COUNT TO THE LENGHTH OF THE MATRIX YOU NEED TO START AT 0 AGAIN\n",
    "        seller_m_index=seller_index%len(sellers_names)\n",
    "        buyer_m_index=buyer_index%len(buyers_names)\n",
    "        \n",
    "        #***RETREIVE COSINTE SIMILARITY FROM YOUR PREVIOUS CALCULATION\n",
    "        cosine_similarity_result=cossim[seller_m_index,buyer_m_index]\n",
    "        \n",
    "        #***CALCULATE COSINE DISTANCE\n",
    "        cosine_distance_result=1-cosine_similarity_result\n",
    "        \n",
    "        #GET THE SELLER AND BUYER VECTORS FROM THE DUMMY MATRICIES\n",
    "        sellers_vector=list(sellers_dummy.iloc[seller_m_index])\n",
    "        buyers_vector=list(buyers_dummy.iloc[buyer_m_index])\n",
    "        \n",
    "        #***CALCULATE THE NUMBER OF PRODUCTS MATCHING USING DOT PRODUCT\n",
    "        number_of_products_matched=np.dot(sellers_vector,buyers_vector)\n",
    "        \n",
    "        #***CALCULATE THE PERCENTAGE OF PRODUCTS THE SELLER MATCHED TO THE BUYER\n",
    "        percent_prods_matched=(number_of_products_matched/sum(buyers_vector) ) * 100\n",
    "        \n",
    "        \n",
    "        #***GET A PIPE | DELIMITED LIST OF MATCHED PRODUCTS BETWEEN SELLER AND BUYER\n",
    "        \n",
    "        #using list comprehension... as you can not AND two lists, you need to AND the individual list items.\n",
    "        matched_product_mask=[x and y for x,y in zip(sellers_vector,buyers_vector)]    \n",
    "        \n",
    "        #REMIND ME AT SOME POINT TO TELL YOU WHAT ZIP DOES!\n",
    "        \n",
    "        matched_product_bools_list=list(map(bool,matched_product_mask))\n",
    "        matched_product_array=np.array(products)[matched_product_bools_list]\n",
    "        matched_product_list=list(matched_product_array)\n",
    "        matched_products=\"|\".join(matched_product_list)\n",
    "        \n",
    "        #OUTPUT MATCH RESULTS\n",
    "\n",
    "        print(f\"{seller}, {cosine_similarity_result},{cosine_distance_result},{number_of_products_matched},{percent_prods_matched},{matched_products}\")\n",
    "        \n",
    "        \n",
    "        seller_index=seller_index+1\n",
    "    buyer_index=buyer_index+1"
   ]
  },
  {
   "cell_type": "code",
   "execution_count": null,
   "id": "hearing-discipline",
   "metadata": {},
   "outputs": [],
   "source": []
  }
 ],
 "metadata": {
  "kernelspec": {
   "display_name": "Python 3",
   "language": "python",
   "name": "python3"
  },
  "language_info": {
   "codemirror_mode": {
    "name": "ipython",
    "version": 3
   },
   "file_extension": ".py",
   "mimetype": "text/x-python",
   "name": "python",
   "nbconvert_exporter": "python",
   "pygments_lexer": "ipython3",
   "version": "3.8.5"
  }
 },
 "nbformat": 4,
 "nbformat_minor": 5
}
