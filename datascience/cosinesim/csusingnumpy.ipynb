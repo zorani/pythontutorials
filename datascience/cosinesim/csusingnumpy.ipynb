{
 "cells": [
  {
   "cell_type": "code",
   "execution_count": null,
   "id": "nasty-brake",
   "metadata": {},
   "outputs": [],
   "source": [
    "#Using numpy and basic maths, on two vectors or array like data structures."
   ]
  },
  {
   "cell_type": "code",
   "execution_count": null,
   "id": "fifteen-discretion",
   "metadata": {},
   "outputs": [],
   "source": [
    "import numpy as np"
   ]
  },
  {
   "cell_type": "code",
   "execution_count": null,
   "id": "functional-lewis",
   "metadata": {},
   "outputs": [],
   "source": [
    "myfirst_np_array=np.array([1,2,3,4,5])"
   ]
  },
  {
   "cell_type": "code",
   "execution_count": null,
   "id": "cosmetic-radar",
   "metadata": {},
   "outputs": [],
   "source": [
    "print(myfirst_np_array)"
   ]
  },
  {
   "cell_type": "code",
   "execution_count": null,
   "id": "thick-component",
   "metadata": {},
   "outputs": [],
   "source": [
    "print(type(myfirst_np_array))"
   ]
  },
  {
   "cell_type": "code",
   "execution_count": null,
   "id": "olive-lighting",
   "metadata": {},
   "outputs": [],
   "source": [
    "myfirst_np_array_magnitude=np.linalg.norm(myfirst_np_array)"
   ]
  },
  {
   "cell_type": "code",
   "execution_count": null,
   "id": "personalized-greek",
   "metadata": {},
   "outputs": [],
   "source": [
    "print(myfirst_np_array_magnitude)"
   ]
  },
  {
   "cell_type": "code",
   "execution_count": null,
   "id": "ruled-isolation",
   "metadata": {},
   "outputs": [],
   "source": [
    "ana=[1,0,0]\n",
    "bob=[0,1,0]\n",
    "carl=[1,1,0]"
   ]
  },
  {
   "cell_type": "code",
   "execution_count": null,
   "id": "aerial-ribbon",
   "metadata": {},
   "outputs": [],
   "source": [
    "ana_a=np.array(ana)\n",
    "bob_a=np.array(bob)\n",
    "carl_a=np.array(carl)"
   ]
  },
  {
   "cell_type": "code",
   "execution_count": null,
   "id": "honey-hepatitis",
   "metadata": {},
   "outputs": [],
   "source": [
    "dave=[0,1,0]\n",
    "eden=[1,0,1]\n",
    "frank=[1,0,0]"
   ]
  },
  {
   "cell_type": "code",
   "execution_count": null,
   "id": "matched-yorkshire",
   "metadata": {},
   "outputs": [],
   "source": [
    "dave_a=np.array(dave)\n",
    "eden_a=np.array(eden)\n",
    "frank_a=np.array(frank)"
   ]
  },
  {
   "cell_type": "code",
   "execution_count": null,
   "id": "successful-canon",
   "metadata": {},
   "outputs": [],
   "source": [
    "dave_wants_to_be_as_list_again=list(dave_a)\n",
    "print(type(dave_wants_to_be_as_list_again))\n",
    "print(dave_wants_to_be_as_list_again)"
   ]
  },
  {
   "cell_type": "code",
   "execution_count": null,
   "id": "level-ridge",
   "metadata": {},
   "outputs": [],
   "source": [
    "np.dot(ana_a,frank_a)"
   ]
  },
  {
   "cell_type": "code",
   "execution_count": null,
   "id": "broken-wilderness",
   "metadata": {},
   "outputs": [],
   "source": [
    "np.dot(ana,frank)"
   ]
  },
  {
   "cell_type": "code",
   "execution_count": null,
   "id": "later-rebate",
   "metadata": {},
   "outputs": [],
   "source": [
    "mysecond_np_array_magnitude=np.linalg.norm([1,2,3,4,5])"
   ]
  },
  {
   "cell_type": "code",
   "execution_count": null,
   "id": "atomic-karaoke",
   "metadata": {},
   "outputs": [],
   "source": [
    "print(mysecond_np_array_magnitude)"
   ]
  },
  {
   "cell_type": "code",
   "execution_count": null,
   "id": "illegal-victoria",
   "metadata": {},
   "outputs": [],
   "source": [
    "def cosine_similarity(a,b):\n",
    "    dot_product=np.dot(a,b)\n",
    "    mag_a=np.linalg.norm(a)\n",
    "    mag_b=np.linalg.norm(b)\n",
    "    result=(dot_product)/(mag_a * mag_b)\n",
    "    return result"
   ]
  },
  {
   "cell_type": "code",
   "execution_count": null,
   "id": "oriented-incentive",
   "metadata": {},
   "outputs": [],
   "source": [
    "cosine_similarity(eden,frank)"
   ]
  },
  {
   "cell_type": "code",
   "execution_count": null,
   "id": "wound-prevention",
   "metadata": {},
   "outputs": [],
   "source": [
    "jn=[1,0,0]\n",
    "ah=[1,1,1]\n",
    "cosine_similarity(jn,ah)"
   ]
  },
  {
   "cell_type": "code",
   "execution_count": null,
   "id": "corporate-variation",
   "metadata": {},
   "outputs": [],
   "source": [
    "def cosine_distance(a,b):\n",
    "    dot_product=np.dot(a,b)\n",
    "    mag_a=np.linalg.norm(a)\n",
    "    mag_b=np.linalg.norm(b)\n",
    "    result=(dot_product)/(mag_a * mag_b)\n",
    "    return 1-result"
   ]
  },
  {
   "cell_type": "code",
   "execution_count": null,
   "id": "healthy-representative",
   "metadata": {},
   "outputs": [],
   "source": [
    "cosine_distance(jn,ah)"
   ]
  },
  {
   "cell_type": "code",
   "execution_count": null,
   "id": "mechanical-harvest",
   "metadata": {},
   "outputs": [],
   "source": []
  }
 ],
 "metadata": {
  "kernelspec": {
   "display_name": "Python 3",
   "language": "python",
   "name": "python3"
  },
  "language_info": {
   "codemirror_mode": {
    "name": "ipython",
    "version": 3
   },
   "file_extension": ".py",
   "mimetype": "text/x-python",
   "name": "python",
   "nbconvert_exporter": "python",
   "pygments_lexer": "ipython3",
   "version": "3.8.5"
  }
 },
 "nbformat": 4,
 "nbformat_minor": 5
}
