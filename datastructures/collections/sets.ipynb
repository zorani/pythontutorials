{
 "cells": [
  {
   "cell_type": "code",
   "execution_count": 1,
   "metadata": {},
   "outputs": [
    {
     "name": "stdout",
     "output_type": "stream",
     "text": [
      "{'Hall2', 'Hall1', 'Hall3'}\n"
     ]
    }
   ],
   "source": [
    "#Working with sets. Unorderd and unindexed.\n",
    "myfirstset={\"Hall1\",\"Hall2\",\"Hall3\"}\n",
    "print(myfirstset)"
   ]
  },
  {
   "cell_type": "code",
   "execution_count": 2,
   "metadata": {},
   "outputs": [
    {
     "name": "stdout",
     "output_type": "stream",
     "text": [
      "Yes\n"
     ]
    }
   ],
   "source": [
    "if 'Hall3' in myfirstset:\n",
    "    print(\"Yes\")"
   ]
  },
  {
   "cell_type": "code",
   "execution_count": 3,
   "metadata": {},
   "outputs": [
    {
     "name": "stdout",
     "output_type": "stream",
     "text": [
      "{'Hall2', 'Hall1', 'Hall3', 'Hall4'}\n"
     ]
    }
   ],
   "source": [
    "myfirstset.add(\"Hall4\")\n",
    "print(myfirstset)"
   ]
  },
  {
   "cell_type": "code",
   "execution_count": 4,
   "metadata": {},
   "outputs": [
    {
     "name": "stdout",
     "output_type": "stream",
     "text": [
      "Hall2\n"
     ]
    }
   ],
   "source": [
    "#Pop returns any random item in the set.\n",
    "dataitem=myfirstset.pop()\n",
    "print(dataitem)"
   ]
  },
  {
   "cell_type": "code",
   "execution_count": 5,
   "metadata": {},
   "outputs": [
    {
     "name": "stdout",
     "output_type": "stream",
     "text": [
      "{'Hall3', 'Hall5', 'Hall6', 'Hall1', 'Hall4'}\n"
     ]
    }
   ],
   "source": [
    "\n",
    "myfirstset.update([\"Hall5\",\"Hall6\"])\n",
    "print(myfirstset)"
   ]
  },
  {
   "cell_type": "code",
   "execution_count": 6,
   "metadata": {},
   "outputs": [
    {
     "name": "stdout",
     "output_type": "stream",
     "text": [
      "5\n"
     ]
    }
   ],
   "source": [
    "mysetlength=len(myfirstset)\n",
    "print(mysetlength)"
   ]
  },
  {
   "cell_type": "code",
   "execution_count": 7,
   "metadata": {},
   "outputs": [
    {
     "name": "stdout",
     "output_type": "stream",
     "text": [
      "{'Hall3', 'Hall5', 'Hall6', 'Hall1', 'Hall4'}\n"
     ]
    }
   ],
   "source": [
    "print(myfirstset)"
   ]
  },
  {
   "cell_type": "code",
   "execution_count": 8,
   "metadata": {},
   "outputs": [],
   "source": [
    "myfirstset.remove(\"Hall6\")"
   ]
  },
  {
   "cell_type": "code",
   "execution_count": 9,
   "metadata": {},
   "outputs": [
    {
     "name": "stdout",
     "output_type": "stream",
     "text": [
      "{'Hall3', 'Hall5', 'Hall1', 'Hall4'}\n"
     ]
    }
   ],
   "source": [
    "print(myfirstset)"
   ]
  },
  {
   "cell_type": "code",
   "execution_count": 10,
   "metadata": {},
   "outputs": [],
   "source": [
    "#Remove raises error if item already deleted,\n",
    "#Use discard instead.\n",
    "myfirstset.discard(\"Hall6\")"
   ]
  },
  {
   "cell_type": "code",
   "execution_count": 11,
   "metadata": {},
   "outputs": [
    {
     "name": "stdout",
     "output_type": "stream",
     "text": [
      "set()\n"
     ]
    }
   ],
   "source": [
    "myfirstset.clear()\n",
    "print(myfirstset)"
   ]
  },
  {
   "cell_type": "code",
   "execution_count": 12,
   "metadata": {},
   "outputs": [],
   "source": [
    "del myfirstset"
   ]
  },
  {
   "cell_type": "code",
   "execution_count": 13,
   "metadata": {},
   "outputs": [
    {
     "name": "stdout",
     "output_type": "stream",
     "text": [
      "{1, 2, 3, 4, 5, 6}\n"
     ]
    }
   ],
   "source": [
    "set1={2,4,6}\n",
    "set2={1,3,5}\n",
    "set3=set1.union(set2)\n",
    "print(set3)"
   ]
  },
  {
   "cell_type": "code",
   "execution_count": 14,
   "metadata": {},
   "outputs": [
    {
     "name": "stdout",
     "output_type": "stream",
     "text": [
      "{3, 4, 5}\n"
     ]
    }
   ],
   "source": [
    "seta={1,2,3,4,5}\n",
    "setb={3,4,5,6,7,8}\n",
    "setc=seta.intersection(setb)\n",
    "print(setc)\n"
   ]
  },
  {
   "cell_type": "code",
   "execution_count": 15,
   "metadata": {},
   "outputs": [
    {
     "name": "stdout",
     "output_type": "stream",
     "text": [
      "{'apple', 'beer', 'powercut'}\n"
     ]
    }
   ],
   "source": [
    "mylist=[\"apple\",\"beer\",\"powercut\",\"powercut\"]\n",
    "mylist_set=set(mylist)\n",
    "print(mylist_set)"
   ]
  },
  {
   "cell_type": "code",
   "execution_count": 16,
   "metadata": {},
   "outputs": [],
   "source": [
    "mylist=list(mylist_set)"
   ]
  },
  {
   "cell_type": "code",
   "execution_count": 19,
   "metadata": {},
   "outputs": [
    {
     "name": "stdout",
     "output_type": "stream",
     "text": [
      "['apple', 'beer', 'powercut']\n",
      "{'apple', 'beer', 'powercut'}\n"
     ]
    }
   ],
   "source": [
    "print(mylist)\n",
    "mylist_set_copy=mylist_set.copy()\n",
    "print(mylist_set_copy)"
   ]
  },
  {
   "cell_type": "markdown",
   "metadata": {},
   "source": []
  },
  {
   "cell_type": "code",
   "execution_count": null,
   "metadata": {},
   "outputs": [],
   "source": []
  }
 ],
 "metadata": {
  "kernelspec": {
   "display_name": "Python 3",
   "language": "python",
   "name": "python3"
  },
  "language_info": {
   "codemirror_mode": {
    "name": "ipython",
    "version": 3
   },
   "file_extension": ".py",
   "mimetype": "text/x-python",
   "name": "python",
   "nbconvert_exporter": "python",
   "pygments_lexer": "ipython3",
   "version": "3.8.2"
  }
 },
 "nbformat": 4,
 "nbformat_minor": 4
}
