{
 "cells": [
  {
   "cell_type": "code",
   "execution_count": 107,
   "metadata": {},
   "outputs": [
    {
     "name": "stdout",
     "output_type": "stream",
     "text": [
      "[]\n"
     ]
    }
   ],
   "source": [
    "#Working with lists\n",
    "list_of_ints=[]\n",
    "print(list_of_ints)"
   ]
  },
  {
   "cell_type": "code",
   "execution_count": 81,
   "metadata": {},
   "outputs": [
    {
     "name": "stdout",
     "output_type": "stream",
     "text": [
      "[1, 2, 3]\n"
     ]
    }
   ],
   "source": [
    "list_of_ints=[1,2,3]\n",
    "print(list_of_ints)"
   ]
  },
  {
   "cell_type": "code",
   "execution_count": 82,
   "metadata": {},
   "outputs": [
    {
     "name": "stdout",
     "output_type": "stream",
     "text": [
      "[1, 2, 3, 4]\n"
     ]
    }
   ],
   "source": [
    "list_of_ints.append(4)\n",
    "print(list_of_ints)"
   ]
  },
  {
   "cell_type": "code",
   "execution_count": 83,
   "metadata": {},
   "outputs": [
    {
     "name": "stdout",
     "output_type": "stream",
     "text": [
      "4\n"
     ]
    }
   ],
   "source": [
    "length_of_list_of_ints=len(list_of_ints)\n",
    "print(length_of_list_of_ints)"
   ]
  },
  {
   "cell_type": "code",
   "execution_count": 84,
   "metadata": {},
   "outputs": [
    {
     "name": "stdout",
     "output_type": "stream",
     "text": [
      "1\n"
     ]
    }
   ],
   "source": [
    "print(list_of_ints[0])"
   ]
  },
  {
   "cell_type": "code",
   "execution_count": 85,
   "metadata": {},
   "outputs": [
    {
     "name": "stdout",
     "output_type": "stream",
     "text": [
      "4\n"
     ]
    }
   ],
   "source": [
    "print(list_of_ints[3])"
   ]
  },
  {
   "cell_type": "code",
   "execution_count": 86,
   "metadata": {},
   "outputs": [
    {
     "name": "stdout",
     "output_type": "stream",
     "text": [
      "4\n"
     ]
    }
   ],
   "source": [
    "print(list_of_ints[length_of_list_of_ints-1])"
   ]
  },
  {
   "cell_type": "code",
   "execution_count": 87,
   "metadata": {},
   "outputs": [
    {
     "name": "stdout",
     "output_type": "stream",
     "text": [
      "4\n"
     ]
    }
   ],
   "source": [
    "print(list_of_ints[-1])"
   ]
  },
  {
   "cell_type": "code",
   "execution_count": 88,
   "metadata": {},
   "outputs": [
    {
     "name": "stdout",
     "output_type": "stream",
     "text": [
      "[1, 2, 3, 4]\n"
     ]
    }
   ],
   "source": [
    "print(list_of_ints)"
   ]
  },
  {
   "cell_type": "code",
   "execution_count": 89,
   "metadata": {},
   "outputs": [
    {
     "name": "stdout",
     "output_type": "stream",
     "text": [
      "1\n"
     ]
    }
   ],
   "source": [
    "print(list_of_ints[-4])"
   ]
  },
  {
   "cell_type": "code",
   "execution_count": 90,
   "metadata": {},
   "outputs": [
    {
     "name": "stdout",
     "output_type": "stream",
     "text": [
      "['hello', 1, 1.2, True]\n"
     ]
    }
   ],
   "source": [
    "my_mixed_list=[\"hello\",1,1.2,True]\n",
    "print(my_mixed_list)"
   ]
  },
  {
   "cell_type": "code",
   "execution_count": 91,
   "metadata": {},
   "outputs": [
    {
     "name": "stdout",
     "output_type": "stream",
     "text": [
      "['Paracetamol', 'Asprin', 'Ibuprofin']\n"
     ]
    }
   ],
   "source": [
    "shopping_list=[]\n",
    "shopping_list.append(\"Paracetamol\")\n",
    "shopping_list.append(\"Asprin\")\n",
    "shopping_list.append(\"Ibuprofin\")\n",
    "\n",
    "print(shopping_list)\n",
    "\n"
   ]
  },
  {
   "cell_type": "code",
   "execution_count": 92,
   "metadata": {},
   "outputs": [
    {
     "name": "stdout",
     "output_type": "stream",
     "text": [
      "['penicillin', 'codine']\n"
     ]
    }
   ],
   "source": [
    "shopping_list2=[\"penicillin\",\"codine\"]\n",
    "print(shopping_list2)"
   ]
  },
  {
   "cell_type": "code",
   "execution_count": 93,
   "metadata": {},
   "outputs": [
    {
     "name": "stdout",
     "output_type": "stream",
     "text": [
      "['Paracetamol', 'Asprin', 'Ibuprofin', 'penicillin', 'codine']\n"
     ]
    }
   ],
   "source": [
    "shopping_list3=shopping_list+shopping_list2\n",
    "print(shopping_list3)"
   ]
  },
  {
   "cell_type": "code",
   "execution_count": 94,
   "metadata": {},
   "outputs": [
    {
     "name": "stdout",
     "output_type": "stream",
     "text": [
      "['Asprin', 'Ibuprofin']\n"
     ]
    }
   ],
   "source": [
    "print(shopping_list3[1:3])"
   ]
  },
  {
   "cell_type": "code",
   "execution_count": 95,
   "metadata": {},
   "outputs": [
    {
     "name": "stdout",
     "output_type": "stream",
     "text": [
      "['Paracetamol', 'Asprin', 'Ibuprofin']\n"
     ]
    }
   ],
   "source": [
    "print(shopping_list3[:3])"
   ]
  },
  {
   "cell_type": "code",
   "execution_count": 96,
   "metadata": {},
   "outputs": [
    {
     "name": "stdout",
     "output_type": "stream",
     "text": [
      "['Ibuprofin', 'penicillin', 'codine']\n"
     ]
    }
   ],
   "source": [
    "print(shopping_list3[2:])"
   ]
  },
  {
   "cell_type": "code",
   "execution_count": 97,
   "metadata": {},
   "outputs": [
    {
     "name": "stdout",
     "output_type": "stream",
     "text": [
      "['Ibuprofin', 'penicillin']\n"
     ]
    }
   ],
   "source": [
    "print(shopping_list3[-3:-1])"
   ]
  },
  {
   "cell_type": "code",
   "execution_count": 98,
   "metadata": {},
   "outputs": [
    {
     "name": "stdout",
     "output_type": "stream",
     "text": [
      "['Paracetamol', 'Asprin', 'Ibuprofin', 'penicillin', 'codine']\n"
     ]
    }
   ],
   "source": [
    "print(shopping_list3)"
   ]
  },
  {
   "cell_type": "code",
   "execution_count": 99,
   "metadata": {},
   "outputs": [
    {
     "name": "stdout",
     "output_type": "stream",
     "text": [
      "['Alcohol', 'Asprin', 'Ibuprofin', 'penicillin', 'codine']\n"
     ]
    }
   ],
   "source": [
    "shopping_list3[0]='Alcohol'\n",
    "print(shopping_list3)"
   ]
  },
  {
   "cell_type": "code",
   "execution_count": 100,
   "metadata": {},
   "outputs": [
    {
     "name": "stdout",
     "output_type": "stream",
     "text": [
      "['Asprin', 'Ibuprofin', 'penicillin', 'codine']\n"
     ]
    }
   ],
   "source": [
    "shopping_list3.remove('Alcohol')\n",
    "print(shopping_list3)"
   ]
  },
  {
   "cell_type": "code",
   "execution_count": 101,
   "metadata": {},
   "outputs": [
    {
     "name": "stdout",
     "output_type": "stream",
     "text": [
      "It is in list!\n",
      "['Ibuprofin', 'penicillin', 'codine']\n"
     ]
    }
   ],
   "source": [
    "if 'Asprin' in shopping_list3:\n",
    "    print(\"It is in list!\")\n",
    "    shopping_list3.remove('Asprin')\n",
    "print(shopping_list3)"
   ]
  },
  {
   "cell_type": "code",
   "execution_count": 102,
   "metadata": {},
   "outputs": [
    {
     "name": "stdout",
     "output_type": "stream",
     "text": [
      "['Ibuprofin', 'penicillin']\n"
     ]
    }
   ],
   "source": [
    "del shopping_list3[2]\n",
    "print(shopping_list3)"
   ]
  },
  {
   "cell_type": "code",
   "execution_count": 103,
   "metadata": {},
   "outputs": [
    {
     "name": "stdout",
     "output_type": "stream",
     "text": [
      "['Ibuprofin', 'penicillin']\n",
      "['Ibuprofin', 'penicillin']\n"
     ]
    }
   ],
   "source": [
    "shopping_list3_copy=shopping_list3.copy()\n",
    "print(shopping_list3_copy)\n",
    "print(shopping_list3)\n"
   ]
  },
  {
   "cell_type": "code",
   "execution_count": 104,
   "metadata": {},
   "outputs": [
    {
     "name": "stdout",
     "output_type": "stream",
     "text": [
      "['Ibuprofin']\n"
     ]
    }
   ],
   "source": [
    "shopping_list4=shopping_list3\n",
    "del shopping_list3[1]\n",
    "print(shopping_list4)"
   ]
  },
  {
   "cell_type": "code",
   "execution_count": 105,
   "metadata": {},
   "outputs": [
    {
     "name": "stdout",
     "output_type": "stream",
     "text": [
      "['Ibuprofin', 1, 2, 3]\n",
      "['Ibuprofin', 1, 2, 3]\n"
     ]
    }
   ],
   "source": [
    "#extend, extends the list by the items in the supplied list / or just the item you provide.\n",
    "shopping_list4.extend([1,2,3])\n",
    "print(shopping_list4)\n",
    "print(shopping_list3)"
   ]
  },
  {
   "cell_type": "code",
   "execution_count": 108,
   "metadata": {},
   "outputs": [
    {
     "name": "stdout",
     "output_type": "stream",
     "text": [
      "['Ibuprofin', 1, 2, 3, [4, 5, 6]]\n"
     ]
    }
   ],
   "source": [
    "#Append, appends the entire object to the list\n",
    "shopping_list4.append([4,5,6])\n",
    "print(shopping_list4)"
   ]
  },
  {
   "cell_type": "code",
   "execution_count": 109,
   "metadata": {},
   "outputs": [
    {
     "name": "stdout",
     "output_type": "stream",
     "text": [
      "['Ibuprofin', 1, 2, 3, [4, 5, 6], 1, [2, 3], 4]\n"
     ]
    }
   ],
   "source": [
    "shopping_list4.extend([1,[2,3],4])\n",
    "print(shopping_list3)"
   ]
  },
  {
   "cell_type": "code",
   "execution_count": 110,
   "metadata": {},
   "outputs": [
    {
     "name": "stdout",
     "output_type": "stream",
     "text": [
      "['Ibuprofin', 1, 2, 3, [4, 5, 6], 1, [2, 3]]\n"
     ]
    }
   ],
   "source": [
    "shopping_list4.pop()\n",
    "print(shopping_list4)"
   ]
  },
  {
   "cell_type": "code",
   "execution_count": 111,
   "metadata": {},
   "outputs": [
    {
     "name": "stdout",
     "output_type": "stream",
     "text": [
      "[1, 2, 3, [4, 5, 6], 1, [2, 3]]\n"
     ]
    }
   ],
   "source": [
    "shopping_list4.pop(0)\n",
    "print(shopping_list4)"
   ]
  },
  {
   "cell_type": "code",
   "execution_count": null,
   "metadata": {},
   "outputs": [],
   "source": []
  }
 ],
 "metadata": {
  "kernelspec": {
   "display_name": "Python 3",
   "language": "python",
   "name": "python3"
  },
  "language_info": {
   "codemirror_mode": {
    "name": "ipython",
    "version": 3
   },
   "file_extension": ".py",
   "mimetype": "text/x-python",
   "name": "python",
   "nbconvert_exporter": "python",
   "pygments_lexer": "ipython3",
   "version": "3.8.2"
  }
 },
 "nbformat": 4,
 "nbformat_minor": 4
}
