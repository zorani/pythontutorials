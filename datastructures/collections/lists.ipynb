{
 "cells": [
  {
   "cell_type": "code",
   "execution_count": 3,
   "metadata": {},
   "outputs": [
    {
     "name": "stdout",
     "output_type": "stream",
     "text": [
      "[]\n"
     ]
    }
   ],
   "source": [
    "#Working with lists: LISTS - collection that is ordered changeable. Allows duplicate members.\n",
    "list_of_ints=[]\n",
    "print(list_of_ints)"
   ]
  },
  {
   "cell_type": "code",
   "execution_count": 4,
   "metadata": {},
   "outputs": [
    {
     "name": "stdout",
     "output_type": "stream",
     "text": [
      "[1, 2, 3]\n"
     ]
    }
   ],
   "source": [
    "list_of_ints=[1,2,3]\n",
    "print(list_of_ints)"
   ]
  },
  {
   "cell_type": "code",
   "execution_count": 5,
   "metadata": {},
   "outputs": [
    {
     "name": "stdout",
     "output_type": "stream",
     "text": [
      "[1, 2, 3, 4]\n"
     ]
    }
   ],
   "source": [
    "list_of_ints.append(4)\n",
    "print(list_of_ints)"
   ]
  },
  {
   "cell_type": "code",
   "execution_count": 6,
   "metadata": {},
   "outputs": [
    {
     "name": "stdout",
     "output_type": "stream",
     "text": [
      "4\n"
     ]
    }
   ],
   "source": [
    "length_of_list_of_ints=len(list_of_ints)\n",
    "print(length_of_list_of_ints)"
   ]
  },
  {
   "cell_type": "code",
   "execution_count": 7,
   "metadata": {},
   "outputs": [
    {
     "name": "stdout",
     "output_type": "stream",
     "text": [
      "1\n"
     ]
    }
   ],
   "source": [
    "print(list_of_ints[0])"
   ]
  },
  {
   "cell_type": "code",
   "execution_count": 8,
   "metadata": {},
   "outputs": [
    {
     "name": "stdout",
     "output_type": "stream",
     "text": [
      "4\n"
     ]
    }
   ],
   "source": [
    "print(list_of_ints[3])"
   ]
  },
  {
   "cell_type": "code",
   "execution_count": 9,
   "metadata": {},
   "outputs": [
    {
     "name": "stdout",
     "output_type": "stream",
     "text": [
      "4\n"
     ]
    }
   ],
   "source": [
    "print(list_of_ints[length_of_list_of_ints-1])"
   ]
  },
  {
   "cell_type": "code",
   "execution_count": 10,
   "metadata": {},
   "outputs": [
    {
     "name": "stdout",
     "output_type": "stream",
     "text": [
      "4\n"
     ]
    }
   ],
   "source": [
    "print(list_of_ints[-1])"
   ]
  },
  {
   "cell_type": "code",
   "execution_count": 11,
   "metadata": {},
   "outputs": [
    {
     "name": "stdout",
     "output_type": "stream",
     "text": [
      "[1, 2, 3, 4]\n"
     ]
    }
   ],
   "source": [
    "print(list_of_ints)"
   ]
  },
  {
   "cell_type": "code",
   "execution_count": 12,
   "metadata": {},
   "outputs": [
    {
     "name": "stdout",
     "output_type": "stream",
     "text": [
      "1\n"
     ]
    }
   ],
   "source": [
    "print(list_of_ints[-4])"
   ]
  },
  {
   "cell_type": "code",
   "execution_count": 13,
   "metadata": {},
   "outputs": [
    {
     "name": "stdout",
     "output_type": "stream",
     "text": [
      "['hello', 1, 1.2, True]\n"
     ]
    }
   ],
   "source": [
    "my_mixed_list=[\"hello\",1,1.2,True]\n",
    "print(my_mixed_list)"
   ]
  },
  {
   "cell_type": "code",
   "execution_count": 14,
   "metadata": {},
   "outputs": [
    {
     "name": "stdout",
     "output_type": "stream",
     "text": [
      "['Paracetamol', 'Asprin', 'Ibuprofin']\n"
     ]
    }
   ],
   "source": [
    "shopping_list=[]\n",
    "shopping_list.append(\"Paracetamol\")\n",
    "shopping_list.append(\"Asprin\")\n",
    "shopping_list.append(\"Ibuprofin\")\n",
    "\n",
    "print(shopping_list)\n",
    "\n"
   ]
  },
  {
   "cell_type": "code",
   "execution_count": 15,
   "metadata": {},
   "outputs": [
    {
     "name": "stdout",
     "output_type": "stream",
     "text": [
      "['penicillin', 'codine']\n"
     ]
    }
   ],
   "source": [
    "shopping_list2=[\"penicillin\",\"codine\"]\n",
    "print(shopping_list2)"
   ]
  },
  {
   "cell_type": "code",
   "execution_count": 16,
   "metadata": {},
   "outputs": [
    {
     "name": "stdout",
     "output_type": "stream",
     "text": [
      "['Paracetamol', 'Asprin', 'Ibuprofin', 'penicillin', 'codine']\n"
     ]
    }
   ],
   "source": [
    "shopping_list3=shopping_list+shopping_list2\n",
    "print(shopping_list3)"
   ]
  },
  {
   "cell_type": "code",
   "execution_count": 17,
   "metadata": {},
   "outputs": [
    {
     "name": "stdout",
     "output_type": "stream",
     "text": [
      "['Asprin', 'Ibuprofin']\n"
     ]
    }
   ],
   "source": [
    "print(shopping_list3[1:3])"
   ]
  },
  {
   "cell_type": "code",
   "execution_count": 18,
   "metadata": {},
   "outputs": [
    {
     "name": "stdout",
     "output_type": "stream",
     "text": [
      "['Paracetamol', 'Asprin', 'Ibuprofin']\n"
     ]
    }
   ],
   "source": [
    "print(shopping_list3[:3])"
   ]
  },
  {
   "cell_type": "code",
   "execution_count": 19,
   "metadata": {},
   "outputs": [
    {
     "name": "stdout",
     "output_type": "stream",
     "text": [
      "['Ibuprofin', 'penicillin', 'codine']\n"
     ]
    }
   ],
   "source": [
    "print(shopping_list3[2:])"
   ]
  },
  {
   "cell_type": "code",
   "execution_count": 20,
   "metadata": {},
   "outputs": [
    {
     "name": "stdout",
     "output_type": "stream",
     "text": [
      "['Ibuprofin', 'penicillin']\n"
     ]
    }
   ],
   "source": [
    "print(shopping_list3[-3:-1])"
   ]
  },
  {
   "cell_type": "code",
   "execution_count": 21,
   "metadata": {},
   "outputs": [
    {
     "name": "stdout",
     "output_type": "stream",
     "text": [
      "['Paracetamol', 'Asprin', 'Ibuprofin', 'penicillin', 'codine']\n"
     ]
    }
   ],
   "source": [
    "print(shopping_list3)"
   ]
  },
  {
   "cell_type": "code",
   "execution_count": 22,
   "metadata": {},
   "outputs": [
    {
     "name": "stdout",
     "output_type": "stream",
     "text": [
      "['Alcohol', 'Asprin', 'Ibuprofin', 'penicillin', 'codine']\n"
     ]
    }
   ],
   "source": [
    "shopping_list3[0]='Alcohol'\n",
    "print(shopping_list3)"
   ]
  },
  {
   "cell_type": "code",
   "execution_count": 23,
   "metadata": {},
   "outputs": [
    {
     "name": "stdout",
     "output_type": "stream",
     "text": [
      "['Asprin', 'Ibuprofin', 'penicillin', 'codine']\n"
     ]
    }
   ],
   "source": [
    "shopping_list3.remove('Alcohol')\n",
    "print(shopping_list3)"
   ]
  },
  {
   "cell_type": "code",
   "execution_count": 24,
   "metadata": {},
   "outputs": [
    {
     "name": "stdout",
     "output_type": "stream",
     "text": [
      "It is in list!\n",
      "['Ibuprofin', 'penicillin', 'codine']\n"
     ]
    }
   ],
   "source": [
    "if 'Asprin' in shopping_list3:\n",
    "    print(\"It is in list!\")\n",
    "    shopping_list3.remove('Asprin')\n",
    "print(shopping_list3)"
   ]
  },
  {
   "cell_type": "code",
   "execution_count": 25,
   "metadata": {},
   "outputs": [
    {
     "name": "stdout",
     "output_type": "stream",
     "text": [
      "['Ibuprofin', 'penicillin']\n"
     ]
    }
   ],
   "source": [
    "del shopping_list3[2]\n",
    "print(shopping_list3)"
   ]
  },
  {
   "cell_type": "code",
   "execution_count": 26,
   "metadata": {},
   "outputs": [
    {
     "name": "stdout",
     "output_type": "stream",
     "text": [
      "['Ibuprofin', 'penicillin']\n",
      "['Ibuprofin', 'penicillin']\n"
     ]
    }
   ],
   "source": [
    "shopping_list3_copy=shopping_list3.copy()\n",
    "print(shopping_list3_copy)\n",
    "print(shopping_list3)\n"
   ]
  },
  {
   "cell_type": "code",
   "execution_count": 27,
   "metadata": {},
   "outputs": [
    {
     "name": "stdout",
     "output_type": "stream",
     "text": [
      "['Ibuprofin']\n"
     ]
    }
   ],
   "source": [
    "shopping_list4=shopping_list3\n",
    "del shopping_list3[1]\n",
    "print(shopping_list4)"
   ]
  },
  {
   "cell_type": "code",
   "execution_count": 28,
   "metadata": {},
   "outputs": [
    {
     "name": "stdout",
     "output_type": "stream",
     "text": [
      "['Ibuprofin', 1, 2, 3]\n",
      "['Ibuprofin', 1, 2, 3]\n"
     ]
    }
   ],
   "source": [
    "#extend, extends the list by the items in the supplied list / or just the item you provide.\n",
    "shopping_list4.extend([1,2,3])\n",
    "print(shopping_list4)\n",
    "print(shopping_list3)"
   ]
  },
  {
   "cell_type": "code",
   "execution_count": 29,
   "metadata": {},
   "outputs": [
    {
     "name": "stdout",
     "output_type": "stream",
     "text": [
      "['Ibuprofin', 1, 2, 3, [4, 5, 6]]\n"
     ]
    }
   ],
   "source": [
    "#Append, appends the entire object to the list\n",
    "shopping_list4.append([4,5,6])\n",
    "print(shopping_list4)"
   ]
  },
  {
   "cell_type": "code",
   "execution_count": 30,
   "metadata": {},
   "outputs": [
    {
     "name": "stdout",
     "output_type": "stream",
     "text": [
      "['Ibuprofin', 1, 2, 3, [4, 5, 6], 1, [2, 3], 4]\n"
     ]
    }
   ],
   "source": [
    "shopping_list4.extend([1,[2,3],4])\n",
    "print(shopping_list3)"
   ]
  },
  {
   "cell_type": "code",
   "execution_count": 31,
   "metadata": {},
   "outputs": [
    {
     "name": "stdout",
     "output_type": "stream",
     "text": [
      "['Ibuprofin', 1, 2, 3, [4, 5, 6], 1, [2, 3]]\n"
     ]
    }
   ],
   "source": [
    "shopping_list4.pop()\n",
    "print(shopping_list4)"
   ]
  },
  {
   "cell_type": "code",
   "execution_count": 32,
   "metadata": {},
   "outputs": [
    {
     "name": "stdout",
     "output_type": "stream",
     "text": [
      "[1, 2, 3, [4, 5, 6], 1, [2, 3]]\n"
     ]
    }
   ],
   "source": [
    "shopping_list4.pop(0)\n",
    "print(shopping_list4)"
   ]
  },
  {
   "cell_type": "code",
   "execution_count": 33,
   "metadata": {},
   "outputs": [
    {
     "name": "stdout",
     "output_type": "stream",
     "text": [
      "[1, 2, 3, [4, 5, 6], 1, [2, 3]]\n"
     ]
    }
   ],
   "source": [
    "print(shopping_list4)"
   ]
  },
  {
   "cell_type": "code",
   "execution_count": 36,
   "metadata": {},
   "outputs": [
    {
     "name": "stdout",
     "output_type": "stream",
     "text": [
      "[2, 3]\n",
      "[1, 2, 3, [4, 5, 6], 1]\n"
     ]
    }
   ],
   "source": [
    "pop_value=shopping_list4.pop()\n",
    "print(pop_value)\n",
    "print(shopping_list4)"
   ]
  },
  {
   "cell_type": "code",
   "execution_count": null,
   "metadata": {},
   "outputs": [],
   "source": []
  }
 ],
 "metadata": {
  "kernelspec": {
   "display_name": "Python 3",
   "language": "python",
   "name": "python3"
  },
  "language_info": {
   "codemirror_mode": {
    "name": "ipython",
    "version": 3
   },
   "file_extension": ".py",
   "mimetype": "text/x-python",
   "name": "python",
   "nbconvert_exporter": "python",
   "pygments_lexer": "ipython3",
   "version": "3.8.2"
  }
 },
 "nbformat": 4,
 "nbformat_minor": 4
}
