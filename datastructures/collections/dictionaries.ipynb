{
 "cells": [
  {
   "cell_type": "code",
   "execution_count": 1,
   "metadata": {},
   "outputs": [],
   "source": [
    "#Working with dictionaries. Unordered, changeable and indexed.   key/values\n",
    "myfirstdict={}"
   ]
  },
  {
   "cell_type": "code",
   "execution_count": 2,
   "metadata": {},
   "outputs": [
    {
     "name": "stdout",
     "output_type": "stream",
     "text": [
      "{}\n"
     ]
    }
   ],
   "source": [
    "print(myfirstdict)"
   ]
  },
  {
   "cell_type": "code",
   "execution_count": 3,
   "metadata": {},
   "outputs": [
    {
     "name": "stdout",
     "output_type": "stream",
     "text": [
      "{'aardvark': 'medium-sized, burrowing, nocturnal mammal'}\n"
     ]
    }
   ],
   "source": [
    "myfirstdict['aardvark']=\"medium-sized, burrowing, nocturnal mammal\"\n",
    "print(myfirstdict)"
   ]
  },
  {
   "cell_type": "code",
   "execution_count": 4,
   "metadata": {},
   "outputs": [
    {
     "name": "stdout",
     "output_type": "stream",
     "text": [
      "medium-sized, burrowing, nocturnal mammal\n"
     ]
    }
   ],
   "source": [
    "print(myfirstdict['aardvark'])"
   ]
  },
  {
   "cell_type": "code",
   "execution_count": 5,
   "metadata": {},
   "outputs": [],
   "source": [
    "myfirstdict['name']=\"joe blogs\"\n"
   ]
  },
  {
   "cell_type": "code",
   "execution_count": 6,
   "metadata": {},
   "outputs": [
    {
     "name": "stdout",
     "output_type": "stream",
     "text": [
      "joe blogs\n"
     ]
    }
   ],
   "source": [
    "print(myfirstdict['name'])"
   ]
  },
  {
   "cell_type": "code",
   "execution_count": 7,
   "metadata": {},
   "outputs": [
    {
     "name": "stdout",
     "output_type": "stream",
     "text": [
      "aardvark:medium-sized, burrowing, nocturnal mammal\n",
      "name:joe blogs\n"
     ]
    }
   ],
   "source": [
    "for key, value in myfirstdict.items():\n",
    "    print(str(key)+\":\"+str(value))"
   ]
  },
  {
   "cell_type": "code",
   "execution_count": 8,
   "metadata": {},
   "outputs": [
    {
     "name": "stdout",
     "output_type": "stream",
     "text": [
      "aardvark:medium-sized, burrowing, nocturnal mammal\n",
      "name:joe blogs\n"
     ]
    }
   ],
   "source": [
    "for x, y in myfirstdict.items():\n",
    "    print(str(x)+\":\"+str(y))"
   ]
  },
  {
   "cell_type": "code",
   "execution_count": 9,
   "metadata": {},
   "outputs": [
    {
     "name": "stdout",
     "output_type": "stream",
     "text": [
      "medium-sized, burrowing, nocturnal mammal\n",
      "joe blogs\n"
     ]
    }
   ],
   "source": [
    "for key in myfirstdict:\n",
    "    print(myfirstdict[key])"
   ]
  },
  {
   "cell_type": "code",
   "execution_count": 10,
   "metadata": {},
   "outputs": [
    {
     "name": "stdout",
     "output_type": "stream",
     "text": [
      "Yes\n"
     ]
    }
   ],
   "source": [
    "if \"name\" in myfirstdict:\n",
    "    print(\"Yes\")"
   ]
  },
  {
   "cell_type": "code",
   "execution_count": 11,
   "metadata": {},
   "outputs": [
    {
     "name": "stdout",
     "output_type": "stream",
     "text": [
      "2\n"
     ]
    }
   ],
   "source": [
    "print(len(myfirstdict))"
   ]
  },
  {
   "cell_type": "code",
   "execution_count": 12,
   "metadata": {},
   "outputs": [
    {
     "name": "stdout",
     "output_type": "stream",
     "text": [
      "joe blogs\n",
      "{'aardvark': 'medium-sized, burrowing, nocturnal mammal'}\n"
     ]
    }
   ],
   "source": [
    "pop_item=myfirstdict.pop(\"name\")\n",
    "print(pop_item)\n",
    "print(myfirstdict)"
   ]
  },
  {
   "cell_type": "code",
   "execution_count": 13,
   "metadata": {},
   "outputs": [
    {
     "name": "stdout",
     "output_type": "stream",
     "text": [
      "{'aardvark': 'medium-sized, burrowing, nocturnal mammal', 'name': 'joan blogs', 'favfood': 'chips'}\n"
     ]
    }
   ],
   "source": [
    "myfirstdict['name']=\"joan blogs\"\n",
    "myfirstdict['favfood']=\"chips\"\n",
    "print(myfirstdict)"
   ]
  },
  {
   "cell_type": "code",
   "execution_count": 14,
   "metadata": {},
   "outputs": [
    {
     "name": "stdout",
     "output_type": "stream",
     "text": [
      "No\n"
     ]
    }
   ],
   "source": [
    "if \"favdrink\" in myfirstdict:\n",
    "    print(\"Yes\")\n",
    "else:\n",
    "    print(\"No\")"
   ]
  },
  {
   "cell_type": "code",
   "execution_count": 15,
   "metadata": {},
   "outputs": [
    {
     "name": "stdout",
     "output_type": "stream",
     "text": [
      "('favfood', 'chips')\n",
      "<class 'tuple'>\n",
      "{'aardvark': 'medium-sized, burrowing, nocturnal mammal', 'name': 'joan blogs'}\n"
     ]
    }
   ],
   "source": [
    "pop_item=myfirstdict.popitem()\n",
    "print(pop_item)\n",
    "print(type(pop_item))\n",
    "print(myfirstdict)"
   ]
  },
  {
   "cell_type": "code",
   "execution_count": 16,
   "metadata": {},
   "outputs": [
    {
     "name": "stdout",
     "output_type": "stream",
     "text": [
      "{}\n"
     ]
    }
   ],
   "source": [
    "myseconddict=myfirstdict.copy()\n",
    "myfirstdict.clear()\n",
    "print(myfirstdict)"
   ]
  },
  {
   "cell_type": "code",
   "execution_count": 17,
   "metadata": {},
   "outputs": [],
   "source": [
    "del myfirstdict\n",
    "#print(myfirstdict)"
   ]
  },
  {
   "cell_type": "code",
   "execution_count": null,
   "metadata": {},
   "outputs": [],
   "source": []
  },
  {
   "cell_type": "code",
   "execution_count": 18,
   "metadata": {},
   "outputs": [
    {
     "name": "stdout",
     "output_type": "stream",
     "text": [
      "{'aardvark': 'medium-sized, burrowing, nocturnal mammal', 'name': 'joan blogs'}\n"
     ]
    }
   ],
   "source": [
    "print(myseconddict)"
   ]
  },
  {
   "cell_type": "code",
   "execution_count": null,
   "metadata": {},
   "outputs": [],
   "source": []
  },
  {
   "cell_type": "code",
   "execution_count": null,
   "metadata": {},
   "outputs": [],
   "source": []
  },
  {
   "cell_type": "code",
   "execution_count": null,
   "metadata": {},
   "outputs": [],
   "source": []
  },
  {
   "cell_type": "code",
   "execution_count": null,
   "metadata": {},
   "outputs": [],
   "source": []
  }
 ],
 "metadata": {
  "kernelspec": {
   "display_name": "Python 3",
   "language": "python",
   "name": "python3"
  },
  "language_info": {
   "codemirror_mode": {
    "name": "ipython",
    "version": 3
   },
   "file_extension": ".py",
   "mimetype": "text/x-python",
   "name": "python",
   "nbconvert_exporter": "python",
   "pygments_lexer": "ipython3",
   "version": "3.8.2"
  }
 },
 "nbformat": 4,
 "nbformat_minor": 4
}
