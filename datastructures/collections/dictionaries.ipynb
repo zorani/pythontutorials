{
 "cells": [
  {
   "cell_type": "code",
   "execution_count": 95,
   "metadata": {},
   "outputs": [],
   "source": [
    "#Working with dictionaries. Unordered, changeable and indexed.   key/values\n",
    "myfirstdict={}"
   ]
  },
  {
   "cell_type": "code",
   "execution_count": 96,
   "metadata": {},
   "outputs": [
    {
     "name": "stdout",
     "output_type": "stream",
     "text": [
      "{}\n"
     ]
    }
   ],
   "source": [
    "print(myfirstdict)"
   ]
  },
  {
   "cell_type": "code",
   "execution_count": 97,
   "metadata": {},
   "outputs": [
    {
     "name": "stdout",
     "output_type": "stream",
     "text": [
      "{'aardvark': 'medium-sized, burrowing, nocturnal mammal'}\n"
     ]
    }
   ],
   "source": [
    "myfirstdict['aardvark']=\"medium-sized, burrowing, nocturnal mammal\"\n",
    "print(myfirstdict)"
   ]
  },
  {
   "cell_type": "code",
   "execution_count": 98,
   "metadata": {},
   "outputs": [
    {
     "name": "stdout",
     "output_type": "stream",
     "text": [
      "medium-sized, burrowing, nocturnal mammal\n"
     ]
    }
   ],
   "source": [
    "print(myfirstdict['aardvark'])"
   ]
  },
  {
   "cell_type": "code",
   "execution_count": 99,
   "metadata": {},
   "outputs": [],
   "source": [
    "myfirstdict['name']=\"joe blogs\"\n"
   ]
  },
  {
   "cell_type": "code",
   "execution_count": 100,
   "metadata": {},
   "outputs": [
    {
     "name": "stdout",
     "output_type": "stream",
     "text": [
      "joe blogs\n"
     ]
    }
   ],
   "source": [
    "print(myfirstdict['name'])"
   ]
  },
  {
   "cell_type": "code",
   "execution_count": 101,
   "metadata": {},
   "outputs": [
    {
     "name": "stdout",
     "output_type": "stream",
     "text": [
      "aardvark:medium-sized, burrowing, nocturnal mammal\n",
      "name:joe blogs\n"
     ]
    }
   ],
   "source": [
    "for key, value in myfirstdict.items():\n",
    "    print(str(key)+\":\"+str(value))"
   ]
  },
  {
   "cell_type": "code",
   "execution_count": 102,
   "metadata": {},
   "outputs": [
    {
     "name": "stdout",
     "output_type": "stream",
     "text": [
      "aardvark:medium-sized, burrowing, nocturnal mammal\n",
      "name:joe blogs\n"
     ]
    }
   ],
   "source": [
    "for x, y in myfirstdict.items():\n",
    "    print(str(x)+\":\"+str(y))"
   ]
  },
  {
   "cell_type": "code",
   "execution_count": 103,
   "metadata": {},
   "outputs": [
    {
     "name": "stdout",
     "output_type": "stream",
     "text": [
      "medium-sized, burrowing, nocturnal mammal\n",
      "joe blogs\n"
     ]
    }
   ],
   "source": [
    "for key in myfirstdict:\n",
    "    print(myfirstdict[key])"
   ]
  },
  {
   "cell_type": "code",
   "execution_count": 104,
   "metadata": {},
   "outputs": [
    {
     "name": "stdout",
     "output_type": "stream",
     "text": [
      "Yes\n"
     ]
    }
   ],
   "source": [
    "if \"name\" in myfirstdict:\n",
    "    print(\"Yes\")"
   ]
  },
  {
   "cell_type": "code",
   "execution_count": 105,
   "metadata": {},
   "outputs": [
    {
     "name": "stdout",
     "output_type": "stream",
     "text": [
      "2\n"
     ]
    }
   ],
   "source": [
    "print(len(myfirstdict))"
   ]
  },
  {
   "cell_type": "code",
   "execution_count": 106,
   "metadata": {},
   "outputs": [
    {
     "name": "stdout",
     "output_type": "stream",
     "text": [
      "joe blogs\n",
      "{'aardvark': 'medium-sized, burrowing, nocturnal mammal'}\n"
     ]
    }
   ],
   "source": [
    "pop_item=myfirstdict.pop(\"name\")\n",
    "print(pop_item)\n",
    "print(myfirstdict)"
   ]
  },
  {
   "cell_type": "code",
   "execution_count": 107,
   "metadata": {},
   "outputs": [
    {
     "name": "stdout",
     "output_type": "stream",
     "text": [
      "{'aardvark': 'medium-sized, burrowing, nocturnal mammal', 'name': 'joan blogs', 'favfood': 'chips'}\n"
     ]
    }
   ],
   "source": [
    "myfirstdict['name']=\"joan blogs\"\n",
    "myfirstdict['favfood']=\"chips\"\n",
    "print(myfirstdict)"
   ]
  },
  {
   "cell_type": "code",
   "execution_count": 108,
   "metadata": {},
   "outputs": [
    {
     "name": "stdout",
     "output_type": "stream",
     "text": [
      "No\n"
     ]
    }
   ],
   "source": [
    "if \"favdrink\" in myfirstdict:\n",
    "    print(\"Yes\")\n",
    "else:\n",
    "    print(\"No\")"
   ]
  },
  {
   "cell_type": "code",
   "execution_count": 109,
   "metadata": {},
   "outputs": [
    {
     "name": "stdout",
     "output_type": "stream",
     "text": [
      "('favfood', 'chips')\n",
      "<class 'tuple'>\n",
      "{'aardvark': 'medium-sized, burrowing, nocturnal mammal', 'name': 'joan blogs'}\n"
     ]
    }
   ],
   "source": [
    "pop_item=myfirstdict.popitem()\n",
    "print(pop_item)\n",
    "print(type(pop_item))\n",
    "print(myfirstdict)"
   ]
  },
  {
   "cell_type": "code",
   "execution_count": 110,
   "metadata": {},
   "outputs": [
    {
     "name": "stdout",
     "output_type": "stream",
     "text": [
      "{}\n"
     ]
    }
   ],
   "source": [
    "myseconddict=myfirstdict.copy()\n",
    "myfirstdict.clear()\n",
    "print(myfirstdict)"
   ]
  },
  {
   "cell_type": "code",
   "execution_count": 111,
   "metadata": {},
   "outputs": [],
   "source": [
    "del myfirstdict\n",
    "#print(myfirstdict)"
   ]
  },
  {
   "cell_type": "code",
   "execution_count": null,
   "metadata": {},
   "outputs": [],
   "source": []
  },
  {
   "cell_type": "code",
   "execution_count": 112,
   "metadata": {},
   "outputs": [
    {
     "name": "stdout",
     "output_type": "stream",
     "text": [
      "{'aardvark': 'medium-sized, burrowing, nocturnal mammal', 'name': 'joan blogs'}\n"
     ]
    }
   ],
   "source": [
    "print(myseconddict)"
   ]
  },
  {
   "cell_type": "code",
   "execution_count": 113,
   "metadata": {},
   "outputs": [],
   "source": [
    "myseconddict['nesteddict']={}"
   ]
  },
  {
   "cell_type": "code",
   "execution_count": 114,
   "metadata": {},
   "outputs": [
    {
     "name": "stdout",
     "output_type": "stream",
     "text": [
      "{'aardvark': 'medium-sized, burrowing, nocturnal mammal', 'name': 'joan blogs', 'nesteddict': {}}\n"
     ]
    }
   ],
   "source": [
    "print(myseconddict)"
   ]
  },
  {
   "cell_type": "code",
   "execution_count": null,
   "metadata": {},
   "outputs": [],
   "source": []
  },
  {
   "cell_type": "code",
   "execution_count": null,
   "metadata": {},
   "outputs": [],
   "source": []
  }
 ],
 "metadata": {
  "kernelspec": {
   "display_name": "Python 3",
   "language": "python",
   "name": "python3"
  },
  "language_info": {
   "codemirror_mode": {
    "name": "ipython",
    "version": 3
   },
   "file_extension": ".py",
   "mimetype": "text/x-python",
   "name": "python",
   "nbconvert_exporter": "python",
   "pygments_lexer": "ipython3",
   "version": "3.8.2"
  }
 },
 "nbformat": 4,
 "nbformat_minor": 4
}
