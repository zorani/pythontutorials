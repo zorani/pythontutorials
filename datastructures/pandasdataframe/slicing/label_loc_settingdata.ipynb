{
 "cells": [
  {
   "cell_type": "code",
   "execution_count": null,
   "metadata": {},
   "outputs": [],
   "source": [
    "# SETTING DATA\n",
    "#Slicing with loc - label based slicing.\n",
    "# loc - is used to access a group of rows and columns by labels or booleans.\n",
    "# dataframe slicing is diffent, it includes starts and stops locations."
   ]
  },
  {
   "cell_type": "code",
   "execution_count": null,
   "metadata": {},
   "outputs": [],
   "source": [
    "import pandas as pd"
   ]
  },
  {
   "cell_type": "code",
   "execution_count": null,
   "metadata": {},
   "outputs": [],
   "source": [
    "df_bananas=pd.DataFrame([[1,2],[3,4],[5,6]],index=['Alice','Bob','Carlos'],columns=['Apples','Pears'])\n",
    "display(df_bananas)"
   ]
  },
  {
   "cell_type": "code",
   "execution_count": null,
   "metadata": {},
   "outputs": [],
   "source": [
    "df_bananas.loc['Bob':'Carlos','Pears']=100\n",
    "display(df_bananas)"
   ]
  },
  {
   "cell_type": "code",
   "execution_count": null,
   "metadata": {},
   "outputs": [],
   "source": [
    "df_bananas.loc[['Alice','Carlos'],'Pears']=50\n",
    "display(df_bananas)"
   ]
  },
  {
   "cell_type": "code",
   "execution_count": null,
   "metadata": {},
   "outputs": [],
   "source": [
    "#Set whole row\n",
    "df_bananas.loc['Alice',:]=-99\n",
    "display(df_bananas)"
   ]
  },
  {
   "cell_type": "code",
   "execution_count": null,
   "metadata": {},
   "outputs": [],
   "source": [
    "#Set whole column\n",
    "df_bananas.loc[:,'Apples']='Banana'\n",
    "display(df_bananas)"
   ]
  },
  {
   "cell_type": "code",
   "execution_count": null,
   "metadata": {},
   "outputs": [],
   "source": []
  }
 ],
 "metadata": {
  "kernelspec": {
   "display_name": "Python 3",
   "language": "python",
   "name": "python3"
  },
  "language_info": {
   "codemirror_mode": {
    "name": "ipython",
    "version": 3
   },
   "file_extension": ".py",
   "mimetype": "text/x-python",
   "name": "python",
   "nbconvert_exporter": "python",
   "pygments_lexer": "ipython3",
   "version": "3.8.5"
  }
 },
 "nbformat": 4,
 "nbformat_minor": 4
}
