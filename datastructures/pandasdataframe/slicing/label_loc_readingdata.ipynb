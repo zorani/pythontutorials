{
 "cells": [
  {
   "cell_type": "code",
   "execution_count": null,
   "metadata": {},
   "outputs": [],
   "source": [
    "#READING DATA\n",
    "#Slicing with loc - label based slicing.\n",
    "# loc - is used to access a group of rows and columns by labels or booleans.\n",
    "# dataframe slicing is diffent, it includes starts and stops locations."
   ]
  },
  {
   "cell_type": "code",
   "execution_count": null,
   "metadata": {},
   "outputs": [],
   "source": [
    "import pandas as pd"
   ]
  },
  {
   "cell_type": "code",
   "execution_count": null,
   "metadata": {},
   "outputs": [],
   "source": [
    "df=pd.DataFrame([[1,2],[3,4],[5,6]],index=['Alice','Bob','Carlos'],columns=['Apples','Pears'])\n",
    "display(df)"
   ]
  },
  {
   "cell_type": "code",
   "execution_count": null,
   "metadata": {},
   "outputs": [],
   "source": [
    "#Single label, single columns are returned as series.\n",
    "alice_series=df.loc['Alice']\n",
    "print(alice_series)\n",
    "print(type(alice_series))"
   ]
  },
  {
   "cell_type": "code",
   "execution_count": null,
   "metadata": {},
   "outputs": [],
   "source": [
    "#Multi label, select\n",
    "#Note, the colon means return all columns, if you leave colon out it will return all anyway\n",
    "df2=df.loc[['Alice','Bob'],:]\n",
    "display(df2)\n",
    "print(type(df2))"
   ]
  },
  {
   "cell_type": "code",
   "execution_count": null,
   "metadata": {},
   "outputs": [],
   "source": [
    "#X,Y cell reference\n",
    "cell=df.loc['Alice','Apples']\n",
    "print(cell)\n",
    "print(type(cell))"
   ]
  },
  {
   "cell_type": "code",
   "execution_count": null,
   "metadata": {},
   "outputs": [],
   "source": [
    "\n",
    "df4=df.loc['Alice':'Carlos','Apples']\n",
    "display(df4)\n",
    "print(type(df4))"
   ]
  },
  {
   "cell_type": "code",
   "execution_count": null,
   "metadata": {},
   "outputs": [],
   "source": [
    "#Slicing with booleans\n",
    "#Will display only rows set to True\n",
    "#Row with label Bob is set to True here only.\n",
    "df5=df.loc[[False,True,False],:]\n",
    "display(df5)"
   ]
  },
  {
   "cell_type": "code",
   "execution_count": null,
   "metadata": {},
   "outputs": [],
   "source": [
    "print(df)"
   ]
  },
  {
   "cell_type": "code",
   "execution_count": null,
   "metadata": {},
   "outputs": [],
   "source": [
    "#Why even bother having boolean slicing."
   ]
  },
  {
   "cell_type": "code",
   "execution_count": null,
   "metadata": {},
   "outputs": [],
   "source": [
    "logic_results=df['Apples']>1\n",
    "display(logic_results)\n",
    "print(type(logic_results))"
   ]
  },
  {
   "cell_type": "code",
   "execution_count": null,
   "metadata": {},
   "outputs": [],
   "source": [
    "df7=df.loc[logic_results,:]\n",
    "#df7=df.loc[[False,True,True],:]\n",
    "display(df7)"
   ]
  },
  {
   "cell_type": "code",
   "execution_count": null,
   "metadata": {},
   "outputs": [],
   "source": [
    "df8=df.loc[df['Apples']>1,:]\n",
    "#df8=df.loc[[False,True,True],:]\n",
    "display(df8)\n",
    "display(df)\n"
   ]
  },
  {
   "cell_type": "code",
   "execution_count": null,
   "metadata": {},
   "outputs": [],
   "source": [
    "df['Apples']>1"
   ]
  },
  {
   "cell_type": "code",
   "execution_count": null,
   "metadata": {},
   "outputs": [],
   "source": [
    "df_with_integer_labels=pd.DataFrame([[1,2],[3,4],[5,6]],index=['1','2','3'],columns=['Apples','Pears'])\n",
    "display(df_with_integer_labels)"
   ]
  },
  {
   "cell_type": "code",
   "execution_count": null,
   "metadata": {},
   "outputs": [],
   "source": [
    "#IMPORTANT - this isn't integer slicing, the labels happen to be numbers. They are still string labels.\n",
    "df_banana=df_with_integer_labels.loc[['1','3'],:]\n",
    "display(df_banana)\n",
    "print(type(df_banana))"
   ]
  },
  {
   "cell_type": "code",
   "execution_count": null,
   "metadata": {},
   "outputs": [],
   "source": []
  }
 ],
 "metadata": {
  "kernelspec": {
   "display_name": "Python 3",
   "language": "python",
   "name": "python3"
  },
  "language_info": {
   "codemirror_mode": {
    "name": "ipython",
    "version": 3
   },
   "file_extension": ".py",
   "mimetype": "text/x-python",
   "name": "python",
   "nbconvert_exporter": "python",
   "pygments_lexer": "ipython3",
   "version": "3.8.5"
  }
 },
 "nbformat": 4,
 "nbformat_minor": 4
}
