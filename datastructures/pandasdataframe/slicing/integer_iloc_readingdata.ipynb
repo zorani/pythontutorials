{
 "cells": [
  {
   "cell_type": "code",
   "execution_count": null,
   "metadata": {},
   "outputs": [],
   "source": [
    "#Slicing using integer indexes, with iloc - READING DATA"
   ]
  },
  {
   "cell_type": "code",
   "execution_count": null,
   "metadata": {},
   "outputs": [],
   "source": [
    "import pandas as pd"
   ]
  },
  {
   "cell_type": "code",
   "execution_count": null,
   "metadata": {},
   "outputs": [],
   "source": [
    "df = pd.DataFrame([ {'d': 5, 'e': 6, 'f': 7, 'g': 8},\n",
    "           {'d': 55, 'e': 66, 'f': 77, 'g': 88},\n",
    "           {'d': 555, 'e': 666, 'f': 777, 'g': 888 }])"
   ]
  },
  {
   "cell_type": "code",
   "execution_count": null,
   "metadata": {},
   "outputs": [],
   "source": [
    "display(df)"
   ]
  },
  {
   "cell_type": "code",
   "execution_count": null,
   "metadata": {},
   "outputs": [],
   "source": [
    "#Row 0, index slicing with a number/scalar\n",
    "row_0_s=df.iloc[0]\n",
    "display(row_0_s)\n",
    "print(type(row_0_s))"
   ]
  },
  {
   "cell_type": "code",
   "execution_count": null,
   "metadata": {},
   "outputs": [],
   "source": [
    "#Slicing with a list of integers\n",
    "list_integers=df.iloc[[0]]\n",
    "display(list_integers)\n",
    "print(type(list_integers))"
   ]
  },
  {
   "cell_type": "code",
   "execution_count": null,
   "metadata": {},
   "outputs": [],
   "source": [
    "#Slicing with a list of integers\n",
    "list_integers_2=df.iloc[[0,2],:]\n",
    "display(list_integers_2)\n",
    "print(type(list_integers_2))"
   ]
  },
  {
   "cell_type": "code",
   "execution_count": null,
   "metadata": {},
   "outputs": [],
   "source": [
    "#Slicing with the colon, : ranges?\n",
    "range_slicing=df.iloc[:3,:]\n",
    "display(range_slicing)\n",
    "print(type(range_slicing))\n"
   ]
  },
  {
   "cell_type": "code",
   "execution_count": null,
   "metadata": {},
   "outputs": [],
   "source": [
    "df_range_slicing_2=df.iloc[:3,:2]\n",
    "display(df_range_slicing_2)\n",
    "print(type(df_range_slicing_2))\n"
   ]
  },
  {
   "cell_type": "code",
   "execution_count": null,
   "metadata": {},
   "outputs": [],
   "source": [
    "df_range_slicing_3=df.iloc[:3,1:3]\n",
    "display(df_range_slicing_3)\n",
    "print(type(df_range_slicing_3))"
   ]
  },
  {
   "cell_type": "code",
   "execution_count": null,
   "metadata": {},
   "outputs": [],
   "source": [
    "display(df)"
   ]
  },
  {
   "cell_type": "code",
   "execution_count": null,
   "metadata": {},
   "outputs": [],
   "source": []
  }
 ],
 "metadata": {
  "kernelspec": {
   "display_name": "Python 3",
   "language": "python",
   "name": "python3"
  },
  "language_info": {
   "codemirror_mode": {
    "name": "ipython",
    "version": 3
   },
   "file_extension": ".py",
   "mimetype": "text/x-python",
   "name": "python",
   "nbconvert_exporter": "python",
   "pygments_lexer": "ipython3",
   "version": "3.8.5"
  }
 },
 "nbformat": 4,
 "nbformat_minor": 4
}
