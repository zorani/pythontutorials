{
 "cells": [
  {
   "cell_type": "code",
   "execution_count": null,
   "metadata": {},
   "outputs": [],
   "source": [
    "import pandas as pd\n"
   ]
  },
  {
   "cell_type": "markdown",
   "metadata": {},
   "source": [
    "<img src=\"pandasdataframemerge.png\" width=800>"
   ]
  },
  {
   "cell_type": "code",
   "execution_count": null,
   "metadata": {},
   "outputs": [],
   "source": [
    "df_product_price=pd.DataFrame({'product':['potatoes','avocados','kiwis','onions','melons','oranges','tomatoes'],'price':['$3','$4','$2','$1','$5','$5','$6']})"
   ]
  },
  {
   "cell_type": "code",
   "execution_count": null,
   "metadata": {},
   "outputs": [],
   "source": [
    "df_product_quantity=pd.DataFrame({'product':['potatoes','avocados','kiwis','onions','melons','broccoli','squash'],'quantity':['45','63','19','20','66','27','92']})"
   ]
  },
  {
   "cell_type": "code",
   "execution_count": null,
   "metadata": {},
   "outputs": [],
   "source": [
    "display(df_product_price)"
   ]
  },
  {
   "cell_type": "code",
   "execution_count": null,
   "metadata": {},
   "outputs": [],
   "source": [
    "display(df_product_quantity)"
   ]
  },
  {
   "cell_type": "code",
   "execution_count": null,
   "metadata": {},
   "outputs": [],
   "source": [
    "#merge - dataframe inner join (equivalent to SQL INNER JOIN)\n",
    "#SELECT * FROM zokitools.productprice INNER JOIN zokitools.productquantity ON zokitools.productprice.product = zokitools.productquantity.product;\n",
    "#SELECT * FROM zokitools.productprice a INNER JOIN zokitools.productquantity b ON a.product = b.product;"
   ]
  },
  {
   "cell_type": "code",
   "execution_count": null,
   "metadata": {},
   "outputs": [],
   "source": [
    "df_inner_join=pd.merge(df_product_price,df_product_quantity,how='inner',left_on='product',right_on='product')"
   ]
  },
  {
   "cell_type": "code",
   "execution_count": null,
   "metadata": {},
   "outputs": [],
   "source": [
    "display(df_inner_join)"
   ]
  },
  {
   "cell_type": "code",
   "execution_count": null,
   "metadata": {},
   "outputs": [],
   "source": [
    "df_inner_join2=pd.merge(df_product_price,df_product_quantity,how='inner',on='product')"
   ]
  },
  {
   "cell_type": "code",
   "execution_count": null,
   "metadata": {},
   "outputs": [],
   "source": [
    "display(df_inner_join2)"
   ]
  },
  {
   "cell_type": "code",
   "execution_count": null,
   "metadata": {},
   "outputs": [],
   "source": [
    "#merge - dataframe left join (equivalent to SQL \"LEFT OUTER JOIN\" also called \"LEFT JOIN\")\n",
    "#SELECT a.product,b.product,a.price,b.quantity FROM zokitools.productprice a LEFT OUTER JOIN zokitools.productquantity b ON a.product=b.product;\n",
    "#SELECT COALESCE(a.product,b.product) AS product,a.price,b.quantity FROM zokitools.productprice a LEFT OUTER JOIN zokitools.productquantity b ON a.product=b.product;"
   ]
  },
  {
   "cell_type": "code",
   "execution_count": null,
   "metadata": {},
   "outputs": [],
   "source": [
    "df_left_join=pd.merge(df_product_price,df_product_quantity,how='left',on='product')"
   ]
  },
  {
   "cell_type": "code",
   "execution_count": null,
   "metadata": {},
   "outputs": [],
   "source": [
    "display(df_left_join)"
   ]
  },
  {
   "cell_type": "code",
   "execution_count": null,
   "metadata": {},
   "outputs": [],
   "source": [
    "#merge - dataframe right join (equivalent to SQL \"RIGHT OUTER JOIN\" also called \"RIGHT JOIN\")\n",
    "#SELECT COALESCE(a.product,b.product) AS product,a.price,b.quantity FROM zokitools.productprice a RIGHT OUTER JOIN zokitools.productquantity b ON a.product=b.product;"
   ]
  },
  {
   "cell_type": "code",
   "execution_count": null,
   "metadata": {},
   "outputs": [],
   "source": [
    "df_right_join=pd.merge(df_product_price,df_product_quantity,how='right',on='product')"
   ]
  },
  {
   "cell_type": "code",
   "execution_count": null,
   "metadata": {},
   "outputs": [],
   "source": [
    "display(df_right_join)"
   ]
  },
  {
   "cell_type": "code",
   "execution_count": null,
   "metadata": {},
   "outputs": [],
   "source": [
    "#merge - dataframe outer join (equvalent to SQL FULL OUTER JOIN)\n",
    "#SELECT COALESCE(a.product,b.product) AS product,a.price,b.quantity FROM zokitools.productprice a FULL OUTER JOIN zokitools.productquantity b ON a.product=b.product;"
   ]
  },
  {
   "cell_type": "code",
   "execution_count": null,
   "metadata": {},
   "outputs": [],
   "source": [
    "df_outer_join=pd.merge(df_product_price,df_product_quantity,how='outer',on='product')"
   ]
  },
  {
   "cell_type": "code",
   "execution_count": null,
   "metadata": {},
   "outputs": [],
   "source": [
    "display(df_outer_join)"
   ]
  },
  {
   "cell_type": "raw",
   "metadata": {},
   "source": [
    "CREATE TABLE zokitools.productprice ( \n",
    "product varchar(40) UNIQUE, \n",
    "price numeric(2) \n",
    "); \n",
    "\n",
    "CREATE TABLE zokitools.productquantity ( \n",
    "product varchar(40) UNIQUE, \n",
    "quantity integer \n",
    "); \n",
    "\n",
    "INSERT INTO zokitools.productprice(product,price) VALUES ('potatoes','3'); \n",
    "INSERT INTO zokitools.productprice(product,price) VALUES ('avocados','4'); \n",
    "INSERT INTO zokitools.productprice(product,price) VALUES ('kiwis','2'); \n",
    "INSERT INTO zokitools.productprice(product,price) VALUES ('onions','1'); \n",
    "INSERT INTO zokitools.productprice(product,price) VALUES ('melons','5'); \n",
    "INSERT INTO zokitools.productprice(product,price) VALUES ('oranges','5'); \n",
    "INSERT INTO zokitools.productprice(product,price) VALUES ('tomatoes','6'); \n",
    "\n",
    "INSERT INTO zokitools.productquantity(product,quantity) VALUES ('potatoes','45'); \n",
    "INSERT INTO zokitools.productquantity(product,quantity) VALUES ('avocados','63'); \n",
    "INSERT INTO zokitools.productquantity(product,quantity) VALUES ('kiwis','19'); \n",
    "INSERT INTO zokitools.productquantity(product,quantity) VALUES ('onions','20'); \n",
    "INSERT INTO zokitools.productquantity(product,quantity) VALUES ('melons','66'); \n",
    "INSERT INTO zokitools.productquantity(product,quantity) VALUES ('broccoli','27'); \n",
    "INSERT INTO zokitools.productquantity(product,quantity) VALUES ('squash','92');"
   ]
  }
 ],
 "metadata": {
  "kernelspec": {
   "display_name": "Python 3",
   "language": "python",
   "name": "python3"
  },
  "language_info": {
   "codemirror_mode": {
    "name": "ipython",
    "version": 3
   },
   "file_extension": ".py",
   "mimetype": "text/x-python",
   "name": "python",
   "nbconvert_exporter": "python",
   "pygments_lexer": "ipython3",
   "version": "3.8.5"
  }
 },
 "nbformat": 4,
 "nbformat_minor": 4
}
