{
 "cells": [
  {
   "cell_type": "code",
   "execution_count": null,
   "id": "useful-cuisine",
   "metadata": {},
   "outputs": [],
   "source": [
    "#queue.Queue() is used to enable communitcaiton between two threads in the same process, to \n",
    "#keep track of tasks.\n",
    "#We'll do threads at some point.\n",
    "\n",
    "#queue.Queue() uses the collections.deque internaly to help implementation.\n",
    "\n",
    "#Again, they modified addint and removing items from the queue."
   ]
  },
  {
   "cell_type": "code",
   "execution_count": null,
   "id": "suffering-projector",
   "metadata": {},
   "outputs": [],
   "source": [
    "import queue"
   ]
  },
  {
   "cell_type": "code",
   "execution_count": null,
   "id": "vulnerable-charge",
   "metadata": {},
   "outputs": [],
   "source": [
    "tasks=queue.Queue()"
   ]
  },
  {
   "cell_type": "code",
   "execution_count": null,
   "id": "dominican-netscape",
   "metadata": {},
   "outputs": [],
   "source": [
    "tasks.put(1)\n",
    "tasks.put(2)\n",
    "tasks.put(3)\n",
    "tasks.put(4)\n",
    "tasks.put(5)\n",
    "tasks.put(6)\n",
    "tasks.put(7)\n",
    "tasks.put(8)"
   ]
  },
  {
   "cell_type": "code",
   "execution_count": null,
   "id": "structural-glucose",
   "metadata": {},
   "outputs": [],
   "source": [
    "print(type(tasks))\n",
    "print(tasks)"
   ]
  },
  {
   "cell_type": "code",
   "execution_count": null,
   "id": "based-theme",
   "metadata": {},
   "outputs": [],
   "source": [
    "#pop tasks from the front of the queue\n",
    "print(tasks.get())"
   ]
  },
  {
   "cell_type": "code",
   "execution_count": null,
   "id": "under-packet",
   "metadata": {},
   "outputs": [],
   "source": [
    "#and again\n",
    "print(tasks.get())"
   ]
  },
  {
   "cell_type": "code",
   "execution_count": null,
   "id": "former-grade",
   "metadata": {},
   "outputs": [],
   "source": [
    "#get the queue size\n",
    "print(tasks.qsize())"
   ]
  },
  {
   "cell_type": "code",
   "execution_count": null,
   "id": "given-copyright",
   "metadata": {},
   "outputs": [],
   "source": [
    "#ask if queue is empty\n",
    "print(tasks.empty())"
   ]
  },
  {
   "cell_type": "code",
   "execution_count": null,
   "id": "tribal-benefit",
   "metadata": {},
   "outputs": [],
   "source": [
    "#is it full\n",
    "print(tasks.full())"
   ]
  },
  {
   "cell_type": "code",
   "execution_count": null,
   "id": "instrumental-nirvana",
   "metadata": {},
   "outputs": [],
   "source": []
  }
 ],
 "metadata": {
  "kernelspec": {
   "display_name": "Python 3",
   "language": "python",
   "name": "python3"
  },
  "language_info": {
   "codemirror_mode": {
    "name": "ipython",
    "version": 3
   },
   "file_extension": ".py",
   "mimetype": "text/x-python",
   "name": "python",
   "nbconvert_exporter": "python",
   "pygments_lexer": "ipython3",
   "version": "3.8.5"
  }
 },
 "nbformat": 4,
 "nbformat_minor": 5
}
