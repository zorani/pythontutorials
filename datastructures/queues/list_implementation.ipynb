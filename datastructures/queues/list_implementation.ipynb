{
 "cells": [
  {
   "cell_type": "code",
   "execution_count": null,
   "id": "interracial-travel",
   "metadata": {},
   "outputs": [],
   "source": [
    "#Using a list data structure as a queue\n",
    "#What is a queue?\n",
    "#It is FIFO, first in first out."
   ]
  },
  {
   "cell_type": "code",
   "execution_count": null,
   "id": "third-giving",
   "metadata": {},
   "outputs": [],
   "source": [
    "#Initialise a queue (fancy way of saying create and empty list)"
   ]
  },
  {
   "cell_type": "code",
   "execution_count": null,
   "id": "neither-observer",
   "metadata": {},
   "outputs": [],
   "source": [
    "customer_queue=[]"
   ]
  },
  {
   "cell_type": "code",
   "execution_count": null,
   "id": "valued-chinese",
   "metadata": {},
   "outputs": [],
   "source": [
    "#Start adding items, in this case customers, to the queue.\n"
   ]
  },
  {
   "cell_type": "code",
   "execution_count": null,
   "id": "basic-seeker",
   "metadata": {},
   "outputs": [],
   "source": [
    "customer_queue.append(\"Annie Apple\")\n",
    "customer_queue.append(\"Barry Banana\")\n",
    "customer_queue.append(\"Cherry Cherry\")"
   ]
  },
  {
   "cell_type": "code",
   "execution_count": null,
   "id": "cubic-upper",
   "metadata": {},
   "outputs": [],
   "source": [
    "#You can check the length of the queue.\n",
    "#In this case it's the lenght of a list.\n",
    "length_queue=len(customer_queue)\n",
    "print(length_queue)"
   ]
  },
  {
   "cell_type": "code",
   "execution_count": null,
   "id": "immune-james",
   "metadata": {},
   "outputs": [],
   "source": [
    "#The FIFO magic, using the pop method which we know already.\n",
    "#Use pop(0), as in pop first element.\n",
    "next_customer=customer_queue.pop(0)\n",
    "print(next_customer)"
   ]
  },
  {
   "cell_type": "code",
   "execution_count": null,
   "id": "later-organic",
   "metadata": {},
   "outputs": [],
   "source": [
    "#Lets check the length of the queue\n",
    "length_queue=len(customer_queue)\n",
    "print(length_queue)"
   ]
  },
  {
   "cell_type": "code",
   "execution_count": null,
   "id": "fifty-configuration",
   "metadata": {},
   "outputs": [],
   "source": [
    "#Lets FIFO the next queued customer\n",
    "next_customer=customer_queue.pop(0)\n",
    "print(next_customer)"
   ]
  },
  {
   "cell_type": "code",
   "execution_count": null,
   "id": "greek-rental",
   "metadata": {},
   "outputs": [],
   "source": [
    "#You can add other customers to the list at any point.\n",
    "customer_queue.append(\"David Durean\")"
   ]
  },
  {
   "cell_type": "code",
   "execution_count": null,
   "id": "fresh-pointer",
   "metadata": {},
   "outputs": [],
   "source": [
    "#Lets keep FIFO-ing\n",
    "next_customer=customer_queue.pop(0)\n",
    "print(next_customer)"
   ]
  },
  {
   "cell_type": "code",
   "execution_count": null,
   "id": "hollywood-certification",
   "metadata": {},
   "outputs": [],
   "source": [
    "#... and again\n",
    "next_customer=customer_queue.pop(0)\n",
    "print(next_customer)"
   ]
  },
  {
   "cell_type": "code",
   "execution_count": null,
   "id": "sized-combat",
   "metadata": {},
   "outputs": [],
   "source": [
    "next_customer=customer_queue.pop(0)\n",
    "print(next_customer)"
   ]
  },
  {
   "cell_type": "code",
   "execution_count": null,
   "id": "dangerous-surveillance",
   "metadata": {},
   "outputs": [],
   "source": [
    "#whoops! an empty queue - rememeber\n",
    "#to wrap your code with if statements,  or\n",
    "#a catch clause if needed."
   ]
  },
  {
   "cell_type": "code",
   "execution_count": null,
   "id": "adapted-jesus",
   "metadata": {},
   "outputs": [],
   "source": [
    "if(len(customer_queue)==0):\n",
    "    print(\"No more customers\")\n",
    "else:\n",
    "    next_customer=customer_queue.pop(0)\n",
    "    print(next_customer)"
   ]
  },
  {
   "cell_type": "code",
   "execution_count": null,
   "id": "regulated-palestine",
   "metadata": {},
   "outputs": [],
   "source": [
    "def getCustomer():\n",
    "    if(len(customer_queue)==0):\n",
    "        print(\"No more customers\")\n",
    "    else:\n",
    "        next_customer=customer_queue.pop(0)\n",
    "        #print(next_customer)\n",
    "        return next_customer"
   ]
  },
  {
   "cell_type": "code",
   "execution_count": null,
   "id": "peaceful-cheat",
   "metadata": {},
   "outputs": [],
   "source": [
    "getCustomer()"
   ]
  },
  {
   "cell_type": "code",
   "execution_count": null,
   "id": "catholic-brook",
   "metadata": {},
   "outputs": [],
   "source": [
    "customer_queue.append(\"Edward Elderberry\")"
   ]
  },
  {
   "cell_type": "code",
   "execution_count": null,
   "id": "shared-violin",
   "metadata": {},
   "outputs": [],
   "source": [
    "mycustomer=getCustomer()\n",
    "print(mycustomer)"
   ]
  },
  {
   "cell_type": "code",
   "execution_count": null,
   "id": "collected-institution",
   "metadata": {},
   "outputs": [],
   "source": [
    "def getCustomerTE():\n",
    "    try:\n",
    "        next_customer=customer_queue.pop(0)\n",
    "        #print(next_customer)\n",
    "        return next_customer\n",
    "    except:\n",
    "        print(\"No more customers in queue (TE)\")"
   ]
  },
  {
   "cell_type": "code",
   "execution_count": null,
   "id": "running-empire",
   "metadata": {},
   "outputs": [],
   "source": [
    "customer_queue.append(\"Fred French-Fry\")\n",
    "customer_queue.append(\"Garry Ginger\")"
   ]
  },
  {
   "cell_type": "code",
   "execution_count": null,
   "id": "standing-breach",
   "metadata": {},
   "outputs": [],
   "source": [
    "mycustomer=getCustomer()"
   ]
  },
  {
   "cell_type": "code",
   "execution_count": null,
   "id": "settled-partition",
   "metadata": {},
   "outputs": [],
   "source": [
    "print(mycustomer)"
   ]
  },
  {
   "cell_type": "code",
   "execution_count": null,
   "id": "concrete-senior",
   "metadata": {},
   "outputs": [],
   "source": [
    "mycustomer=getCustomerTE()\n",
    "print(mycustomer)"
   ]
  },
  {
   "cell_type": "code",
   "execution_count": null,
   "id": "august-portal",
   "metadata": {},
   "outputs": [],
   "source": [
    "mycustomer=getCustomer()\n",
    "print(mycustomer)"
   ]
  },
  {
   "cell_type": "code",
   "execution_count": null,
   "id": "passing-footwear",
   "metadata": {},
   "outputs": [],
   "source": [
    "mycustomer=getCustomerTE()\n",
    "print(mycustomer)"
   ]
  },
  {
   "cell_type": "code",
   "execution_count": null,
   "id": "protected-linux",
   "metadata": {},
   "outputs": [],
   "source": [
    "def addCustomer(queue_list, customer_name):\n",
    "    queue_list.append(customer_name)"
   ]
  },
  {
   "cell_type": "code",
   "execution_count": null,
   "id": "intelligent-thong",
   "metadata": {},
   "outputs": [],
   "source": [
    "addCustomer(customer_queue,\"Henry Haricot\")\n",
    "addCustomer(customer_queue,\"Iris Iceburg-Lettuce\")"
   ]
  },
  {
   "cell_type": "code",
   "execution_count": null,
   "id": "creative-running",
   "metadata": {},
   "outputs": [],
   "source": [
    "#We've implemented a FIFO queue with get and add functions.\n",
    "#addCustomer()\n",
    "#getCustomer() / getCustomerTE()\n",
    "#Used a basic list datastructure.\n",
    "print(type(customer_queue))\n",
    "print(customer_queue)"
   ]
  },
  {
   "cell_type": "code",
   "execution_count": null,
   "id": "thermal-fraction",
   "metadata": {},
   "outputs": [],
   "source": [
    "#You can use a list to also create a LIFO, last in first out.\n",
    "#LIFO is a stack."
   ]
  }
 ],
 "metadata": {
  "kernelspec": {
   "display_name": "Python 3",
   "language": "python",
   "name": "python3"
  },
  "language_info": {
   "codemirror_mode": {
    "name": "ipython",
    "version": 3
   },
   "file_extension": ".py",
   "mimetype": "text/x-python",
   "name": "python",
   "nbconvert_exporter": "python",
   "pygments_lexer": "ipython3",
   "version": "3.8.5"
  }
 },
 "nbformat": 4,
 "nbformat_minor": 5
}
