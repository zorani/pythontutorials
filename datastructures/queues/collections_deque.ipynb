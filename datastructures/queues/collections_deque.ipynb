{
 "cells": [
  {
   "cell_type": "code",
   "execution_count": null,
   "id": "knowing-recommendation",
   "metadata": {},
   "outputs": [],
   "source": [
    "#Deque is a collections datastructure, just like all other collection datastructures it is \n",
    "#designed to hold your data.\n",
    "\n",
    "#If you want to hold DATA in a QUEUE then use this!\n",
    "\n",
    "#Deque is going to look a lot like our toy example, but it has extrafeatures.\n",
    "\n",
    "# LIKE, being THREADSAFE!!!"
   ]
  },
  {
   "cell_type": "code",
   "execution_count": null,
   "id": "endangered-native",
   "metadata": {},
   "outputs": [],
   "source": [
    "from collections import deque"
   ]
  },
  {
   "cell_type": "code",
   "execution_count": null,
   "id": "interpreted-college",
   "metadata": {},
   "outputs": [],
   "source": [
    "customer_queue=deque()"
   ]
  },
  {
   "cell_type": "code",
   "execution_count": null,
   "id": "computational-plenty",
   "metadata": {},
   "outputs": [],
   "source": [
    "customer_queue.append(\"Alice\")\n",
    "customer_queue.append(\"Bob\")\n",
    "customer_queue.append(\"GameStonk\")"
   ]
  },
  {
   "cell_type": "code",
   "execution_count": null,
   "id": "secondary-solomon",
   "metadata": {},
   "outputs": [],
   "source": [
    "print(type(customer_queue))\n",
    "print(customer_queue)"
   ]
  },
  {
   "cell_type": "code",
   "execution_count": null,
   "id": "careful-aggregate",
   "metadata": {},
   "outputs": [],
   "source": [
    "#Get the first customer\n",
    "customer=customer_queue.popleft()\n",
    "print(customer)"
   ]
  },
  {
   "cell_type": "code",
   "execution_count": null,
   "id": "female-possible",
   "metadata": {},
   "outputs": [],
   "source": [
    "#Get next customer\n",
    "customer=customer_queue.popleft()\n",
    "print(customer)"
   ]
  },
  {
   "cell_type": "code",
   "execution_count": null,
   "id": "respected-occurrence",
   "metadata": {},
   "outputs": [],
   "source": [
    "customer=customer_queue.popleft()\n",
    "print(customer)"
   ]
  },
  {
   "cell_type": "code",
   "execution_count": null,
   "id": "demonstrated-image",
   "metadata": {},
   "outputs": [],
   "source": [
    "customer=customer_queue.popleft()\n",
    "print(customer)"
   ]
  },
  {
   "cell_type": "code",
   "execution_count": null,
   "id": "norman-jerusalem",
   "metadata": {},
   "outputs": [],
   "source": [
    "#Whoooooops.... please see list_implementation for hadling errors..."
   ]
  },
  {
   "cell_type": "code",
   "execution_count": null,
   "id": "liable-newman",
   "metadata": {},
   "outputs": [],
   "source": [
    "#You can create a queue from any itterable object.\n",
    "#List\n",
    "#String   \"hello\"='h','e','l','l','o'"
   ]
  },
  {
   "cell_type": "code",
   "execution_count": null,
   "id": "environmental-eating",
   "metadata": {},
   "outputs": [],
   "source": [
    "d_1 = deque(\"hello there\")\n",
    "print(d_1)"
   ]
  },
  {
   "cell_type": "code",
   "execution_count": null,
   "id": "addressed-rainbow",
   "metadata": {},
   "outputs": [],
   "source": [
    "d_2 = deque([\"item1\",\"item2\",\"item3\"])\n",
    "print(d_2)"
   ]
  },
  {
   "cell_type": "code",
   "execution_count": null,
   "id": "bearing-benjamin",
   "metadata": {},
   "outputs": [],
   "source": [
    "my_tuple=(1,2,3,4)\n",
    "print(type(my_tuple))\n",
    "d_3 = deque(my_tuple)\n",
    "print(d_3)"
   ]
  },
  {
   "cell_type": "code",
   "execution_count": null,
   "id": "parallel-buddy",
   "metadata": {},
   "outputs": [],
   "source": [
    "#Pop from the front of the queue, popleft.\n",
    "stuff=d_3.popleft()\n",
    "print(stuff)\n",
    "#Pop from the back of the queue, pop.\n",
    "morestuff=d_3.pop()\n",
    "print(morestuff)"
   ]
  },
  {
   "cell_type": "code",
   "execution_count": null,
   "id": "developing-zoning",
   "metadata": {},
   "outputs": [],
   "source": [
    "print(d_3)"
   ]
  },
  {
   "cell_type": "code",
   "execution_count": null,
   "id": "muslim-stretch",
   "metadata": {},
   "outputs": [],
   "source": [
    "#insert items in a queue\n",
    "d_3.insert(1,'A')\n",
    "print(d_3)"
   ]
  },
  {
   "cell_type": "code",
   "execution_count": null,
   "id": "falling-appliance",
   "metadata": {},
   "outputs": [],
   "source": [
    "d_3.insert(0,'B')\n",
    "print(d_3)"
   ]
  },
  {
   "cell_type": "code",
   "execution_count": null,
   "id": "technical-mortality",
   "metadata": {},
   "outputs": [],
   "source": [
    "#Where is something in the queue?\n",
    "index=d_3.index('A')\n",
    "print(index)"
   ]
  },
  {
   "cell_type": "code",
   "execution_count": null,
   "id": "heard-replica",
   "metadata": {},
   "outputs": [],
   "source": [
    "#You can also reverse a queue?\n",
    "d_3.reverse()\n",
    "print(d_3)"
   ]
  },
  {
   "cell_type": "code",
   "execution_count": null,
   "id": "premium-requirement",
   "metadata": {},
   "outputs": [],
   "source": [
    "#You can also rotate a queue\n",
    "d_3.rotate(2)\n",
    "print(d_3)"
   ]
  },
  {
   "cell_type": "code",
   "execution_count": null,
   "id": "threatened-strand",
   "metadata": {},
   "outputs": [],
   "source": [
    "#You can rotate it back\n",
    "d_3.rotate(-2)\n",
    "print(d_3)"
   ]
  },
  {
   "cell_type": "code",
   "execution_count": null,
   "id": "chemical-brick",
   "metadata": {},
   "outputs": [],
   "source": [
    "#Add multiple items to the back of the queue\n",
    "d_3.extend(['A','A','B','B'])\n",
    "print(d_3)"
   ]
  },
  {
   "cell_type": "code",
   "execution_count": null,
   "id": "stopped-straight",
   "metadata": {},
   "outputs": [],
   "source": [
    "#Count how many items are in a queue. Lets check 'A'\n",
    "print(d_3.count('A'))"
   ]
  },
  {
   "cell_type": "code",
   "execution_count": null,
   "id": "daily-crowd",
   "metadata": {},
   "outputs": [],
   "source": [
    "#Remove the first element that matches\n",
    "d_3.remove('A')\n",
    "print(d_3)"
   ]
  },
  {
   "cell_type": "code",
   "execution_count": null,
   "id": "bronze-questionnaire",
   "metadata": {},
   "outputs": [],
   "source": [
    "d_3.remove('A')\n",
    "print(d_3)"
   ]
  },
  {
   "cell_type": "code",
   "execution_count": null,
   "id": "viral-healing",
   "metadata": {},
   "outputs": [],
   "source": [
    "d_3.remove('A')\n",
    "print(d_3)"
   ]
  },
  {
   "cell_type": "code",
   "execution_count": null,
   "id": "expressed-malpractice",
   "metadata": {},
   "outputs": [],
   "source": [
    "d_3.remove('A')\n",
    "print(d_3)"
   ]
  },
  {
   "cell_type": "code",
   "execution_count": null,
   "id": "extreme-closing",
   "metadata": {},
   "outputs": [],
   "source": [
    "#Make a shallow copy\n",
    "d_3_3 = d_3.copy()\n",
    "print(d_3_3)"
   ]
  },
  {
   "cell_type": "code",
   "execution_count": null,
   "id": "imposed-david",
   "metadata": {},
   "outputs": [],
   "source": [
    "d_3_3.clear()\n",
    "print(d_3_3)\n",
    "print(d_3)"
   ]
  },
  {
   "cell_type": "code",
   "execution_count": null,
   "id": "liquid-september",
   "metadata": {},
   "outputs": [],
   "source": [
    "#You can have bound quueues\n",
    "print(d_3.maxlen)"
   ]
  },
  {
   "cell_type": "code",
   "execution_count": null,
   "id": "planned-aspect",
   "metadata": {},
   "outputs": [],
   "source": [
    "#None means as many as you like"
   ]
  },
  {
   "cell_type": "code",
   "execution_count": null,
   "id": "worthy-telephone",
   "metadata": {},
   "outputs": [],
   "source": [
    "#You can create a queue with an upper limit.\n",
    "d_4=deque(\"help me\",maxlen=8)\n",
    "print(d_4)"
   ]
  },
  {
   "cell_type": "code",
   "execution_count": null,
   "id": "chemical-impossible",
   "metadata": {},
   "outputs": [],
   "source": [
    "print(d_4.maxlen)"
   ]
  },
  {
   "cell_type": "code",
   "execution_count": null,
   "id": "purple-round",
   "metadata": {},
   "outputs": [],
   "source": [
    "d_4.append('h')\n",
    "print(d_4)\n"
   ]
  },
  {
   "cell_type": "code",
   "execution_count": null,
   "id": "presidential-packaging",
   "metadata": {},
   "outputs": [],
   "source": [
    "d_4.append('h')\n",
    "print(d_4)"
   ]
  },
  {
   "cell_type": "code",
   "execution_count": null,
   "id": "regular-office",
   "metadata": {},
   "outputs": [],
   "source": [
    "d_4.append('h')\n",
    "print(d_4)"
   ]
  },
  {
   "cell_type": "code",
   "execution_count": null,
   "id": "liked-heating",
   "metadata": {},
   "outputs": [],
   "source": [
    "print(d_4)"
   ]
  },
  {
   "cell_type": "code",
   "execution_count": null,
   "id": "incorrect-guarantee",
   "metadata": {},
   "outputs": [],
   "source": [
    "#If you have a max len, as you add items to the back\n",
    "#items in the front queue drop of silently.\n",
    "#DANGEROUS"
   ]
  }
 ],
 "metadata": {
  "kernelspec": {
   "display_name": "Python 3",
   "language": "python",
   "name": "python3"
  },
  "language_info": {
   "codemirror_mode": {
    "name": "ipython",
    "version": 3
   },
   "file_extension": ".py",
   "mimetype": "text/x-python",
   "name": "python",
   "nbconvert_exporter": "python",
   "pygments_lexer": "ipython3",
   "version": "3.8.5"
  }
 },
 "nbformat": 4,
 "nbformat_minor": 5
}
