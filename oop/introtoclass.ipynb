{
 "cells": [
  {
   "cell_type": "code",
   "execution_count": null,
   "id": "czech-florist",
   "metadata": {},
   "outputs": [],
   "source": [
    "#Introduction to class and objects"
   ]
  },
  {
   "cell_type": "code",
   "execution_count": null,
   "id": "included-driver",
   "metadata": {},
   "outputs": [],
   "source": [
    "#Create you first class"
   ]
  },
  {
   "cell_type": "code",
   "execution_count": null,
   "id": "characteristic-disorder",
   "metadata": {},
   "outputs": [],
   "source": [
    "class MyFirstClass:\n",
    "    pass"
   ]
  },
  {
   "cell_type": "code",
   "execution_count": null,
   "id": "second-confidentiality",
   "metadata": {},
   "outputs": [],
   "source": [
    "banana=MyFirstClass()\n",
    "print(type(banana))"
   ]
  },
  {
   "cell_type": "code",
   "execution_count": null,
   "id": "reflected-addiction",
   "metadata": {},
   "outputs": [],
   "source": [
    "class Person:\n",
    "    \n",
    "    #class variables, notice no 'self', class variables are the same\n",
    "    #across all objects.\n",
    "    numberoflegs=2\n",
    "    numberofarms=2\n",
    "    numberofeyes=2\n",
    "    \n",
    "    #class constructor method.\n",
    "    #special method that runs when you create a new object.\n",
    "    #it initiates an objects variables, which is why it is called __init__\n",
    "    #special methods in python are surounded by __ __\n",
    "    \n",
    "    def __init__(self,fname,sname):\n",
    "        self.firstname=fname\n",
    "        self.secondname=sname\n",
    "        \n",
    "    #notice, class methods, unlike script functions, have the first argument\n",
    "    #as self This is because the method operates on the self, the on , they you\n",
    "    #the object...\n",
    "    \n",
    "    #You can define your own methods for you object.\n",
    "    \n",
    "    def saysomething(self,age):\n",
    "        print(f\"Hello! My name is {self.firstname} {self.secondname} and I have {Person.numberofeyes} eyes and am {age} years old.\")\n",
    "        \n",
    "    #You can see that you can reference variables that are personal information\n",
    "    #to the person/object using self.firstname\n",
    "    \n",
    "    #But to access the properties of the object you created you can use,\n",
    "    #Person.numberofeyes\n",
    "    "
   ]
  },
  {
   "cell_type": "code",
   "execution_count": null,
   "id": "earlier-maple",
   "metadata": {},
   "outputs": [],
   "source": [
    "Person1=Person(\"Anna\",\"Anchovie\")"
   ]
  },
  {
   "cell_type": "code",
   "execution_count": null,
   "id": "traditional-cologne",
   "metadata": {},
   "outputs": [],
   "source": [
    "Person1.saysomething(35)"
   ]
  },
  {
   "cell_type": "code",
   "execution_count": null,
   "id": "removable-construction",
   "metadata": {},
   "outputs": [],
   "source": [
    "person2=Person(\"Barry\",\"Banana\")"
   ]
  },
  {
   "cell_type": "code",
   "execution_count": null,
   "id": "closing-bosnia",
   "metadata": {},
   "outputs": [],
   "source": [
    "person2.saysomething(45)"
   ]
  },
  {
   "cell_type": "code",
   "execution_count": null,
   "id": "ready-chuck",
   "metadata": {},
   "outputs": [],
   "source": [
    "id(person1)"
   ]
  },
  {
   "cell_type": "code",
   "execution_count": null,
   "id": "normal-population",
   "metadata": {},
   "outputs": [],
   "source": [
    "id(person2)"
   ]
  },
  {
   "cell_type": "code",
   "execution_count": null,
   "id": "tender-magnet",
   "metadata": {},
   "outputs": [],
   "source": []
  }
 ],
 "metadata": {
  "kernelspec": {
   "display_name": "Python 3",
   "language": "python",
   "name": "python3"
  },
  "language_info": {
   "codemirror_mode": {
    "name": "ipython",
    "version": 3
   },
   "file_extension": ".py",
   "mimetype": "text/x-python",
   "name": "python",
   "nbconvert_exporter": "python",
   "pygments_lexer": "ipython3",
   "version": "3.8.5"
  }
 },
 "nbformat": 4,
 "nbformat_minor": 5
}
