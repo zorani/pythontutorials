{
 "cells": [
  {
   "cell_type": "code",
   "execution_count": null,
   "id": "loaded-despite",
   "metadata": {},
   "outputs": [],
   "source": [
    "#Build a linked list"
   ]
  },
  {
   "cell_type": "code",
   "execution_count": null,
   "id": "manufactured-study",
   "metadata": {},
   "outputs": [],
   "source": [
    "class node:\n",
    "    def __init__(self,value):\n",
    "        self.value=value\n",
    "        self.nextnode=None"
   ]
  },
  {
   "cell_type": "code",
   "execution_count": null,
   "id": "three-industry",
   "metadata": {},
   "outputs": [],
   "source": [
    "class linkedlist:\n",
    "    \n",
    "    def __init__(self):\n",
    "        self.startnode=None\n",
    "        self.endnode=None\n",
    "        self.length=0\n",
    "\n",
    "    def append(self,newnode):\n",
    "        if(self.startnode==None):\n",
    "            self.startnode=newnode\n",
    "            self.endnode=newnode\n",
    "        else:\n",
    "            self.endnode.nextnode=newnode\n",
    "            self.endnode=newnode\n",
    "        self.length=self.length+1\n",
    "    \n",
    "    def traverse(self):\n",
    "        currentnode=self.startnode\n",
    "        print(currentnode.value)\n",
    "        \n",
    "        while True:\n",
    "            currentnode=currentnode.nextnode\n",
    "            print(currentnode.value)\n",
    "            if (currentnode.nextnode==None):\n",
    "                break\n",
    "    \n",
    "    def remove(self,index):\n",
    "        if(index >= self.length):\n",
    "            raise Exception(\"Index out of bounds... loser.\")\n",
    "        currentnode=self.startnode\n",
    "        nodebefore=None\n",
    "        nodeafter=currentnode.nextnode\n",
    "        for x in range(0,index):\n",
    "            nodebefore=currentnode\n",
    "            currentnode=nodebefore.nextnode\n",
    "            if (nodeafter!=None):\n",
    "                #You are still in the middle of your list\n",
    "                nodeafter=currentnode.nextnode\n",
    "            else:\n",
    "                #You are at the end of your list.\n",
    "                nodeafter=None\n",
    "        nodebefore.nextnode=nodeafter\n",
    "        del(nodebefore)\n",
    "        self.length=self.length-1\n",
    "        \n",
    "    def insert(self, newnode):\n",
    "        pass\n",
    "        "
   ]
  },
  {
   "cell_type": "code",
   "execution_count": null,
   "id": "parallel-crazy",
   "metadata": {},
   "outputs": [],
   "source": [
    "mylinkedlist=linkedlist()"
   ]
  },
  {
   "cell_type": "code",
   "execution_count": null,
   "id": "technological-mistake",
   "metadata": {},
   "outputs": [],
   "source": [
    "type(mylinkedlist)"
   ]
  },
  {
   "cell_type": "code",
   "execution_count": null,
   "id": "spoken-spanking",
   "metadata": {},
   "outputs": [],
   "source": [
    "mylinkedlist.append(node('H'))"
   ]
  },
  {
   "cell_type": "code",
   "execution_count": null,
   "id": "suburban-drilling",
   "metadata": {},
   "outputs": [],
   "source": [
    "mylinkedlist.append(node('e'))"
   ]
  },
  {
   "cell_type": "code",
   "execution_count": null,
   "id": "wired-citation",
   "metadata": {},
   "outputs": [],
   "source": [
    "mylinkedlist.traverse()"
   ]
  },
  {
   "cell_type": "code",
   "execution_count": null,
   "id": "physical-situation",
   "metadata": {},
   "outputs": [],
   "source": [
    "mylinkedlist.append(node('l'))\n",
    "mylinkedlist.append(node('l'))\n",
    "mylinkedlist.append(node('o'))\n",
    "mylinkedlist.append(node(' '))\n",
    "mylinkedlist.append(node('w'))\n",
    "mylinkedlist.append(node('o'))\n",
    "mylinkedlist.append(node('r'))\n",
    "mylinkedlist.append(node('l'))\n",
    "mylinkedlist.append(node('d'))"
   ]
  },
  {
   "cell_type": "code",
   "execution_count": null,
   "id": "surface-costume",
   "metadata": {},
   "outputs": [],
   "source": [
    "mylinkedlist.traverse()"
   ]
  },
  {
   "cell_type": "code",
   "execution_count": null,
   "id": "leading-nickname",
   "metadata": {},
   "outputs": [],
   "source": [
    "mylinkedlist.remove(4)\n",
    "mylinkedlist.traverse()"
   ]
  },
  {
   "cell_type": "code",
   "execution_count": null,
   "id": "tough-closing",
   "metadata": {},
   "outputs": [],
   "source": [
    "mylinkedlist.remove(10)\n",
    "mylinkedlist.traverse()"
   ]
  },
  {
   "cell_type": "code",
   "execution_count": null,
   "id": "chicken-boston",
   "metadata": {},
   "outputs": [],
   "source": []
  }
 ],
 "metadata": {
  "kernelspec": {
   "display_name": "Python 3",
   "language": "python",
   "name": "python3"
  },
  "language_info": {
   "codemirror_mode": {
    "name": "ipython",
    "version": 3
   },
   "file_extension": ".py",
   "mimetype": "text/x-python",
   "name": "python",
   "nbconvert_exporter": "python",
   "pygments_lexer": "ipython3",
   "version": "3.8.5"
  }
 },
 "nbformat": 4,
 "nbformat_minor": 5
}
