{
 "cells": [
  {
   "cell_type": "code",
   "execution_count": null,
   "id": "alike-recipient",
   "metadata": {},
   "outputs": [],
   "source": [
    "#Build a linked list"
   ]
  },
  {
   "cell_type": "code",
   "execution_count": null,
   "id": "legitimate-throat",
   "metadata": {},
   "outputs": [],
   "source": [
    "class node:\n",
    "    def __init__(self,value):\n",
    "        self.value=value\n",
    "        self.nextnode=None"
   ]
  },
  {
   "cell_type": "code",
   "execution_count": null,
   "id": "representative-rendering",
   "metadata": {},
   "outputs": [],
   "source": [
    "class linkedlist:\n",
    "    \n",
    "    def __init__(self):\n",
    "        self.startnode=None\n",
    "        self.endnode=None\n",
    "\n",
    "    def append(self,newnode):\n",
    "        if(self.startnode==None):\n",
    "            self.startnode=newnode\n",
    "            self.endnode=newnode\n",
    "        else:\n",
    "            self.endnode.nextnode=newnode\n",
    "            self.endnode=newnode\n",
    "    \n",
    "    def traverse(self):\n",
    "        currentnode=self.startnode\n",
    "        print(currentnode.value)\n",
    "        \n",
    "        while True:\n",
    "            currentnode=currentnode.nextnode\n",
    "            print(currentnode.value)\n",
    "            if (currentnode.nextnode==None):\n",
    "                break\n",
    "    \n",
    "\n",
    "    \n",
    "    def remove(self):\n",
    "        pass"
   ]
  },
  {
   "cell_type": "code",
   "execution_count": null,
   "id": "bibliographic-hygiene",
   "metadata": {},
   "outputs": [],
   "source": [
    "mylinkedlist=linkedlist()"
   ]
  },
  {
   "cell_type": "code",
   "execution_count": null,
   "id": "short-shooting",
   "metadata": {},
   "outputs": [],
   "source": [
    "type(mylinkedlist)"
   ]
  },
  {
   "cell_type": "code",
   "execution_count": null,
   "id": "loose-disease",
   "metadata": {},
   "outputs": [],
   "source": [
    "mylinkedlist.append(node('H'))"
   ]
  },
  {
   "cell_type": "code",
   "execution_count": null,
   "id": "subject-joshua",
   "metadata": {},
   "outputs": [],
   "source": [
    "mylinkedlist.append(node('e'))"
   ]
  },
  {
   "cell_type": "code",
   "execution_count": null,
   "id": "limiting-layer",
   "metadata": {},
   "outputs": [],
   "source": [
    "mylinkedlist.traverse()"
   ]
  },
  {
   "cell_type": "code",
   "execution_count": null,
   "id": "irish-lightweight",
   "metadata": {},
   "outputs": [],
   "source": [
    "mylinkedlist.append(node('l'))\n",
    "mylinkedlist.append(node('l'))\n",
    "mylinkedlist.append(node('o'))\n",
    "mylinkedlist.append(node(' '))\n",
    "mylinkedlist.append(node('w'))\n",
    "mylinkedlist.append(node('o'))\n",
    "mylinkedlist.append(node('r'))\n",
    "mylinkedlist.append(node('l'))\n",
    "mylinkedlist.append(node('d'))"
   ]
  },
  {
   "cell_type": "code",
   "execution_count": null,
   "id": "extraordinary-seeking",
   "metadata": {},
   "outputs": [],
   "source": [
    "mylinkedlist.traverse()"
   ]
  },
  {
   "cell_type": "code",
   "execution_count": null,
   "id": "amended-donna",
   "metadata": {},
   "outputs": [],
   "source": []
  }
 ],
 "metadata": {
  "kernelspec": {
   "display_name": "Python 3",
   "language": "python",
   "name": "python3"
  },
  "language_info": {
   "codemirror_mode": {
    "name": "ipython",
    "version": 3
   },
   "file_extension": ".py",
   "mimetype": "text/x-python",
   "name": "python",
   "nbconvert_exporter": "python",
   "pygments_lexer": "ipython3",
   "version": "3.8.5"
  }
 },
 "nbformat": 4,
 "nbformat_minor": 5
}
