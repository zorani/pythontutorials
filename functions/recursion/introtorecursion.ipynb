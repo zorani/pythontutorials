{
 "cells": [
  {
   "cell_type": "code",
   "execution_count": null,
   "metadata": {},
   "outputs": [],
   "source": [
    "#Intro to recursion"
   ]
  },
  {
   "cell_type": "code",
   "execution_count": null,
   "metadata": {},
   "outputs": [],
   "source": [
    "def myfunc(x):\n",
    "    myfunc(x)"
   ]
  },
  {
   "cell_type": "code",
   "execution_count": null,
   "metadata": {},
   "outputs": [],
   "source": [
    "#myfunc(10)"
   ]
  },
  {
   "cell_type": "code",
   "execution_count": null,
   "metadata": {},
   "outputs": [],
   "source": [
    "def myfunc2(x):\n",
    "    #continue condition\n",
    "    if (x>0):\n",
    "        #continue check has passed.\n",
    "        #safe to recurse\n",
    "        myfunc2(x-1)\n",
    "        print(x)\n",
    "    else:\n",
    "        #exit condition has been reached.\n",
    "        #exit condition is x=0\n",
    "        print(\"exit condition met\")"
   ]
  },
  {
   "cell_type": "code",
   "execution_count": null,
   "metadata": {},
   "outputs": [],
   "source": [
    "myfunc2(5)"
   ]
  },
  {
   "cell_type": "code",
   "execution_count": null,
   "metadata": {},
   "outputs": [],
   "source": [
    "def myfunc3(x,execution_step):\n",
    "    execution_step+=1\n",
    "    #continue condition\n",
    "    if (x>0):\n",
    "        #continue check has passed.\n",
    "        #safe to recurse\n",
    "        myfunc3(x-1,execution_step)\n",
    "        print(f\"Execution Step: {execution_step}, x={x}\")\n",
    "    else:\n",
    "        #exit condition has been reached.\n",
    "        #exit condition is x=0\n",
    "        print(f\"Execution Step: {execution_step}, exit condition met\")"
   ]
  },
  {
   "cell_type": "code",
   "execution_count": null,
   "metadata": {},
   "outputs": [],
   "source": [
    "myfunc3(5,0)"
   ]
  },
  {
   "cell_type": "code",
   "execution_count": null,
   "metadata": {},
   "outputs": [],
   "source": [
    "myfunc2(1)"
   ]
  },
  {
   "cell_type": "code",
   "execution_count": null,
   "metadata": {},
   "outputs": [],
   "source": [
    "#DONT RUN THIS CODE\n",
    "def myfunc4(x):\n",
    "    #continue condition\n",
    "    if (x>0):\n",
    "        #continue check has passed.\n",
    "        #safe to recurse\n",
    "            #continue condition\n",
    "        next_x=x-1\n",
    "        if (next_x>0):\n",
    "            #continue check has passed.\n",
    "            #safe to recurse\n",
    "            #myfunc4(x-1)\n",
    "            print(next_x)\n",
    "        else:\n",
    "            #exit condition has been reached.\n",
    "            #exit condition is x=0\n",
    "            print(\"exit condition met\")\n",
    "        print(x)\n",
    "    else:\n",
    "        #exit condition has been reached.\n",
    "        #exit condition is x=0\n",
    "        print(\"exit condition met\")"
   ]
  }
 ],
 "metadata": {
  "kernelspec": {
   "display_name": "Python 3",
   "language": "python",
   "name": "python3"
  },
  "language_info": {
   "codemirror_mode": {
    "name": "ipython",
    "version": 3
   },
   "file_extension": ".py",
   "mimetype": "text/x-python",
   "name": "python",
   "nbconvert_exporter": "python",
   "pygments_lexer": "ipython3",
   "version": "3.8.5"
  }
 },
 "nbformat": 4,
 "nbformat_minor": 4
}
