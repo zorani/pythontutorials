{
 "cells": [
  {
   "cell_type": "code",
   "execution_count": null,
   "metadata": {},
   "outputs": [],
   "source": [
    "#Calulating factorials"
   ]
  },
  {
   "cell_type": "code",
   "execution_count": null,
   "metadata": {},
   "outputs": [],
   "source": [
    "#5! = 5 * 4 * 3 * 2 * 1\n",
    "# But, it is also = 1 * 2 * 3 * 4 * 5\n",
    "# You could use loop"
   ]
  },
  {
   "cell_type": "code",
   "execution_count": null,
   "metadata": {},
   "outputs": [],
   "source": [
    "# USING LOOPS\n",
    "def factorial_loop(x):\n",
    "    factorial=1\n",
    "    for i in range(1,x+1):\n",
    "        factorial=factorial*i\n",
    "        print(f\"i={i}, factorial={factorial}\")"
   ]
  },
  {
   "cell_type": "code",
   "execution_count": null,
   "metadata": {},
   "outputs": [],
   "source": [
    "factorial_loop(5)"
   ]
  },
  {
   "cell_type": "code",
   "execution_count": null,
   "metadata": {},
   "outputs": [],
   "source": [
    "# USING RECURSIONS\n",
    "def factorial_rec(x):\n",
    "    if x==1:\n",
    "        print(x)\n",
    "        return 1\n",
    "    else:\n",
    "        value=x*factorial_rec(x-1)\n",
    "        print(value)\n",
    "        return(value)"
   ]
  },
  {
   "cell_type": "code",
   "execution_count": null,
   "metadata": {},
   "outputs": [],
   "source": [
    "factorial_rec(5)"
   ]
  },
  {
   "cell_type": "code",
   "execution_count": null,
   "metadata": {},
   "outputs": [],
   "source": [
    "# USING RECURSIONS\n",
    "def factorial_rec2(x,recursion_step):\n",
    "    recursion_step+=1\n",
    "    if x==1:\n",
    "        print(f\"A-Recursion Step {recursion_step},x={x}, factorial value = {x}\")\n",
    "        return 1\n",
    "    else:\n",
    "        value=x*factorial_rec2(x-1,recursion_step)\n",
    "        print(f\"B-Recursion Step {recursion_step},x={x}, factorial value = {value}\")\n",
    "        return(value)"
   ]
  },
  {
   "cell_type": "code",
   "execution_count": null,
   "metadata": {},
   "outputs": [],
   "source": [
    "factorial_rec2(5,0)"
   ]
  },
  {
   "cell_type": "code",
   "execution_count": null,
   "metadata": {},
   "outputs": [],
   "source": []
  }
 ],
 "metadata": {
  "kernelspec": {
   "display_name": "Python 3",
   "language": "python",
   "name": "python3"
  },
  "language_info": {
   "codemirror_mode": {
    "name": "ipython",
    "version": 3
   },
   "file_extension": ".py",
   "mimetype": "text/x-python",
   "name": "python",
   "nbconvert_exporter": "python",
   "pygments_lexer": "ipython3",
   "version": "3.8.5"
  }
 },
 "nbformat": 4,
 "nbformat_minor": 4
}
