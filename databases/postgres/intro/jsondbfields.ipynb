{
 "cells": [
  {
   "cell_type": "code",
   "execution_count": null,
   "metadata": {},
   "outputs": [],
   "source": [
    "#Working with JSON fields"
   ]
  },
  {
   "cell_type": "code",
   "execution_count": null,
   "metadata": {},
   "outputs": [],
   "source": [
    "#import libs (or think of this as downloading python 'Apps')\n",
    "import psycopg2\n",
    "from jettings import Jettings\n",
    "import os"
   ]
  },
  {
   "cell_type": "code",
   "execution_count": null,
   "metadata": {},
   "outputs": [],
   "source": [
    "#Get database credentials\n",
    "password_file=\"~/database.secrets\"\n",
    "\n",
    "password_file=os.path.expanduser(password_file)\n",
    "password_file=os.path.abspath(password_file)\n",
    "\n",
    "if(not os.path.exists(password_file)):\n",
    "    print(\"File doesn't exist!\")\n",
    "    my_settings=Jettings(password_file)\n",
    "    my_settings.sets(['tutorial','db_host'],\"*****\")\n",
    "    my_settings.sets(['tutorial','db_username'],\"*****\")\n",
    "    my_settings.sets(['tutorial','db_password'],\"*****\")\n",
    "    my_settings.sets(['tutorial','db_name'],\"*****\")\n",
    "    my_settings.sets(['tutorial','db_schema'],\"*****\")\n",
    "    my_settings.sets(['tutorial','editlock'],\"*****\")\n",
    "else:\n",
    "    my_settings=Jettings(password_file)\n",
    "    print(\"File exists!\")\n",
    "    edit_lock=my_settings.exists(['tutorial','editlock'])\n",
    "    if(edit_lock):\n",
    "        message=\"Please add connection details to file: \"+str(password_file)+\"\\nand delete the edit lock.\"\n",
    "        print(message)\n",
    "    else:\n",
    "        db_host=my_settings.gets(['tutorial','db_host'])\n",
    "        db_username=my_settings.gets(['tutorial','db_username'])\n",
    "        db_password=my_settings.gets(['tutorial','db_password'])\n",
    "        db_name=my_settings.gets(['tutorial','db_name'])\n",
    "        db_schema=my_settings.gets(['tutorial','db_schema'])\n",
    "        print(\"Connection credentials retrieved!\")"
   ]
  },
  {
   "cell_type": "code",
   "execution_count": null,
   "metadata": {},
   "outputs": [],
   "source": [
    "#Get connection to your database (or think of this as loging in to your DB)\n",
    "conn = None\n",
    "try:\n",
    "    conn=psycopg2.connect(host=db_host,\n",
    "                          user=db_username,\n",
    "                          password=db_password,\n",
    "                          database=db_name)\n",
    "    print(\"Connecting to the database...\")\n",
    "    conn.autocommit = True\n",
    "except (Exception, psycopg2.DatabaseError) as banana:\n",
    "    print(banana)"
   ]
  },
  {
   "cell_type": "code",
   "execution_count": null,
   "metadata": {},
   "outputs": [],
   "source": [
    "#Target schema and new table\n",
    "existing_schema=\"zokitools\"\n",
    "new_table=\"orders\""
   ]
  },
  {
   "cell_type": "code",
   "execution_count": null,
   "metadata": {},
   "outputs": [],
   "source": [
    "#Create a new table, with a JSON field.\n",
    "#Create sql statement with f-strings.\n",
    "create_table=f'''\n",
    "CREATE TABLE IF NOT EXISTS {existing_schema}.{new_table}(\n",
    "id SERIAL NOT NULL PRIMARY KEY,\n",
    "info json NOT NULL\n",
    ")\n",
    "'''\n",
    "print(create_table)"
   ]
  },
  {
   "cell_type": "code",
   "execution_count": null,
   "metadata": {},
   "outputs": [],
   "source": [
    "#Ask the connection for a cursor, then ask the cursor to run your sql statement.\n",
    "cur=conn.cursor()\n",
    "cur.execute(create_table)"
   ]
  },
  {
   "cell_type": "code",
   "execution_count": null,
   "metadata": {},
   "outputs": [],
   "source": [
    "######  INSERTING JSON DATA ########\n",
    "####################################"
   ]
  },
  {
   "cell_type": "code",
   "execution_count": null,
   "metadata": {},
   "outputs": [],
   "source": [
    "#Create a query with variables.\n",
    "field_tuple_string='(info)'\n",
    "json_string='{\"customer\":\"John Doe\",\"items\":{\"product\":\"Beer\",\"qty\":6}}'\n",
    "#Create insert query using f-strings and the variables above...\n",
    "insert_sql=f'''\n",
    "INSERT INTO {existing_schema}.{new_table} {field_tuple_string} VALUES ('{json_string}')\n",
    "'''\n",
    "print(insert_sql)"
   ]
  },
  {
   "cell_type": "code",
   "execution_count": null,
   "metadata": {},
   "outputs": [],
   "source": [
    "cur.execute(insert_sql)"
   ]
  },
  {
   "cell_type": "code",
   "execution_count": null,
   "metadata": {},
   "outputs": [],
   "source": [
    "#Construct strings with escaped { }\n",
    "insert_sql2=f'''\n",
    "INSERT INTO {existing_schema}.{new_table} (info) VALUES ('{{\"customer\":\"John Doe\",\"items\":{{\"product\":\"Beer\",\"qty\":6}}}}')\n",
    "'''\n",
    "print(insert_sql2)"
   ]
  },
  {
   "cell_type": "code",
   "execution_count": null,
   "metadata": {},
   "outputs": [],
   "source": [
    "cur.execute(insert_sql2)"
   ]
  },
  {
   "cell_type": "code",
   "execution_count": null,
   "metadata": {},
   "outputs": [],
   "source": [
    "insert_sql3=f'''\n",
    "INSERT INTO {existing_schema}.{new_table} (info) VALUES \n",
    "      ('{{ \"customer\": \"Lily Bush\", \"items\": {{\"product\": \"Diaper\",\"qty\": 24}}}}'),\n",
    "      ('{{ \"customer\": \"Josh William\", \"items\": {{\"product\": \"Toy Car\",\"qty\": 1}}}}'),\n",
    "      ('{{ \"customer\": \"Mary Clark\", \"items\": {{\"product\": \"Toy Train\",\"qty\": 2}}}}');\n",
    "'''\n",
    "print(insert_sql3)"
   ]
  },
  {
   "cell_type": "code",
   "execution_count": null,
   "metadata": {},
   "outputs": [],
   "source": [
    "cur.execute(insert_sql3)"
   ]
  },
  {
   "cell_type": "code",
   "execution_count": null,
   "metadata": {},
   "outputs": [],
   "source": [
    "insert_sql4=f'''\n",
    "INSERT INTO {existing_schema}.{new_table} (info) VALUES \n",
    "      ('{{ \"customer\": \"Lily Bush\", \"country\":\"US\" , \"items\": {{\"product\": \"Diaper\",\"qty\": 24}}}}'),\n",
    "      ('{{ \"customer\": \"Josh William\",\"country\": \"NL\", \"items\": {{\"product\": \"Toy Car\",\"qty\": 1}}}}'),\n",
    "      ('{{ \"customer\": \"Mary Clark\",\"country\": \"UK\", \"items\": {{\"product\": \"Toy Train\",\"qty\": 2}}}}');\n",
    "'''\n",
    "print(insert_sql4)"
   ]
  },
  {
   "cell_type": "code",
   "execution_count": null,
   "metadata": {},
   "outputs": [],
   "source": [
    "cur.execute(insert_sql4)"
   ]
  },
  {
   "cell_type": "code",
   "execution_count": null,
   "metadata": {},
   "outputs": [],
   "source": [
    "#CREATE JSON READ QUERY\n",
    "select_json=f'select * from {existing_schema}.{new_table} where info->>\\'country\\'=\\'US\\';'\n",
    "print(select_json)"
   ]
  },
  {
   "cell_type": "code",
   "execution_count": null,
   "metadata": {},
   "outputs": [],
   "source": [
    "cur.execute(select_json)\n",
    "customers=cur.fetchall()"
   ]
  },
  {
   "cell_type": "code",
   "execution_count": null,
   "metadata": {},
   "outputs": [],
   "source": [
    "for a_customer in customers:\n",
    "    print(a_customer)"
   ]
  },
  {
   "cell_type": "code",
   "execution_count": null,
   "metadata": {},
   "outputs": [],
   "source": [
    "#CREATE NESTED JSON QUERY\n",
    "select_json2=f'select * from {existing_schema}.{new_table} where info->\\'items\\'->>\\'product\\'=\\'Diaper\\';'\n",
    "print(select_json2)"
   ]
  },
  {
   "cell_type": "code",
   "execution_count": null,
   "metadata": {},
   "outputs": [],
   "source": [
    "cur.execute(select_json)\n",
    "customers=cur.fetchall()"
   ]
  },
  {
   "cell_type": "code",
   "execution_count": null,
   "metadata": {},
   "outputs": [],
   "source": [
    "for a_customer in customers:\n",
    "    print(a_customer)"
   ]
  },
  {
   "cell_type": "code",
   "execution_count": null,
   "metadata": {},
   "outputs": [],
   "source": [
    "#IMPORTANT NOTES\n",
    "#Using '->>' returns query result as text, which is usefull for comparison.\n",
    "#Using '->' returns a json object, which helps you query deeper json values ( as shown above )"
   ]
  },
  {
   "cell_type": "code",
   "execution_count": null,
   "metadata": {},
   "outputs": [],
   "source": [
    "### Working with booleans\n",
    "insert_sql5=f'''\n",
    "INSERT INTO {existing_schema}.{new_table} (info) VALUES \n",
    "      ('{{ \"customer\": \"James Kirk\", \"starshipregistry\":\"NCC-1701\" ,\"customerdiscount\":\"true\", \"items\": {{\"product\": \"Diaper\",\"qty\": 24}}}}'),\n",
    "      ('{{ \"customer\": \"Pavel Chekov\",\"starshipregistry\": \"NCC-1701\",\"customerdiscount\":\"true\", \"items\": {{\"product\": \"Toy Car\",\"qty\": 1}}}}'),\n",
    "      ('{{ \"customer\": \"Hikaru Sulu\",\"starshipregistry\": \"NCC-1701\",\"customerdiscount\":\"true\", \"items\": {{\"product\": \"Toy Train\",\"qty\": 2}}}}');\n",
    "'''\n",
    "print(insert_sql5)"
   ]
  },
  {
   "cell_type": "code",
   "execution_count": null,
   "metadata": {},
   "outputs": [],
   "source": [
    "cur.execute(insert_sql5)"
   ]
  },
  {
   "cell_type": "code",
   "execution_count": null,
   "metadata": {},
   "outputs": [],
   "source": [
    "#Create a boolean query using f-strings, and postgress casting\n",
    "select_json3=f'select * from {existing_schema}.{new_table} where (info->>\\'customerdiscount\\')::boolean is true;'\n",
    "print(select_json3)\n"
   ]
  },
  {
   "cell_type": "code",
   "execution_count": null,
   "metadata": {},
   "outputs": [],
   "source": [
    "#IMPORTANT - (info->>'customerdiscount')::boolean\n",
    "#Here we are returning a json text query from the table info,       info->>'customerdiscount'\n",
    "#We are then wrapping the return in brackets (info->>'customerdiscount')\n",
    "#And then we finaly cast the text to a boolean value using ::boolean\n",
    "#\n",
    "#(info->>'customerdiscount')::boolean\n",
    "#\n",
    "#We have covered casting using python, here we have used casting in SQL for the POSTGRES database.\n"
   ]
  },
  {
   "cell_type": "code",
   "execution_count": null,
   "metadata": {},
   "outputs": [],
   "source": [
    "cur.execute(select_json3)\n",
    "customers=cur.fetchall()"
   ]
  },
  {
   "cell_type": "code",
   "execution_count": null,
   "metadata": {},
   "outputs": [],
   "source": [
    "for a_customer in customers:\n",
    "    print(a_customer)"
   ]
  },
  {
   "cell_type": "code",
   "execution_count": null,
   "metadata": {},
   "outputs": [],
   "source": []
  }
 ],
 "metadata": {
  "kernelspec": {
   "display_name": "Python 3",
   "language": "python",
   "name": "python3"
  },
  "language_info": {
   "codemirror_mode": {
    "name": "ipython",
    "version": 3
   },
   "file_extension": ".py",
   "mimetype": "text/x-python",
   "name": "python",
   "nbconvert_exporter": "python",
   "pygments_lexer": "ipython3",
   "version": "3.8.5"
  }
 },
 "nbformat": 4,
 "nbformat_minor": 4
}
