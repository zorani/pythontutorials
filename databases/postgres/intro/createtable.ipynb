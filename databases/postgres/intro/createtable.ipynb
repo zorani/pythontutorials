{
 "cells": [
  {
   "cell_type": "code",
   "execution_count": null,
   "metadata": {},
   "outputs": [],
   "source": [
    "#Creating tables ( CRUD )"
   ]
  },
  {
   "cell_type": "code",
   "execution_count": null,
   "metadata": {},
   "outputs": [],
   "source": [
    "import psycopg2\n",
    "from jettings import Jettings\n",
    "import os"
   ]
  },
  {
   "cell_type": "code",
   "execution_count": null,
   "metadata": {},
   "outputs": [],
   "source": [
    "password_file=\"~/database.secrets\"\n",
    "\n",
    "password_file=os.path.expanduser(password_file)\n",
    "password_file=os.path.abspath(password_file)\n",
    "\n",
    "if(not os.path.exists(password_file)):\n",
    "    print(\"File doesn't exist!\")\n",
    "    my_settings=Jettings(password_file)\n",
    "    my_settings.sets(['tutorial','db_host'],\"*****\")\n",
    "    my_settings.sets(['tutorial','db_username'],\"*****\")\n",
    "    my_settings.sets(['tutorial','db_password'],\"*****\")\n",
    "    my_settings.sets(['tutorial','db_name'],\"*****\")\n",
    "    my_settings.sets(['tutorial','db_schema'],\"*****\")\n",
    "    my_settings.sets(['tutorial','editlock'],\"*****\")\n",
    "else:\n",
    "    my_settings=Jettings(password_file)\n",
    "    print(\"File exists!\")\n",
    "    edit_lock=my_settings.exists(['tutorial','editlock'])\n",
    "    if(edit_lock):\n",
    "        message=\"Please add connection details to file: \"+str(password_file)+\"\\nand delete the edit lock.\"\n",
    "        print(message)\n",
    "    else:\n",
    "        db_host=my_settings.gets(['tutorial','db_host'])\n",
    "        db_username=my_settings.gets(['tutorial','db_username'])\n",
    "        db_password=my_settings.gets(['tutorial','db_password'])\n",
    "        db_name=my_settings.gets(['tutorial','db_name'])\n",
    "        db_schema=my_settings.gets(['tutorial','db_schema'])\n",
    "        print(\"Connection credentials retrieved!\")\n",
    "        \n",
    "        \n",
    "        \n",
    "        \n"
   ]
  },
  {
   "cell_type": "code",
   "execution_count": null,
   "metadata": {},
   "outputs": [],
   "source": [
    "conn = None\n",
    "try:\n",
    "    conn=psycopg2.connect(host=db_host,\n",
    "                          user=db_username,\n",
    "                          password=db_password,\n",
    "                          database=db_name)\n",
    "    print(\"Connecting to the database...\")\n",
    "except (Exception, psycopg2.DatabaseError) as banana:\n",
    "    print(banana)"
   ]
  },
  {
   "cell_type": "code",
   "execution_count": null,
   "metadata": {},
   "outputs": [],
   "source": [
    "existing_schema=\"zokitools\"\n",
    "new_table=\"customers\"\n",
    "#F-String\n",
    "does_table_exist_query=f'''\n",
    "SELECT EXISTS(SELECT 1 FROM information_schema.tables WHERE\n",
    "table_schema=\\'{existing_schema}\\' \n",
    "AND table_name=\\'{new_table}\\') \n",
    "'''\n",
    "print(does_table_exist_query)"
   ]
  },
  {
   "cell_type": "code",
   "execution_count": null,
   "metadata": {},
   "outputs": [],
   "source": [
    "cur=conn.cursor()\n",
    "cur.execute(does_table_exist_query)\n",
    "result=cur.fetchone()[0]\n",
    "if (result==False):\n",
    "    print(\"Lets create the table\")"
   ]
  },
  {
   "cell_type": "code",
   "execution_count": null,
   "metadata": {},
   "outputs": [],
   "source": [
    "create_table=f'''\n",
    "CREATE TABLE IF NOT EXISTS {existing_schema}.{new_table}(\n",
    "    user_id SERIAL PRIMARY KEY,\n",
    "    firstname VARCHAR(50),\n",
    "    secondname VARCHAR(50)\n",
    "    )\n",
    "'''\n"
   ]
  },
  {
   "cell_type": "code",
   "execution_count": null,
   "metadata": {},
   "outputs": [],
   "source": [
    "print(create_table)"
   ]
  },
  {
   "cell_type": "code",
   "execution_count": null,
   "metadata": {},
   "outputs": [],
   "source": [
    "cur=conn.cursor()\n",
    "cur.execute(create_table)"
   ]
  },
  {
   "cell_type": "code",
   "execution_count": null,
   "metadata": {},
   "outputs": [],
   "source": [
    "cur.close()\n",
    "conn.commit()\n",
    "conn.close()"
   ]
  },
  {
   "cell_type": "code",
   "execution_count": null,
   "metadata": {},
   "outputs": [],
   "source": []
  }
 ],
 "metadata": {
  "kernelspec": {
   "display_name": "Python 3",
   "language": "python",
   "name": "python3"
  },
  "language_info": {
   "codemirror_mode": {
    "name": "ipython",
    "version": 3
   },
   "file_extension": ".py",
   "mimetype": "text/x-python",
   "name": "python",
   "nbconvert_exporter": "python",
   "pygments_lexer": "ipython3",
   "version": "3.8.2"
  }
 },
 "nbformat": 4,
 "nbformat_minor": 4
}
