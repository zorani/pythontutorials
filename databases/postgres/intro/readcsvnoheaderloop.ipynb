{
 "cells": [
  {
   "cell_type": "code",
   "execution_count": null,
   "metadata": {},
   "outputs": [],
   "source": [
    "#Read in a CSV with no headers, then insert into database."
   ]
  },
  {
   "cell_type": "code",
   "execution_count": null,
   "metadata": {},
   "outputs": [],
   "source": [
    "import psycopg2\n",
    "from jettings import Jettings\n",
    "import os"
   ]
  },
  {
   "cell_type": "code",
   "execution_count": null,
   "metadata": {},
   "outputs": [],
   "source": [
    "password_file=\"~/database.secrets\"\n",
    "\n",
    "password_file=os.path.expanduser(password_file)\n",
    "password_file=os.path.abspath(password_file)\n",
    "\n",
    "if(not os.path.exists(password_file)):\n",
    "    print(\"File doesn't exist!\")\n",
    "    my_settings=Jettings(password_file)\n",
    "    my_settings.sets(['tutorial','db_host'],\"*****\")\n",
    "    my_settings.sets(['tutorial','db_username'],\"*****\")\n",
    "    my_settings.sets(['tutorial','db_password'],\"*****\")\n",
    "    my_settings.sets(['tutorial','db_name'],\"*****\")\n",
    "    my_settings.sets(['tutorial','db_schema'],\"*****\")\n",
    "    my_settings.sets(['tutorial','editlock'],\"*****\")\n",
    "else:\n",
    "    my_settings=Jettings(password_file)\n",
    "    print(\"File exists!\")\n",
    "    edit_lock=my_settings.exists(['tutorial','editlock'])\n",
    "    if(edit_lock):\n",
    "        message=\"Please add connection details to file: \"+str(password_file)+\"\\nand delete the edit lock.\"\n",
    "        print(message)\n",
    "    else:\n",
    "        db_host=my_settings.gets(['tutorial','db_host'])\n",
    "        db_username=my_settings.gets(['tutorial','db_username'])\n",
    "        db_password=my_settings.gets(['tutorial','db_password'])\n",
    "        db_name=my_settings.gets(['tutorial','db_name'])\n",
    "        db_schema=my_settings.gets(['tutorial','db_schema'])\n",
    "        print(\"Connection credentials retrieved!\")\n",
    "        \n",
    "        \n",
    "        \n",
    "        \n"
   ]
  },
  {
   "cell_type": "code",
   "execution_count": null,
   "metadata": {},
   "outputs": [],
   "source": [
    "conn = None\n",
    "try:\n",
    "    conn=psycopg2.connect(host=db_host,\n",
    "                          user=db_username,\n",
    "                          password=db_password,\n",
    "                          database=db_name)\n",
    "    print(\"Connecting to the database...\")\n",
    "    conn.autocommit = True\n",
    "except (Exception, psycopg2.DatabaseError) as banana:\n",
    "    print(banana)"
   ]
  },
  {
   "cell_type": "code",
   "execution_count": null,
   "metadata": {},
   "outputs": [],
   "source": [
    "mydatadir=\"/home/zokitools/mydata/\"\n",
    "myfilename=\"testinput2.csv\"\n",
    "\n",
    "myfilepath=mydatadir+myfilename\n",
    "print(myfilepath)"
   ]
  },
  {
   "cell_type": "code",
   "execution_count": null,
   "metadata": {},
   "outputs": [],
   "source": [
    "with open(myfilepath,'rt') as mybananadata:\n",
    "    for line in mybananadata:\n",
    "        print(line, end=\"\")"
   ]
  },
  {
   "cell_type": "code",
   "execution_count": null,
   "metadata": {},
   "outputs": [],
   "source": [
    "with open(myfilepath,'rt') as mybananadata:\n",
    "    for line in mybananadata:\n",
    "        line=line.rstrip()\n",
    "        split_line=line.split(\"|\")\n",
    "        print(split_line,end=\"\")\n",
    "        print(type(split_line),end=\"\")\n",
    "    "
   ]
  },
  {
   "cell_type": "code",
   "execution_count": null,
   "metadata": {},
   "outputs": [],
   "source": [
    "#Choose target schema and database\n",
    "existing_schema=\"zokitools\"\n",
    "existing_table=\"customers\"\n",
    "field_tuple_string='(firstname,secondname)'"
   ]
  },
  {
   "cell_type": "code",
   "execution_count": null,
   "metadata": {},
   "outputs": [],
   "source": [
    "#Build and sqlstatement and loop to insert csv data\n",
    "with open(myfilepath,'rt') as mybananadata:\n",
    "    for line in mybananadata:\n",
    "        line=line.rstrip()\n",
    "        split_line=line.split(\"|\")\n",
    "        tuple_record=tuple(split_line)\n",
    "        insert_sql=f'INSERT INTO {existing_schema}.{existing_table} {field_tuple_string} VALUES {tuple_record}'\n",
    "        print(insert_sql)\n",
    "\n"
   ]
  },
  {
   "cell_type": "code",
   "execution_count": null,
   "metadata": {},
   "outputs": [],
   "source": [
    "cur=conn.cursor()\n",
    "#Build and sqlstatement and loop to insert csv data\n",
    "with open(myfilepath,'rt') as mybananadata:\n",
    "    for line in mybananadata:\n",
    "        line=line.rstrip()\n",
    "        split_line=line.split(\"|\")\n",
    "        tuple_record=tuple(split_line)\n",
    "        insert_sql=f'INSERT INTO {existing_schema}.{existing_table} {field_tuple_string} VALUES {tuple_record}'\n",
    "        cur.execute(insert_sql)"
   ]
  },
  {
   "cell_type": "code",
   "execution_count": null,
   "metadata": {},
   "outputs": [],
   "source": [
    "cur.close()\n",
    "conn.close()"
   ]
  },
  {
   "cell_type": "code",
   "execution_count": null,
   "metadata": {},
   "outputs": [],
   "source": []
  }
 ],
 "metadata": {
  "kernelspec": {
   "display_name": "Python 3",
   "language": "python",
   "name": "python3"
  },
  "language_info": {
   "codemirror_mode": {
    "name": "ipython",
    "version": 3
   },
   "file_extension": ".py",
   "mimetype": "text/x-python",
   "name": "python",
   "nbconvert_exporter": "python",
   "pygments_lexer": "ipython3",
   "version": "3.8.5"
  }
 },
 "nbformat": 4,
 "nbformat_minor": 4
}
