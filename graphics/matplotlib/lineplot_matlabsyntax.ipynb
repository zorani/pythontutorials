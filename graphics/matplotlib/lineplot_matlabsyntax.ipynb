{
 "cells": [
  {
   "cell_type": "code",
   "execution_count": null,
   "metadata": {},
   "outputs": [],
   "source": [
    "#Working with simple line plot (MATLAB syntax)\n",
    "import os\n",
    "from matplotlib import pyplot as plt\n",
    "plt.style.use('seaborn-whitegrid')\n"
   ]
  },
  {
   "cell_type": "code",
   "execution_count": null,
   "metadata": {},
   "outputs": [],
   "source": [
    "dataset1=[0,1,2,3,4,5,6,7,8,9,10]\n",
    "dataset2=[0,1,2,3,4,5,6,7,8,9,10]\n",
    "dataset3=[0,1,4,9,16,25,36,49,64,81,100]"
   ]
  },
  {
   "cell_type": "code",
   "execution_count": null,
   "metadata": {},
   "outputs": [],
   "source": [
    "#matplotlib\n",
    "plt.figure\n",
    "x=dataset1.copy()\n",
    "y=dataset2.copy()\n",
    "plt.plot(x,y)\n",
    "plt.xlabel(\"x-axis\")\n",
    "plt.ylabel(\"y-axis\")\n",
    "plt.title(\"Your title goes here!!!\")\n",
    "if(os.path.exists(\"/home/zokitools/mydata/singlelineplot.png\")):\n",
    "    os.remove(\"/home/zokitools/mydata/singlelineplot.png\")\n",
    "plt.savefig(\"/home/zokitools/mydata/singlelineplot.png\",format='png')\n",
    "plt.show()"
   ]
  },
  {
   "cell_type": "code",
   "execution_count": null,
   "metadata": {},
   "outputs": [],
   "source": [
    "\n"
   ]
  },
  {
   "cell_type": "code",
   "execution_count": null,
   "metadata": {},
   "outputs": [],
   "source": [
    "plt.figure\n",
    "x=dataset1.copy()\n",
    "y=dataset3.copy()\n",
    "plt.plot(x,y)\n",
    "plt.xlabel(\"x-axis\")\n",
    "plt.ylabel(\"y-axis\")\n",
    "plt.title(\"My new results!!!\")\n",
    "if(os.path.exists(\"/home/zokitools/mydata/singleexplineplot.pdf\")):\n",
    "    os.remove(\"/home/zokitools/mydata/singleexplineplot.pdf\")\n",
    "if(os.path.exists(\"/home/zokitools/mydata/singleexplineplot.png\")):\n",
    "    os.remove(\"/home/zokitools/mydata/singleexplineplot.png\")\n",
    "plt.savefig(\"/home/zokitools/mydata/singleexplineplot.pdf\",format='pdf')\n",
    "plt.savefig(\"/home/zokitools/mydata/singleexplineplot.png\",format='png')\n",
    "plt.show()"
   ]
  },
  {
   "cell_type": "code",
   "execution_count": null,
   "metadata": {},
   "outputs": [],
   "source": []
  },
  {
   "cell_type": "code",
   "execution_count": null,
   "metadata": {},
   "outputs": [],
   "source": []
  }
 ],
 "metadata": {
  "kernelspec": {
   "display_name": "Python 3",
   "language": "python",
   "name": "python3"
  },
  "language_info": {
   "codemirror_mode": {
    "name": "ipython",
    "version": 3
   },
   "file_extension": ".py",
   "mimetype": "text/x-python",
   "name": "python",
   "nbconvert_exporter": "python",
   "pygments_lexer": "ipython3",
   "version": "3.8.2"
  }
 },
 "nbformat": 4,
 "nbformat_minor": 4
}
