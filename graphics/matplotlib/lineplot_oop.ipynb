{
 "cells": [
  {
   "cell_type": "code",
   "execution_count": null,
   "metadata": {},
   "outputs": [],
   "source": [
    "#working with line plots - OOP syntax"
   ]
  },
  {
   "cell_type": "code",
   "execution_count": null,
   "metadata": {},
   "outputs": [],
   "source": [
    "import os\n",
    "from matplotlib import pyplot as plt\n",
    "plt.style.use('seaborn-whitegrid')"
   ]
  },
  {
   "cell_type": "code",
   "execution_count": null,
   "metadata": {},
   "outputs": [],
   "source": [
    "dataset1=[0,1,2,3,4,5,6,7,8,9,10]\n",
    "timespentinoffice=[0,1,2,3,4,5,6,7,8,9,10]\n",
    "hungerlevel=[0,1,4,9,16,25,36,49,64,81,100]"
   ]
  },
  {
   "cell_type": "code",
   "execution_count": null,
   "metadata": {},
   "outputs": [],
   "source": [
    "fig1=plt.figure()\n",
    "print(type(fig1))\n",
    "fig1ax=fig1.add_subplot(1,1,1)\n",
    "x=timespentinoffice\n",
    "y=hungerlevel\n",
    "fig1ax.plot(x,y)\n",
    "fig1ax.set_xlabel(\"Time spent in office (hours)\")\n",
    "fig1ax.set_ylabel(\"Hunger level\")\n",
    "fig1ax.set_title(\"Hungry Games\")\n",
    "if(os.path.exists(\"/home/zokitools/mydata/hungrygames.png\")):\n",
    "    os.remove(\"/home/zokitools/mydata/hungrygames.png\")\n",
    "plt.savefig(\"/home/zokitools/mydata/hungrygames.png\",format=\"png\")\n",
    "plt.show()\n"
   ]
  },
  {
   "cell_type": "code",
   "execution_count": null,
   "metadata": {},
   "outputs": [],
   "source": []
  },
  {
   "cell_type": "code",
   "execution_count": null,
   "metadata": {},
   "outputs": [],
   "source": [
    "bananachart=plt.figure()\n",
    "bananachartax=bananachart.add_subplot(1,1,1)\n",
    "bananachartax.plot(timespentinoffice,hungerlevel)\n",
    "bananachartax.set_xlabel(\"x-axis\")\n",
    "bananachartax.set_ylabel(\"y-axis\")\n",
    "bananachartax.set_title(\"Title\")\n",
    "plt.show()"
   ]
  },
  {
   "cell_type": "code",
   "execution_count": null,
   "metadata": {},
   "outputs": [],
   "source": [
    "fig1ax.set_title(\"My NEW TITLE\")\n",
    "fig1"
   ]
  },
  {
   "cell_type": "code",
   "execution_count": null,
   "metadata": {},
   "outputs": [],
   "source": [
    "#Working with multiple plots\n"
   ]
  },
  {
   "cell_type": "code",
   "execution_count": null,
   "metadata": {},
   "outputs": [],
   "source": [
    "fig2 = plt.figure()\n",
    "fig2ax1=fig2.add_subplot(1,2,1)\n",
    "fig2ax1.plot(timespentinoffice,hungerlevel)\n",
    "fig2ax1.set_xlabel(\"x-axis\")\n",
    "fig2ax1.set_ylabel(\"y-axis\")\n",
    "fig2ax1.set_title(\"Title\")\n",
    "fig2ax2=fig2.add_subplot(1,2,2)\n",
    "fig2ax2.plot(dataset1,timespentinoffice)\n",
    "fig2ax2.set_xlabel(\"x-axis\")\n",
    "fig2ax2.set_ylabel(\"y-axis\")\n",
    "fig2ax2.set_title(\"Title\")\n",
    "fig2.tight_layout(pad=5)\n",
    "plt.show()\n"
   ]
  },
  {
   "cell_type": "code",
   "execution_count": null,
   "metadata": {},
   "outputs": [],
   "source": [
    "fig3,fig3ax = plt.subplots(4)\n",
    "fig3ax[0].plot(dataset1,timespentinoffice)\n",
    "fig3ax[1].plot(timespentinoffice,hungerlevel)\n",
    "fig3ax[2].plot(dataset1,hungerlevel)\n",
    "fig3ax[3].plot(hungerlevel,timespentinoffice)\n",
    "plt.show()\n"
   ]
  },
  {
   "cell_type": "code",
   "execution_count": null,
   "metadata": {},
   "outputs": [],
   "source": [
    "fig4,fig4ax = plt.subplots(4,figsize=(14,14))\n",
    "fig4ax[0].plot(dataset1,timespentinoffice,linestyle=\":\",color='red')\n",
    "fig4ax[0].set_title(\"A TITLE\")\n",
    "fig4ax[1].plot(timespentinoffice,hungerlevel,linestyle=\"-\",color='#cc0099')\n",
    "fig4ax[2].plot(dataset1,hungerlevel,\"--g\")\n",
    "fig4ax[3].plot(hungerlevel,timespentinoffice,linestyle=\"-.\")\n",
    "fig4.tight_layout(pad=3)\n",
    "fig4.suptitle(\"A TITLE FOR ALL 4 CHARTS\")\n",
    "if(os.path.exists(\"/home/zokitools/mydata/4chartsplot.png\")):\n",
    "    os.remove(\"/home/zokitools/mydata/4chartsplot.png\")\n",
    "plt.savefig(\"/home/zokitools/mydata/4chartsplot.png\",format=\"png\")\n",
    "plt.show()"
   ]
  },
  {
   "cell_type": "code",
   "execution_count": null,
   "metadata": {},
   "outputs": [],
   "source": [
    "fig5,fig5ax = plt.subplots(1,figsize=(7,7))\n",
    "fig5ax.plot(dataset1,timespentinoffice,linestyle=\":\",color='red',label='liner')\n",
    "fig5ax.plot(timespentinoffice,hungerlevel,linestyle=\"-\",color='green',label='exp')\n",
    "fig5.tight_layout(pad=3)\n",
    "plt.legend()\n",
    "if(os.path.exists(\"/home/zokitools/mydata/legendplots.png\")):\n",
    "    os.remove(\"/home/zokitools/mydata/legendplots.png\")\n",
    "plt.savefig(\"/home/zokitools/mydata/legendplots.png\",format=\"png\")\n",
    "plt.show()"
   ]
  },
  {
   "cell_type": "code",
   "execution_count": null,
   "metadata": {},
   "outputs": [],
   "source": []
  }
 ],
 "metadata": {
  "kernelspec": {
   "display_name": "Python 3",
   "language": "python",
   "name": "python3"
  },
  "language_info": {
   "codemirror_mode": {
    "name": "ipython",
    "version": 3
   },
   "file_extension": ".py",
   "mimetype": "text/x-python",
   "name": "python",
   "nbconvert_exporter": "python",
   "pygments_lexer": "ipython3",
   "version": "3.8.2"
  }
 },
 "nbformat": 4,
 "nbformat_minor": 4
}
